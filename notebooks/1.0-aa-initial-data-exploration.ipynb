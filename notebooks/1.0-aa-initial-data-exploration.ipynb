{
 "cells": [
  {
   "cell_type": "code",
   "execution_count": 1,
   "id": "0b0d1464-7348-4a45-909f-c013d17fa4bb",
   "metadata": {},
   "outputs": [],
   "source": [
    "import pandas as pd\n",
    "import matplotlib.pyplot as plt\n",
    "import seaborn as sns"
   ]
  },
  {
   "cell_type": "markdown",
   "id": "76bb591f-012b-4073-83ec-df96ae8ed72b",
   "metadata": {},
   "source": [
    "# Load Data"
   ]
  },
  {
   "cell_type": "code",
   "execution_count": 2,
   "id": "14ea2e53-a7b7-4566-9479-397fd2c3488f",
   "metadata": {},
   "outputs": [
    {
     "ename": "FileNotFoundError",
     "evalue": "[Errno 2] No such file or directory: '../data/processed/drugs.csv'",
     "output_type": "error",
     "traceback": [
      "\u001b[0;31m---------------------------------------------------------------------------\u001b[0m",
      "\u001b[0;31mFileNotFoundError\u001b[0m                         Traceback (most recent call last)",
      "\u001b[0;32m/var/folders/7w/q4x22cwn3zxb53k5sll6nzf40000gn/T/ipykernel_18512/1251337648.py\u001b[0m in \u001b[0;36m<module>\u001b[0;34m\u001b[0m\n\u001b[0;32m----> 1\u001b[0;31m \u001b[0mdf\u001b[0m \u001b[0;34m=\u001b[0m \u001b[0mpd\u001b[0m\u001b[0;34m.\u001b[0m\u001b[0mread_csv\u001b[0m\u001b[0;34m(\u001b[0m\u001b[0;34m'../data/processed/drugs.csv'\u001b[0m\u001b[0;34m)\u001b[0m\u001b[0;34m\u001b[0m\u001b[0;34m\u001b[0m\u001b[0m\n\u001b[0m",
      "\u001b[0;32m~/opt/miniconda3/envs/ADS502/lib/python3.9/site-packages/pandas/io/parsers.py\u001b[0m in \u001b[0;36mread_csv\u001b[0;34m(filepath_or_buffer, sep, delimiter, header, names, index_col, usecols, squeeze, prefix, mangle_dupe_cols, dtype, engine, converters, true_values, false_values, skipinitialspace, skiprows, skipfooter, nrows, na_values, keep_default_na, na_filter, verbose, skip_blank_lines, parse_dates, infer_datetime_format, keep_date_col, date_parser, dayfirst, cache_dates, iterator, chunksize, compression, thousands, decimal, lineterminator, quotechar, quoting, doublequote, escapechar, comment, encoding, dialect, error_bad_lines, warn_bad_lines, delim_whitespace, low_memory, memory_map, float_precision, storage_options)\u001b[0m\n\u001b[1;32m    608\u001b[0m     \u001b[0mkwds\u001b[0m\u001b[0;34m.\u001b[0m\u001b[0mupdate\u001b[0m\u001b[0;34m(\u001b[0m\u001b[0mkwds_defaults\u001b[0m\u001b[0;34m)\u001b[0m\u001b[0;34m\u001b[0m\u001b[0;34m\u001b[0m\u001b[0m\n\u001b[1;32m    609\u001b[0m \u001b[0;34m\u001b[0m\u001b[0m\n\u001b[0;32m--> 610\u001b[0;31m     \u001b[0;32mreturn\u001b[0m \u001b[0m_read\u001b[0m\u001b[0;34m(\u001b[0m\u001b[0mfilepath_or_buffer\u001b[0m\u001b[0;34m,\u001b[0m \u001b[0mkwds\u001b[0m\u001b[0;34m)\u001b[0m\u001b[0;34m\u001b[0m\u001b[0;34m\u001b[0m\u001b[0m\n\u001b[0m\u001b[1;32m    611\u001b[0m \u001b[0;34m\u001b[0m\u001b[0m\n\u001b[1;32m    612\u001b[0m \u001b[0;34m\u001b[0m\u001b[0m\n",
      "\u001b[0;32m~/opt/miniconda3/envs/ADS502/lib/python3.9/site-packages/pandas/io/parsers.py\u001b[0m in \u001b[0;36m_read\u001b[0;34m(filepath_or_buffer, kwds)\u001b[0m\n\u001b[1;32m    460\u001b[0m \u001b[0;34m\u001b[0m\u001b[0m\n\u001b[1;32m    461\u001b[0m     \u001b[0;31m# Create the parser.\u001b[0m\u001b[0;34m\u001b[0m\u001b[0;34m\u001b[0m\u001b[0;34m\u001b[0m\u001b[0m\n\u001b[0;32m--> 462\u001b[0;31m     \u001b[0mparser\u001b[0m \u001b[0;34m=\u001b[0m \u001b[0mTextFileReader\u001b[0m\u001b[0;34m(\u001b[0m\u001b[0mfilepath_or_buffer\u001b[0m\u001b[0;34m,\u001b[0m \u001b[0;34m**\u001b[0m\u001b[0mkwds\u001b[0m\u001b[0;34m)\u001b[0m\u001b[0;34m\u001b[0m\u001b[0;34m\u001b[0m\u001b[0m\n\u001b[0m\u001b[1;32m    463\u001b[0m \u001b[0;34m\u001b[0m\u001b[0m\n\u001b[1;32m    464\u001b[0m     \u001b[0;32mif\u001b[0m \u001b[0mchunksize\u001b[0m \u001b[0;32mor\u001b[0m \u001b[0miterator\u001b[0m\u001b[0;34m:\u001b[0m\u001b[0;34m\u001b[0m\u001b[0;34m\u001b[0m\u001b[0m\n",
      "\u001b[0;32m~/opt/miniconda3/envs/ADS502/lib/python3.9/site-packages/pandas/io/parsers.py\u001b[0m in \u001b[0;36m__init__\u001b[0;34m(self, f, engine, **kwds)\u001b[0m\n\u001b[1;32m    817\u001b[0m             \u001b[0mself\u001b[0m\u001b[0;34m.\u001b[0m\u001b[0moptions\u001b[0m\u001b[0;34m[\u001b[0m\u001b[0;34m\"has_index_names\"\u001b[0m\u001b[0;34m]\u001b[0m \u001b[0;34m=\u001b[0m \u001b[0mkwds\u001b[0m\u001b[0;34m[\u001b[0m\u001b[0;34m\"has_index_names\"\u001b[0m\u001b[0;34m]\u001b[0m\u001b[0;34m\u001b[0m\u001b[0;34m\u001b[0m\u001b[0m\n\u001b[1;32m    818\u001b[0m \u001b[0;34m\u001b[0m\u001b[0m\n\u001b[0;32m--> 819\u001b[0;31m         \u001b[0mself\u001b[0m\u001b[0;34m.\u001b[0m\u001b[0m_engine\u001b[0m \u001b[0;34m=\u001b[0m \u001b[0mself\u001b[0m\u001b[0;34m.\u001b[0m\u001b[0m_make_engine\u001b[0m\u001b[0;34m(\u001b[0m\u001b[0mself\u001b[0m\u001b[0;34m.\u001b[0m\u001b[0mengine\u001b[0m\u001b[0;34m)\u001b[0m\u001b[0;34m\u001b[0m\u001b[0;34m\u001b[0m\u001b[0m\n\u001b[0m\u001b[1;32m    820\u001b[0m \u001b[0;34m\u001b[0m\u001b[0m\n\u001b[1;32m    821\u001b[0m     \u001b[0;32mdef\u001b[0m \u001b[0mclose\u001b[0m\u001b[0;34m(\u001b[0m\u001b[0mself\u001b[0m\u001b[0;34m)\u001b[0m\u001b[0;34m:\u001b[0m\u001b[0;34m\u001b[0m\u001b[0;34m\u001b[0m\u001b[0m\n",
      "\u001b[0;32m~/opt/miniconda3/envs/ADS502/lib/python3.9/site-packages/pandas/io/parsers.py\u001b[0m in \u001b[0;36m_make_engine\u001b[0;34m(self, engine)\u001b[0m\n\u001b[1;32m   1048\u001b[0m             )\n\u001b[1;32m   1049\u001b[0m         \u001b[0;31m# error: Too many arguments for \"ParserBase\"\u001b[0m\u001b[0;34m\u001b[0m\u001b[0;34m\u001b[0m\u001b[0;34m\u001b[0m\u001b[0m\n\u001b[0;32m-> 1050\u001b[0;31m         \u001b[0;32mreturn\u001b[0m \u001b[0mmapping\u001b[0m\u001b[0;34m[\u001b[0m\u001b[0mengine\u001b[0m\u001b[0;34m]\u001b[0m\u001b[0;34m(\u001b[0m\u001b[0mself\u001b[0m\u001b[0;34m.\u001b[0m\u001b[0mf\u001b[0m\u001b[0;34m,\u001b[0m \u001b[0;34m**\u001b[0m\u001b[0mself\u001b[0m\u001b[0;34m.\u001b[0m\u001b[0moptions\u001b[0m\u001b[0;34m)\u001b[0m  \u001b[0;31m# type: ignore[call-arg]\u001b[0m\u001b[0;34m\u001b[0m\u001b[0;34m\u001b[0m\u001b[0m\n\u001b[0m\u001b[1;32m   1051\u001b[0m \u001b[0;34m\u001b[0m\u001b[0m\n\u001b[1;32m   1052\u001b[0m     \u001b[0;32mdef\u001b[0m \u001b[0m_failover_to_python\u001b[0m\u001b[0;34m(\u001b[0m\u001b[0mself\u001b[0m\u001b[0;34m)\u001b[0m\u001b[0;34m:\u001b[0m\u001b[0;34m\u001b[0m\u001b[0;34m\u001b[0m\u001b[0m\n",
      "\u001b[0;32m~/opt/miniconda3/envs/ADS502/lib/python3.9/site-packages/pandas/io/parsers.py\u001b[0m in \u001b[0;36m__init__\u001b[0;34m(self, src, **kwds)\u001b[0m\n\u001b[1;32m   1865\u001b[0m \u001b[0;34m\u001b[0m\u001b[0m\n\u001b[1;32m   1866\u001b[0m         \u001b[0;31m# open handles\u001b[0m\u001b[0;34m\u001b[0m\u001b[0;34m\u001b[0m\u001b[0;34m\u001b[0m\u001b[0m\n\u001b[0;32m-> 1867\u001b[0;31m         \u001b[0mself\u001b[0m\u001b[0;34m.\u001b[0m\u001b[0m_open_handles\u001b[0m\u001b[0;34m(\u001b[0m\u001b[0msrc\u001b[0m\u001b[0;34m,\u001b[0m \u001b[0mkwds\u001b[0m\u001b[0;34m)\u001b[0m\u001b[0;34m\u001b[0m\u001b[0;34m\u001b[0m\u001b[0m\n\u001b[0m\u001b[1;32m   1868\u001b[0m         \u001b[0;32massert\u001b[0m \u001b[0mself\u001b[0m\u001b[0;34m.\u001b[0m\u001b[0mhandles\u001b[0m \u001b[0;32mis\u001b[0m \u001b[0;32mnot\u001b[0m \u001b[0;32mNone\u001b[0m\u001b[0;34m\u001b[0m\u001b[0;34m\u001b[0m\u001b[0m\n\u001b[1;32m   1869\u001b[0m         \u001b[0;32mfor\u001b[0m \u001b[0mkey\u001b[0m \u001b[0;32min\u001b[0m \u001b[0;34m(\u001b[0m\u001b[0;34m\"storage_options\"\u001b[0m\u001b[0;34m,\u001b[0m \u001b[0;34m\"encoding\"\u001b[0m\u001b[0;34m,\u001b[0m \u001b[0;34m\"memory_map\"\u001b[0m\u001b[0;34m,\u001b[0m \u001b[0;34m\"compression\"\u001b[0m\u001b[0;34m)\u001b[0m\u001b[0;34m:\u001b[0m\u001b[0;34m\u001b[0m\u001b[0;34m\u001b[0m\u001b[0m\n",
      "\u001b[0;32m~/opt/miniconda3/envs/ADS502/lib/python3.9/site-packages/pandas/io/parsers.py\u001b[0m in \u001b[0;36m_open_handles\u001b[0;34m(self, src, kwds)\u001b[0m\n\u001b[1;32m   1360\u001b[0m         \u001b[0mLet\u001b[0m \u001b[0mthe\u001b[0m \u001b[0mreaders\u001b[0m \u001b[0mopen\u001b[0m \u001b[0mIOHanldes\u001b[0m \u001b[0mafter\u001b[0m \u001b[0mthey\u001b[0m \u001b[0mare\u001b[0m \u001b[0mdone\u001b[0m \u001b[0;32mwith\u001b[0m \u001b[0mtheir\u001b[0m \u001b[0mpotential\u001b[0m \u001b[0mraises\u001b[0m\u001b[0;34m.\u001b[0m\u001b[0;34m\u001b[0m\u001b[0;34m\u001b[0m\u001b[0m\n\u001b[1;32m   1361\u001b[0m         \"\"\"\n\u001b[0;32m-> 1362\u001b[0;31m         self.handles = get_handle(\n\u001b[0m\u001b[1;32m   1363\u001b[0m             \u001b[0msrc\u001b[0m\u001b[0;34m,\u001b[0m\u001b[0;34m\u001b[0m\u001b[0;34m\u001b[0m\u001b[0m\n\u001b[1;32m   1364\u001b[0m             \u001b[0;34m\"r\"\u001b[0m\u001b[0;34m,\u001b[0m\u001b[0;34m\u001b[0m\u001b[0;34m\u001b[0m\u001b[0m\n",
      "\u001b[0;32m~/opt/miniconda3/envs/ADS502/lib/python3.9/site-packages/pandas/io/common.py\u001b[0m in \u001b[0;36mget_handle\u001b[0;34m(path_or_buf, mode, encoding, compression, memory_map, is_text, errors, storage_options)\u001b[0m\n\u001b[1;32m    645\u001b[0m                 \u001b[0merrors\u001b[0m \u001b[0;34m=\u001b[0m \u001b[0;34m\"replace\"\u001b[0m\u001b[0;34m\u001b[0m\u001b[0;34m\u001b[0m\u001b[0m\n\u001b[1;32m    646\u001b[0m             \u001b[0;31m# Encoding\u001b[0m\u001b[0;34m\u001b[0m\u001b[0;34m\u001b[0m\u001b[0;34m\u001b[0m\u001b[0m\n\u001b[0;32m--> 647\u001b[0;31m             handle = open(\n\u001b[0m\u001b[1;32m    648\u001b[0m                 \u001b[0mhandle\u001b[0m\u001b[0;34m,\u001b[0m\u001b[0;34m\u001b[0m\u001b[0;34m\u001b[0m\u001b[0m\n\u001b[1;32m    649\u001b[0m                 \u001b[0mioargs\u001b[0m\u001b[0;34m.\u001b[0m\u001b[0mmode\u001b[0m\u001b[0;34m,\u001b[0m\u001b[0;34m\u001b[0m\u001b[0;34m\u001b[0m\u001b[0m\n",
      "\u001b[0;31mFileNotFoundError\u001b[0m: [Errno 2] No such file or directory: '../data/processed/drugs.csv'"
     ]
    }
   ],
   "source": [
    "df = pd.read_csv('../data/processed/drugs.csv')"
   ]
  },
  {
   "cell_type": "code",
   "execution_count": null,
   "id": "52467d9f-3563-4928-a194-af17434b7f08",
   "metadata": {},
   "outputs": [],
   "source": [
    "df.shape"
   ]
  },
  {
   "cell_type": "code",
   "execution_count": 4,
   "id": "ab66c30e-f848-4d92-a600-9128b34e9cd9",
   "metadata": {},
   "outputs": [
    {
     "data": {
      "text/html": [
       "<div>\n",
       "<style scoped>\n",
       "    .dataframe tbody tr th:only-of-type {\n",
       "        vertical-align: middle;\n",
       "    }\n",
       "\n",
       "    .dataframe tbody tr th {\n",
       "        vertical-align: top;\n",
       "    }\n",
       "\n",
       "    .dataframe thead th {\n",
       "        text-align: right;\n",
       "    }\n",
       "</style>\n",
       "<table border=\"1\" class=\"dataframe\">\n",
       "  <thead>\n",
       "    <tr style=\"text-align: right;\">\n",
       "      <th></th>\n",
       "      <th>target</th>\n",
       "      <th>text</th>\n",
       "      <th>tokens</th>\n",
       "    </tr>\n",
       "  </thead>\n",
       "  <tbody>\n",
       "    <tr>\n",
       "      <th>0</th>\n",
       "      <td>ORAL</td>\n",
       "      <td>DOSAGE Adults- Take 4 or 6 Pellets by mouth, t...</td>\n",
       "      <td>['dosage', 'adults', 'take', '4', 'or', '6', '...</td>\n",
       "    </tr>\n",
       "    <tr>\n",
       "      <th>1</th>\n",
       "      <td>ORAL</td>\n",
       "      <td>DIRECTIONS Adults: Dissolve 3 to 5 under the t...</td>\n",
       "      <td>['directions', 'adults', 'dissolve', '3', 'to'...</td>\n",
       "    </tr>\n",
       "    <tr>\n",
       "      <th>2</th>\n",
       "      <td>OPHTHALMIC</td>\n",
       "      <td>DOSAGE AND ADMINISTRATION The recommended dosa...</td>\n",
       "      <td>['dosage', 'and', 'administration', 'the', 're...</td>\n",
       "    </tr>\n",
       "    <tr>\n",
       "      <th>3</th>\n",
       "      <td>ORAL</td>\n",
       "      <td>2 DOSAGE AND ADMINISTRATION Use the lowest eff...</td>\n",
       "      <td>['2', 'dosage', 'and', 'administration', 'use'...</td>\n",
       "    </tr>\n",
       "    <tr>\n",
       "      <th>4</th>\n",
       "      <td>TOPICAL</td>\n",
       "      <td>Directions wet face, apply to hand, massage fa...</td>\n",
       "      <td>['directions', 'wet', 'face', 'apply', 'to', '...</td>\n",
       "    </tr>\n",
       "  </tbody>\n",
       "</table>\n",
       "</div>"
      ],
      "text/plain": [
       "       target                                               text  \\\n",
       "0        ORAL  DOSAGE Adults- Take 4 or 6 Pellets by mouth, t...   \n",
       "1        ORAL  DIRECTIONS Adults: Dissolve 3 to 5 under the t...   \n",
       "2  OPHTHALMIC  DOSAGE AND ADMINISTRATION The recommended dosa...   \n",
       "3        ORAL  2 DOSAGE AND ADMINISTRATION Use the lowest eff...   \n",
       "4     TOPICAL  Directions wet face, apply to hand, massage fa...   \n",
       "\n",
       "                                              tokens  \n",
       "0  ['dosage', 'adults', 'take', '4', 'or', '6', '...  \n",
       "1  ['directions', 'adults', 'dissolve', '3', 'to'...  \n",
       "2  ['dosage', 'and', 'administration', 'the', 're...  \n",
       "3  ['2', 'dosage', 'and', 'administration', 'use'...  \n",
       "4  ['directions', 'wet', 'face', 'apply', 'to', '...  "
      ]
     },
     "execution_count": 4,
     "metadata": {},
     "output_type": "execute_result"
    }
   ],
   "source": [
    "df.head()"
   ]
  },
  {
   "cell_type": "markdown",
   "id": "18d08ea1-5480-48a9-9dfa-212c880d0ccc",
   "metadata": {},
   "source": [
    "# Explore Target"
   ]
  },
  {
   "cell_type": "code",
   "execution_count": 5,
   "id": "d713104e-a59b-4f25-9558-bb3ec2c19dd2",
   "metadata": {},
   "outputs": [
    {
     "data": {
      "text/plain": [
       "ORAL                        46639\n",
       "TOPICAL                     28025\n",
       "INTRAVENOUS                  2861\n",
       "DENTAL                       1403\n",
       "INTRAMUSCULAR                1383\n",
       "OPHTHALMIC                   1344\n",
       "SUBLINGUAL                    798\n",
       "NASAL                         641\n",
       "SUBCUTANEOUS                  327\n",
       "RESPIRATORY (INHALATION)      325\n",
       "RECTAL                        321\n",
       "VAGINAL                       212\n",
       "TRANSDERMAL                   195\n",
       "AURICULAR (OTIC)              179\n",
       "EPIDURAL                      117\n",
       "INFILTRATION                  102\n",
       "CUTANEOUS                     100\n",
       "INTRA-ARTICULAR                83\n",
       "BUCCAL                         77\n",
       "EXTRACORPOREAL                 71\n",
       "IRRIGATION                     37\n",
       "PERCUTANEOUS                   34\n",
       "INTRATHECAL                    30\n",
       "PARENTERAL                     27\n",
       "INTRA-ARTERIAL                 23\n",
       "INTRAOCULAR                    18\n",
       "INTRACARDIAC                   16\n",
       "ENDOTRACHEAL                   16\n",
       "OROPHARYNGEAL                  14\n",
       "INTRADERMAL                    14\n",
       "INTRAVASCULAR                  12\n",
       "INTRACAVITARY                  11\n",
       "PERINEURAL                     10\n",
       "INTRALESIONAL                  10\n",
       "INTRAVITREAL                    9\n",
       "INTRABRONCHIAL                  7\n",
       "INTRAPERITONEAL                 6\n",
       "HEMODIALYSIS                    6\n",
       "INTRACAVERNOUS                  5\n",
       "SUBMUCOSAL                      5\n",
       "SUBARACHNOID                    5\n",
       "INTRAUTERINE                    5\n",
       "INTRAVESICAL                    5\n",
       "PERIODONTAL                     4\n",
       "RETROBULBAR                     3\n",
       "URETHRAL                        2\n",
       "ENTERAL                         2\n",
       "SUBGINGIVAL                     2\n",
       "TRANSMUCOSAL                    1\n",
       "INTRACAMERAL                    1\n",
       "INTRATYMPANIC                   1\n",
       "INTRACANALICULAR                1\n",
       "URETERAL                        1\n",
       "INTRAPLEURAL                    1\n",
       "INTRASPINAL                     1\n",
       "INTRASINAL                      1\n",
       "INTRAVENTRICULAR                1\n",
       "Name: target, dtype: int64"
      ]
     },
     "execution_count": 5,
     "metadata": {},
     "output_type": "execute_result"
    }
   ],
   "source": [
    "df['target'].value_counts()"
   ]
  },
  {
   "cell_type": "code",
   "execution_count": 6,
   "id": "fb7a1509-0f8f-4046-bf12-12fb9f48c658",
   "metadata": {},
   "outputs": [
    {
     "data": {
      "text/plain": [
       "ORAL                        0.545167\n",
       "TOPICAL                     0.872753\n",
       "INTRAVENOUS                 0.906195\n",
       "DENTAL                      0.922595\n",
       "INTRAMUSCULAR               0.938761\n",
       "OPHTHALMIC                  0.954471\n",
       "SUBLINGUAL                  0.963799\n",
       "NASAL                       0.971292\n",
       "SUBCUTANEOUS                0.975114\n",
       "RESPIRATORY (INHALATION)    0.978913\n",
       "RECTAL                      0.982665\n",
       "VAGINAL                     0.985143\n",
       "TRANSDERMAL                 0.987423\n",
       "AURICULAR (OTIC)            0.989515\n",
       "EPIDURAL                    0.990883\n",
       "INFILTRATION                0.992075\n",
       "CUTANEOUS                   0.993244\n",
       "INTRA-ARTICULAR             0.994214\n",
       "BUCCAL                      0.995114\n",
       "EXTRACORPOREAL              0.995944\n",
       "IRRIGATION                  0.996376\n",
       "PERCUTANEOUS                0.996774\n",
       "INTRATHECAL                 0.997124\n",
       "PARENTERAL                  0.997440\n",
       "INTRA-ARTERIAL              0.997709\n",
       "INTRAOCULAR                 0.997919\n",
       "INTRACARDIAC                0.998106\n",
       "ENDOTRACHEAL                0.998293\n",
       "OROPHARYNGEAL               0.998457\n",
       "INTRADERMAL                 0.998621\n",
       "INTRAVASCULAR               0.998761\n",
       "INTRACAVITARY               0.998890\n",
       "PERINEURAL                  0.999006\n",
       "INTRALESIONAL               0.999123\n",
       "INTRAVITREAL                0.999229\n",
       "INTRABRONCHIAL              0.999310\n",
       "INTRAPERITONEAL             0.999380\n",
       "HEMODIALYSIS                0.999451\n",
       "INTRACAVERNOUS              0.999509\n",
       "SUBMUCOSAL                  0.999568\n",
       "SUBARACHNOID                0.999626\n",
       "INTRAUTERINE                0.999684\n",
       "INTRAVESICAL                0.999743\n",
       "PERIODONTAL                 0.999790\n",
       "RETROBULBAR                 0.999825\n",
       "URETHRAL                    0.999848\n",
       "ENTERAL                     0.999871\n",
       "SUBGINGIVAL                 0.999895\n",
       "TRANSMUCOSAL                0.999906\n",
       "INTRACAMERAL                0.999918\n",
       "INTRATYMPANIC               0.999930\n",
       "INTRACANALICULAR            0.999942\n",
       "URETERAL                    0.999953\n",
       "INTRAPLEURAL                0.999965\n",
       "INTRASPINAL                 0.999977\n",
       "INTRASINAL                  0.999988\n",
       "INTRAVENTRICULAR            1.000000\n",
       "Name: target, dtype: float64"
      ]
     },
     "execution_count": 6,
     "metadata": {},
     "output_type": "execute_result"
    }
   ],
   "source": [
    "df['target'].value_counts(normalize=True).cumsum()"
   ]
  },
  {
   "cell_type": "markdown",
   "id": "051e04a0-b22a-4bb4-bdf8-30078058ad6d",
   "metadata": {},
   "source": [
    "The top 5 classes account for 94% of the samples. Maybe we could group the remainder into an 'OTHER' class."
   ]
  },
  {
   "cell_type": "markdown",
   "id": "c1a7cfba-37fa-4148-9e9a-e3de3e93c0dd",
   "metadata": {},
   "source": [
    "# Explore Predictor"
   ]
  },
  {
   "cell_type": "code",
   "execution_count": 7,
   "id": "1c13dbbd-ad41-4132-a63d-4757afdec3a1",
   "metadata": {},
   "outputs": [],
   "source": [
    "df['num_tokens'] = df['tokens'].apply(len)"
   ]
  },
  {
   "cell_type": "code",
   "execution_count": 8,
   "id": "c03148b8-3f23-4ae3-8298-8e3a7752b098",
   "metadata": {},
   "outputs": [
    {
     "data": {
      "text/plain": [
       "count    85550.000000\n",
       "mean      2570.245646\n",
       "std       4347.950049\n",
       "min          2.000000\n",
       "25%        275.000000\n",
       "50%        628.000000\n",
       "75%       3077.000000\n",
       "max      77758.000000\n",
       "Name: num_tokens, dtype: float64"
      ]
     },
     "execution_count": 8,
     "metadata": {},
     "output_type": "execute_result"
    }
   ],
   "source": [
    "df['num_tokens'].describe()"
   ]
  },
  {
   "cell_type": "code",
   "execution_count": 9,
   "id": "6a7fe146-8512-4a63-8a2c-529027f19b6b",
   "metadata": {},
   "outputs": [
    {
     "data": {
      "image/png": "[encoded data removed]",
      "text/plain": [
       "<Figure size 500x500 with 1 Axes>"
      ]
     },
     "metadata": {},
     "output_type": "display_data"
    }
   ],
   "source": [
    "sns.displot(\n",
    "    df['num_tokens'],\n",
    "    kde=True\n",
    ")\n",
    "plt.title('Token Count Distribution')\n",
    "plt.show()"
   ]
  },
  {
   "cell_type": "code",
   "execution_count": 10,
   "id": "2aabe8f1-2bc8-4ba3-86ee-9c622d96f84d",
   "metadata": {},
   "outputs": [],
   "source": [
    "num_tokens_cum_dist = (df.groupby('num_tokens').size() / len(df)).cumsum()"
   ]
  },
  {
   "cell_type": "code",
   "execution_count": 11,
   "id": "5a5cade3-0014-4ea7-a79d-6aa5f35dedb2",
   "metadata": {},
   "outputs": [
    {
     "name": "stdout",
     "output_type": "stream",
     "text": [
      "\n",
      "Setting the minimum number of tokens at 50 would remove 2.19% of the samples. \n",
      "\n"
     ]
    }
   ],
   "source": [
    "min_tokens = 50 # test out different values\n",
    "print(\"\"\"\n",
    "Setting the minimum number of tokens at {0} would remove {1}% of the samples. \n",
    "\"\"\".format(min_tokens, round(100 * num_tokens_cum_dist[min_tokens], 2)))"
   ]
  },
  {
   "cell_type": "code",
   "execution_count": null,
   "id": "9da855e9-30b3-44bb-85c1-472225730862",
   "metadata": {},
   "outputs": [],
   "source": []
  }
 ],
 "metadata": {
  "kernelspec": {
   "display_name": "Python 3 (ipykernel)",
   "language": "python",
   "name": "python3"
  },
  "language_info": {
   "codemirror_mode": {
    "name": "ipython",
    "version": 3
   },
   "file_extension": ".py",
   "mimetype": "text/x-python",
   "name": "python",
   "nbconvert_exporter": "python",
   "pygments_lexer": "ipython3",
   "version": "3.9.5"
  }
 },
 "nbformat": 4,
 "nbformat_minor": 5
}
