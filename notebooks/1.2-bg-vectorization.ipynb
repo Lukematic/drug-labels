{
 "cells": [
  {
   "cell_type": "code",
   "execution_count": 45,
   "id": "9e13ae2a-0b5a-488a-9ea4-f6807021e9a2",
   "metadata": {},
   "outputs": [],
   "source": [
    "import pandas as pd\n",
    "from collections import Counter\n",
    "from string import punctuation\n",
    "import re\n",
    "import matplotlib.pyplot as plt \n",
    "import seaborn as sns\n",
    "# from src.data.cleaning import prepare\n",
    "from cleaning import prepare\n",
    "\n",
    "import os\n",
    "from sentence_transformers import SentenceTransformer"
   ]
  },
  {
   "cell_type": "markdown",
   "id": "347ad46a-78c2-4612-a7fd-32da9ed987fd",
   "metadata": {},
   "source": [
    "# Load Data"
   ]
  },
  {
   "cell_type": "code",
   "execution_count": 62,
   "id": "571b70b3-1580-4fdb-bc63-2f830153cf2c",
   "metadata": {},
   "outputs": [],
   "source": [
    "df = pd.read_csv('../data/processed/drugs.csv', usecols=['target', 'text'])"
   ]
  },
  {
   "cell_type": "code",
   "execution_count": 63,
   "id": "242f4797-4cb2-4147-b5bf-f18a3d4608da",
   "metadata": {},
   "outputs": [
    {
     "data": {
      "text/html": [
       "<div>\n",
       "<style scoped>\n",
       "    .dataframe tbody tr th:only-of-type {\n",
       "        vertical-align: middle;\n",
       "    }\n",
       "\n",
       "    .dataframe tbody tr th {\n",
       "        vertical-align: top;\n",
       "    }\n",
       "\n",
       "    .dataframe thead th {\n",
       "        text-align: right;\n",
       "    }\n",
       "</style>\n",
       "<table border=\"1\" class=\"dataframe\">\n",
       "  <thead>\n",
       "    <tr style=\"text-align: right;\">\n",
       "      <th></th>\n",
       "      <th>target</th>\n",
       "      <th>text</th>\n",
       "    </tr>\n",
       "  </thead>\n",
       "  <tbody>\n",
       "    <tr>\n",
       "      <th>0</th>\n",
       "      <td>ORAL</td>\n",
       "      <td>DOSAGE Adults- Take 4 or 6 Pellets by mouth, t...</td>\n",
       "    </tr>\n",
       "    <tr>\n",
       "      <th>1</th>\n",
       "      <td>ORAL</td>\n",
       "      <td>DIRECTIONS Adults: Dissolve 3 to 5 under the t...</td>\n",
       "    </tr>\n",
       "    <tr>\n",
       "      <th>2</th>\n",
       "      <td>OPHTHALMIC</td>\n",
       "      <td>DOSAGE AND ADMINISTRATION The recommended dosa...</td>\n",
       "    </tr>\n",
       "    <tr>\n",
       "      <th>3</th>\n",
       "      <td>ORAL</td>\n",
       "      <td>2 DOSAGE AND ADMINISTRATION Use the lowest eff...</td>\n",
       "    </tr>\n",
       "    <tr>\n",
       "      <th>4</th>\n",
       "      <td>TOPICAL</td>\n",
       "      <td>Directions wet face, apply to hand, massage fa...</td>\n",
       "    </tr>\n",
       "  </tbody>\n",
       "</table>\n",
       "</div>"
      ],
      "text/plain": [
       "       target                                               text\n",
       "0        ORAL  DOSAGE Adults- Take 4 or 6 Pellets by mouth, t...\n",
       "1        ORAL  DIRECTIONS Adults: Dissolve 3 to 5 under the t...\n",
       "2  OPHTHALMIC  DOSAGE AND ADMINISTRATION The recommended dosa...\n",
       "3        ORAL  2 DOSAGE AND ADMINISTRATION Use the lowest eff...\n",
       "4     TOPICAL  Directions wet face, apply to hand, massage fa..."
      ]
     },
     "execution_count": 63,
     "metadata": {},
     "output_type": "execute_result"
    }
   ],
   "source": [
    "df.head()"
   ]
  },
  {
   "cell_type": "markdown",
   "id": "0b9d6ac2-e53c-4b19-88e1-f1eb8e2e8a54",
   "metadata": {},
   "source": [
    "# Split on Whitespace"
   ]
  },
  {
   "cell_type": "markdown",
   "id": "e036c482-179d-4f87-beff-a0bb04436c63",
   "metadata": {},
   "source": [
    "The simplest tokenization just splits on whitespace. Let's try this and explore the results. "
   ]
  },
  {
   "cell_type": "code",
   "execution_count": 64,
   "id": "4c30a829-06c9-4257-ac8a-ffceab4ed295",
   "metadata": {},
   "outputs": [],
   "source": [
    "pipeline = [str.lower, str.split]"
   ]
  },
  {
   "cell_type": "code",
   "execution_count": 65,
   "id": "657f0dfb-6416-4517-9f8d-e1d1c9e3a27a",
   "metadata": {},
   "outputs": [],
   "source": [
    "df['tokens'] = df['text'].apply(prepare, pipeline=pipeline)"
   ]
  },
  {
   "cell_type": "code",
   "execution_count": 66,
   "id": "6a1ffebc-38da-4946-86c0-cfe48f37bfc8",
   "metadata": {},
   "outputs": [
    {
     "data": {
      "text/html": [
       "<div>\n",
       "<style scoped>\n",
       "    .dataframe tbody tr th:only-of-type {\n",
       "        vertical-align: middle;\n",
       "    }\n",
       "\n",
       "    .dataframe tbody tr th {\n",
       "        vertical-align: top;\n",
       "    }\n",
       "\n",
       "    .dataframe thead th {\n",
       "        text-align: right;\n",
       "    }\n",
       "</style>\n",
       "<table border=\"1\" class=\"dataframe\">\n",
       "  <thead>\n",
       "    <tr style=\"text-align: right;\">\n",
       "      <th></th>\n",
       "      <th>target</th>\n",
       "      <th>text</th>\n",
       "      <th>tokens</th>\n",
       "    </tr>\n",
       "  </thead>\n",
       "  <tbody>\n",
       "    <tr>\n",
       "      <th>0</th>\n",
       "      <td>ORAL</td>\n",
       "      <td>DOSAGE Adults- Take 4 or 6 Pellets by mouth, t...</td>\n",
       "      <td>[dosage, adults-, take, 4, or, 6, pellets, by,...</td>\n",
       "    </tr>\n",
       "    <tr>\n",
       "      <th>1</th>\n",
       "      <td>ORAL</td>\n",
       "      <td>DIRECTIONS Adults: Dissolve 3 to 5 under the t...</td>\n",
       "      <td>[directions, adults:, dissolve, 3, to, 5, unde...</td>\n",
       "    </tr>\n",
       "    <tr>\n",
       "      <th>2</th>\n",
       "      <td>OPHTHALMIC</td>\n",
       "      <td>DOSAGE AND ADMINISTRATION The recommended dosa...</td>\n",
       "      <td>[dosage, and, administration, the, recommended...</td>\n",
       "    </tr>\n",
       "    <tr>\n",
       "      <th>3</th>\n",
       "      <td>ORAL</td>\n",
       "      <td>2 DOSAGE AND ADMINISTRATION Use the lowest eff...</td>\n",
       "      <td>[2, dosage, and, administration, use, the, low...</td>\n",
       "    </tr>\n",
       "    <tr>\n",
       "      <th>4</th>\n",
       "      <td>TOPICAL</td>\n",
       "      <td>Directions wet face, apply to hand, massage fa...</td>\n",
       "      <td>[directions, wet, face,, apply, to, hand,, mas...</td>\n",
       "    </tr>\n",
       "  </tbody>\n",
       "</table>\n",
       "</div>"
      ],
      "text/plain": [
       "       target                                               text  \\\n",
       "0        ORAL  DOSAGE Adults- Take 4 or 6 Pellets by mouth, t...   \n",
       "1        ORAL  DIRECTIONS Adults: Dissolve 3 to 5 under the t...   \n",
       "2  OPHTHALMIC  DOSAGE AND ADMINISTRATION The recommended dosa...   \n",
       "3        ORAL  2 DOSAGE AND ADMINISTRATION Use the lowest eff...   \n",
       "4     TOPICAL  Directions wet face, apply to hand, massage fa...   \n",
       "\n",
       "                                              tokens  \n",
       "0  [dosage, adults-, take, 4, or, 6, pellets, by,...  \n",
       "1  [directions, adults:, dissolve, 3, to, 5, unde...  \n",
       "2  [dosage, and, administration, the, recommended...  \n",
       "3  [2, dosage, and, administration, use, the, low...  \n",
       "4  [directions, wet, face,, apply, to, hand,, mas...  "
      ]
     },
     "execution_count": 66,
     "metadata": {},
     "output_type": "execute_result"
    }
   ],
   "source": [
    "df.head()"
   ]
  },
  {
   "cell_type": "code",
   "execution_count": 67,
   "id": "dc3a84bc-c342-48a1-85f2-e9ebf3cc6248",
   "metadata": {},
   "outputs": [
    {
     "name": "stdout",
     "output_type": "stream",
     "text": [
      "24358746\n"
     ]
    }
   ],
   "source": [
    "# create list of all tokens\n",
    "all_tokens = []\n",
    "df['tokens'].apply(lambda x: all_tokens.extend(x))\n",
    "print(len(all_tokens))"
   ]
  },
  {
   "cell_type": "code",
   "execution_count": 68,
   "id": "7fa54e9c-e3ec-47d9-88c9-dbec3f60d19c",
   "metadata": {},
   "outputs": [],
   "source": [
    "token_counts = Counter(all_tokens)"
   ]
  },
  {
   "cell_type": "code",
   "execution_count": 69,
   "id": "dc646244-b3c7-47a6-bc2f-07dbd5dc64fe",
   "metadata": {},
   "outputs": [],
   "source": [
    "types = token_counts.keys()"
   ]
  },
  {
   "cell_type": "code",
   "execution_count": 71,
   "id": "f10e2c2d-6ea1-40b2-91ef-b588245da231",
   "metadata": {},
   "outputs": [
    {
     "ename": "AttributeError",
     "evalue": "'Counter' object has no attribute 'total'",
     "output_type": "error",
     "traceback": [
      "\u001b[0;31m---------------------------------------------------------------------------\u001b[0m",
      "\u001b[0;31mAttributeError\u001b[0m                            Traceback (most recent call last)",
      "\u001b[0;32m/var/folders/7w/q4x22cwn3zxb53k5sll6nzf40000gn/T/ipykernel_19123/3323194619.py\u001b[0m in \u001b[0;36m<module>\u001b[0;34m\u001b[0m\n\u001b[0;32m----> 1\u001b[0;31m \u001b[0mprint\u001b[0m\u001b[0;34m(\u001b[0m\u001b[0;34m\"Splitting on whitespace yields {0} tokens and {1} types.\"\u001b[0m\u001b[0;34m.\u001b[0m\u001b[0mformat\u001b[0m\u001b[0;34m(\u001b[0m\u001b[0mtoken_counts\u001b[0m\u001b[0;34m.\u001b[0m\u001b[0mtotal\u001b[0m\u001b[0;34m(\u001b[0m\u001b[0;34m)\u001b[0m\u001b[0;34m,\u001b[0m \u001b[0mlen\u001b[0m\u001b[0;34m(\u001b[0m\u001b[0mtypes\u001b[0m\u001b[0;34m)\u001b[0m\u001b[0;34m)\u001b[0m\u001b[0;34m)\u001b[0m\u001b[0;34m\u001b[0m\u001b[0;34m\u001b[0m\u001b[0m\n\u001b[0m",
      "\u001b[0;31mAttributeError\u001b[0m: 'Counter' object has no attribute 'total'"
     ]
    }
   ],
   "source": [
    "print(\"Splitting on whitespace yields {0} tokens and {1} types.\".format(token_counts.total(), len(types)))"
   ]
  },
  {
   "cell_type": "code",
   "execution_count": 72,
   "id": "05318cd0-e244-4711-8ca7-12e94073bc6d",
   "metadata": {},
   "outputs": [
    {
     "data": {
      "text/plain": [
       "[('the', 846404),\n",
       " ('of', 765669),\n",
       " ('to', 631902),\n",
       " ('and', 574627),\n",
       " ('in', 428281),\n",
       " ('for', 367696),\n",
       " ('a', 363863),\n",
       " ('be', 331774),\n",
       " ('mg', 324571),\n",
       " ('or', 315604),\n",
       " ('with', 313071),\n",
       " ('dose', 311762),\n",
       " ('is', 273367),\n",
       " ('patients', 240487),\n",
       " ('should', 199925),\n",
       " ('dosage', 195962),\n",
       " ('not', 180478),\n",
       " ('daily', 147639),\n",
       " ('2', 147061),\n",
       " ('may', 143068),\n",
       " ('as', 141042),\n",
       " ('tablets', 135945),\n",
       " ('use', 120403),\n",
       " ('at', 119251),\n",
       " ('recommended', 114867),\n",
       " ('(', 106858),\n",
       " ('by', 98517),\n",
       " ('on', 95948),\n",
       " ('than', 91705),\n",
       " ('every', 90506),\n",
       " ('treatment', 88874),\n",
       " ('if', 88039),\n",
       " ('once', 87647),\n",
       " ('1', 86242),\n",
       " ('years', 86151),\n",
       " ('hours', 84649),\n",
       " ('administration', 82023),\n",
       " ('12', 80834),\n",
       " ('10', 78578),\n",
       " ('doses', 76065),\n",
       " ('children', 75545),\n",
       " ('after', 75072),\n",
       " ('are', 74675),\n",
       " ('clinical', 74213),\n",
       " ('day', 72662),\n",
       " ('4', 70195),\n",
       " (')', 70024),\n",
       " ('•', 68803),\n",
       " ('[see', 66986),\n",
       " ('5', 63551)]"
      ]
     },
     "execution_count": 72,
     "metadata": {},
     "output_type": "execute_result"
    }
   ],
   "source": [
    "token_counts.most_common(50)"
   ]
  },
  {
   "cell_type": "markdown",
   "id": "e6efcb70-f723-4283-b630-6b2240d8582b",
   "metadata": {},
   "source": [
    "The top 30 typtes contain many stopwords. A few of them contain punctuation. "
   ]
  },
  {
   "cell_type": "markdown",
   "id": "c0e6e1f9-f421-4395-85be-f3008dfb7096",
   "metadata": {},
   "source": [
    "Let's look for other types containing punctuation."
   ]
  },
  {
   "cell_type": "code",
   "execution_count": 73,
   "id": "69604c62-a3a6-482d-9a53-a7cdab818895",
   "metadata": {},
   "outputs": [],
   "source": [
    "punct_set = set(punctuation)"
   ]
  },
  {
   "cell_type": "code",
   "execution_count": 74,
   "id": "3f500914-08ad-44b8-8973-3a78991956e8",
   "metadata": {},
   "outputs": [],
   "source": [
    "def contains_punct(text):\n",
    "    for char in text:\n",
    "        if char in punct_set:\n",
    "            return True\n",
    "    return False"
   ]
  },
  {
   "cell_type": "code",
   "execution_count": 75,
   "id": "4c119d12-4276-4ff4-9817-81da2642fcf4",
   "metadata": {},
   "outputs": [],
   "source": [
    "types_with_punct = {t: count for t, count in token_counts.items() if contains_punct(t)}"
   ]
  },
  {
   "cell_type": "code",
   "execution_count": 76,
   "id": "575cf97c-2afb-4114-ae71-b410c2674c96",
   "metadata": {},
   "outputs": [],
   "source": [
    "types_with_punct = sorted(types_with_punct.items(), key=lambda item: item[1], reverse=True)"
   ]
  },
  {
   "cell_type": "code",
   "execution_count": 77,
   "id": "c07bf5b6-e636-4e73-b8ce-fc5ff8f66799",
   "metadata": {},
   "outputs": [
    {
     "data": {
      "text/plain": [
       "[('(', 106858),\n",
       " (')', 70024),\n",
       " ('[see', 66986),\n",
       " ('mg/day', 45334),\n",
       " ('.', 43865),\n",
       " ('2.1', 36907),\n",
       " ('daily.', 36106),\n",
       " ('2.2', 32877),\n",
       " ('mg/kg', 32048),\n",
       " (',', 31251),\n",
       " ('extended-release', 28812),\n",
       " ('(see', 27649),\n",
       " (').', 24202),\n",
       " ('2.5', 24118),\n",
       " ('2.3', 24060),\n",
       " ('day.', 21921),\n",
       " (']', 19855),\n",
       " ('].', 19442),\n",
       " ('dose.', 18567),\n",
       " ('2.4', 18455),\n",
       " ('days.', 17290),\n",
       " ('hours.', 15738),\n",
       " (')]', 14937),\n",
       " ('-', 14935),\n",
       " ('mg/kg/day', 13231),\n",
       " ('injection,', 12968),\n",
       " ('tablets,', 12738),\n",
       " ('(e.g.,', 12000),\n",
       " ('mg,', 11678),\n",
       " ('delayed-release', 11676),\n",
       " ('age:', 11565),\n",
       " ('dose,', 11523),\n",
       " ('daily,', 11468),\n",
       " ('patients,', 11039),\n",
       " ('mg.', 10648),\n",
       " ('however,', 10559),\n",
       " ('and/or', 10281),\n",
       " ('doses.', 10255),\n",
       " (')].', 10096),\n",
       " ('mg/m', 10073),\n",
       " ('day,', 9960),\n",
       " ('therapy.', 9565),\n",
       " ('mg/day.', 9423),\n",
       " ('hours,', 9303),\n",
       " ('weeks.', 9232),\n",
       " ('[', 9083),\n",
       " ('response.', 8933),\n",
       " ('patients.', 8899),\n",
       " ('recommended.', 8879),\n",
       " ('patient.', 8774)]"
      ]
     },
     "execution_count": 77,
     "metadata": {},
     "output_type": "execute_result"
    }
   ],
   "source": [
    "types_with_punct[:50]"
   ]
  },
  {
   "cell_type": "markdown",
   "id": "34a13515-2ce4-4ef2-89d7-947c8b0c10e1",
   "metadata": {},
   "source": [
    "It seems fairly common for words to be combined with '/'. Let's take a look at these specifically. "
   ]
  },
  {
   "cell_type": "code",
   "execution_count": 78,
   "id": "828e095b-f091-4a27-8593-5966c07a1760",
   "metadata": {},
   "outputs": [
    {
     "data": {
      "text/plain": [
       "[('mg/day', 45334),\n",
       " ('mg/kg', 32048),\n",
       " ('mg/kg/day', 13231),\n",
       " ('and/or', 10281),\n",
       " ('mg/m', 10073),\n",
       " ('mg/day.', 9423),\n",
       " ('ml/min', 8107),\n",
       " ('mg/ml', 6079),\n",
       " ('mg/day,', 4357),\n",
       " ('ml/min/1.73', 3471),\n",
       " ('mg/kg/day,', 3095),\n",
       " ('mg/5', 3033),\n",
       " ('mcg/kg/day', 2646),\n",
       " ('mg/125', 2465),\n",
       " ('ml/min)', 2311),\n",
       " ('1/2', 2206),\n",
       " ('ml/min,', 2059),\n",
       " ('mcg/kg/min', 2004),\n",
       " ('mcg/ml', 1944),\n",
       " ('mg/kg/day.', 1939),\n",
       " ('lopinavir/ritonavir', 1880),\n",
       " ('mg/day)', 1827),\n",
       " ('(ml/min)', 1771),\n",
       " ('ml/min.', 1743),\n",
       " ('ml/minute/1.73', 1721),\n",
       " ('mg/day).', 1670),\n",
       " ('atazanavir/ritonavir', 1666),\n",
       " ('(mg/day)', 1632),\n",
       " ('/', 1584),\n",
       " ('mg/ml)', 1501),\n",
       " ('/l', 1479),\n",
       " ('mg/dl', 1445),\n",
       " ('pharyngitis/tonsillitis', 1301),\n",
       " ('mcg/kg', 1171),\n",
       " ('mg/25', 1145),\n",
       " ('ng/ml', 1042),\n",
       " ('ml/min/1.73m', 908),\n",
       " ('mg/kg)', 885),\n",
       " ('cells/mm', 885),\n",
       " ('ml/min),', 865),\n",
       " ('mg/kg,', 852),\n",
       " ('mcg/day', 849),\n",
       " ('ml/minute', 831),\n",
       " ('ml/h', 807),\n",
       " ('caregiver/family', 791),\n",
       " ('mg/kg.', 782),\n",
       " ('mg/ml.', 771),\n",
       " ('(olanzapine/fluoxetine)', 762),\n",
       " ('(mg/dl)', 758),\n",
       " ('mg/325', 753)]"
      ]
     },
     "execution_count": 78,
     "metadata": {},
     "output_type": "execute_result"
    }
   ],
   "source": [
    "[(t, count) for t, count in dict(types_with_punct).items() if '/' in t][:50]"
   ]
  },
  {
   "cell_type": "markdown",
   "id": "f6e1784a-6fdd-4344-9b07-83c66d5dc43e",
   "metadata": {},
   "source": [
    "Most of these represent units of measurement (e.g. 'mg/day'). However, some of them represent combinations of distinct concepts (e.g. 'caregiver/family', 'pharyngitis/tonsillitis'). Splitting on whitespace would treat these as a single token, which would add unnecessary noise to the corpus. Let's try splitting on whitespace AND on '/'.  "
   ]
  },
  {
   "cell_type": "markdown",
   "id": "1382f4d8-3e73-48ab-8b11-df34c9adc994",
   "metadata": {},
   "source": [
    "# Split on Whitespace and '/'"
   ]
  },
  {
   "cell_type": "code",
   "execution_count": 79,
   "id": "f8a46bed-9788-4388-9f98-70dd57042891",
   "metadata": {},
   "outputs": [],
   "source": [
    "def tokenize(text):\n",
    "    pattern = re.compile(r'[\\s/]')\n",
    "    tokens = re.split(pattern, text)\n",
    "    tokens = [t for t in tokens if t != '']\n",
    "    return tokens"
   ]
  },
  {
   "cell_type": "code",
   "execution_count": 80,
   "id": "156bac10-4d72-40cb-a93e-ce5dc12a3db7",
   "metadata": {},
   "outputs": [
    {
     "data": {
      "text/plain": [
       "['mg', 'day', 'foo', 'bar']"
      ]
     },
     "execution_count": 80,
     "metadata": {},
     "output_type": "execute_result"
    }
   ],
   "source": [
    "tokenize('mg/day foo bar')"
   ]
  },
  {
   "cell_type": "code",
   "execution_count": 81,
   "id": "69f71ad7-0b16-4c36-b6ab-25f3a4d4dc00",
   "metadata": {},
   "outputs": [],
   "source": [
    "pipeline = [str.lower, tokenize]"
   ]
  },
  {
   "cell_type": "code",
   "execution_count": 82,
   "id": "4d13b1b0-44ac-49e8-b73f-a2531ec216ab",
   "metadata": {},
   "outputs": [],
   "source": [
    "df['tokens_slash'] = df['text'].apply(prepare, pipeline=pipeline)"
   ]
  },
  {
   "cell_type": "code",
   "execution_count": 83,
   "id": "108c2745-d93d-496d-ba30-895fe7db21da",
   "metadata": {},
   "outputs": [
    {
     "data": {
      "text/html": [
       "<div>\n",
       "<style scoped>\n",
       "    .dataframe tbody tr th:only-of-type {\n",
       "        vertical-align: middle;\n",
       "    }\n",
       "\n",
       "    .dataframe tbody tr th {\n",
       "        vertical-align: top;\n",
       "    }\n",
       "\n",
       "    .dataframe thead th {\n",
       "        text-align: right;\n",
       "    }\n",
       "</style>\n",
       "<table border=\"1\" class=\"dataframe\">\n",
       "  <thead>\n",
       "    <tr style=\"text-align: right;\">\n",
       "      <th></th>\n",
       "      <th>target</th>\n",
       "      <th>text</th>\n",
       "      <th>tokens</th>\n",
       "      <th>tokens_slash</th>\n",
       "    </tr>\n",
       "  </thead>\n",
       "  <tbody>\n",
       "    <tr>\n",
       "      <th>0</th>\n",
       "      <td>ORAL</td>\n",
       "      <td>DOSAGE Adults- Take 4 or 6 Pellets by mouth, t...</td>\n",
       "      <td>[dosage, adults-, take, 4, or, 6, pellets, by,...</td>\n",
       "      <td>[dosage, adults-, take, 4, or, 6, pellets, by,...</td>\n",
       "    </tr>\n",
       "    <tr>\n",
       "      <th>1</th>\n",
       "      <td>ORAL</td>\n",
       "      <td>DIRECTIONS Adults: Dissolve 3 to 5 under the t...</td>\n",
       "      <td>[directions, adults:, dissolve, 3, to, 5, unde...</td>\n",
       "      <td>[directions, adults:, dissolve, 3, to, 5, unde...</td>\n",
       "    </tr>\n",
       "    <tr>\n",
       "      <th>2</th>\n",
       "      <td>OPHTHALMIC</td>\n",
       "      <td>DOSAGE AND ADMINISTRATION The recommended dosa...</td>\n",
       "      <td>[dosage, and, administration, the, recommended...</td>\n",
       "      <td>[dosage, and, administration, the, recommended...</td>\n",
       "    </tr>\n",
       "    <tr>\n",
       "      <th>3</th>\n",
       "      <td>ORAL</td>\n",
       "      <td>2 DOSAGE AND ADMINISTRATION Use the lowest eff...</td>\n",
       "      <td>[2, dosage, and, administration, use, the, low...</td>\n",
       "      <td>[2, dosage, and, administration, use, the, low...</td>\n",
       "    </tr>\n",
       "    <tr>\n",
       "      <th>4</th>\n",
       "      <td>TOPICAL</td>\n",
       "      <td>Directions wet face, apply to hand, massage fa...</td>\n",
       "      <td>[directions, wet, face,, apply, to, hand,, mas...</td>\n",
       "      <td>[directions, wet, face,, apply, to, hand,, mas...</td>\n",
       "    </tr>\n",
       "  </tbody>\n",
       "</table>\n",
       "</div>"
      ],
      "text/plain": [
       "       target                                               text  \\\n",
       "0        ORAL  DOSAGE Adults- Take 4 or 6 Pellets by mouth, t...   \n",
       "1        ORAL  DIRECTIONS Adults: Dissolve 3 to 5 under the t...   \n",
       "2  OPHTHALMIC  DOSAGE AND ADMINISTRATION The recommended dosa...   \n",
       "3        ORAL  2 DOSAGE AND ADMINISTRATION Use the lowest eff...   \n",
       "4     TOPICAL  Directions wet face, apply to hand, massage fa...   \n",
       "\n",
       "                                              tokens  \\\n",
       "0  [dosage, adults-, take, 4, or, 6, pellets, by,...   \n",
       "1  [directions, adults:, dissolve, 3, to, 5, unde...   \n",
       "2  [dosage, and, administration, the, recommended...   \n",
       "3  [2, dosage, and, administration, use, the, low...   \n",
       "4  [directions, wet, face,, apply, to, hand,, mas...   \n",
       "\n",
       "                                        tokens_slash  \n",
       "0  [dosage, adults-, take, 4, or, 6, pellets, by,...  \n",
       "1  [directions, adults:, dissolve, 3, to, 5, unde...  \n",
       "2  [dosage, and, administration, the, recommended...  \n",
       "3  [2, dosage, and, administration, use, the, low...  \n",
       "4  [directions, wet, face,, apply, to, hand,, mas...  "
      ]
     },
     "execution_count": 83,
     "metadata": {},
     "output_type": "execute_result"
    }
   ],
   "source": [
    "df.head()"
   ]
  },
  {
   "cell_type": "code",
   "execution_count": 84,
   "id": "73d5e555-3731-4224-9333-7cb0cdda1ad2",
   "metadata": {},
   "outputs": [
    {
     "name": "stdout",
     "output_type": "stream",
     "text": [
      "24662826\n"
     ]
    }
   ],
   "source": [
    "# create list of all tokens\n",
    "all_tokens = []\n",
    "df['tokens_slash'].apply(lambda x: all_tokens.extend(x))\n",
    "print(len(all_tokens))"
   ]
  },
  {
   "cell_type": "code",
   "execution_count": 85,
   "id": "341513d5-8a87-420f-af53-f7ca0618bec4",
   "metadata": {},
   "outputs": [],
   "source": [
    "token_counts = Counter(all_tokens)"
   ]
  },
  {
   "cell_type": "code",
   "execution_count": 86,
   "id": "99795367-7b6a-4262-9a28-0fbcdab7b73d",
   "metadata": {},
   "outputs": [],
   "source": [
    "types = token_counts.keys()"
   ]
  },
  {
   "cell_type": "code",
   "execution_count": null,
   "id": "88df6377-0a3f-4306-885d-e8e4e2375476",
   "metadata": {},
   "outputs": [],
   "source": [
    "print(\"Splitting on whitespace and '/' yields {0} tokens and {1} types.\".format(token_counts.total(), len(types)))"
   ]
  },
  {
   "cell_type": "code",
   "execution_count": null,
   "id": "823232ac-7abd-4075-bce0-f7b8a1d0ecb2",
   "metadata": {},
   "outputs": [],
   "source": [
    "token_counts.most_common(50)"
   ]
  },
  {
   "cell_type": "markdown",
   "id": "c91ee106-fcf1-4ca1-972f-c586f2465f0d",
   "metadata": {},
   "source": [
    "# Split on Whitespace and '-'"
   ]
  },
  {
   "cell_type": "markdown",
   "id": "82bb168b-9503-48d3-98fc-8d8b171451a7",
   "metadata": {},
   "source": [
    "Some of the most common types also included '-'. Let's take a look at them. "
   ]
  },
  {
   "cell_type": "code",
   "execution_count": null,
   "id": "e19271f2-f27b-4e6b-8f50-21c9982db33f",
   "metadata": {},
   "outputs": [],
   "source": [
    "{t: count for t, count in token_counts.items() if '-' in t}"
   ]
  },
  {
   "cell_type": "markdown",
   "id": "ba4f8450-2339-4406-a539-ae9959c4a7e6",
   "metadata": {},
   "source": [
    "In contrast to words combined with '/', these combined with '-' tend to represent a single concept. Splitting them into separate tokens would lose important information (e.g. 'non-psychotic'). "
   ]
  },
  {
   "cell_type": "markdown",
   "id": "bcf57bf0-9ed8-49f9-b68a-beccd0c74018",
   "metadata": {},
   "source": [
    "# Final Tokenization"
   ]
  },
  {
   "cell_type": "markdown",
   "id": "7dd3a62c-6dfc-4e30-8e5c-58c934a1e83f",
   "metadata": {},
   "source": [
    "Based on the above analysis, we will split on whitespace and '/', and remove punctuation. "
   ]
  },
  {
   "cell_type": "code",
   "execution_count": 87,
   "id": "24d669e7-a63f-4e82-90b1-d66fb734313c",
   "metadata": {},
   "outputs": [],
   "source": [
    "punct_set = set(punctuation)\n",
    "punct_set.remove('/') # don't remove '/' because we need it for tokenization "
   ]
  },
  {
   "cell_type": "code",
   "execution_count": 88,
   "id": "c73606d9-0744-4c73-8b31-c955ec4ae9c5",
   "metadata": {},
   "outputs": [],
   "source": [
    "def remove_punctuation(text):\n",
    "    return \"\".join([char for char in text if char not in punct_set])  "
   ]
  },
  {
   "cell_type": "code",
   "execution_count": 89,
   "id": "453924cc-5ebc-4523-b3d1-f9247285dea8",
   "metadata": {},
   "outputs": [],
   "source": [
    "pipeline = [str.lower, remove_punctuation, tokenize]"
   ]
  },
  {
   "cell_type": "code",
   "execution_count": 90,
   "id": "238eb5cd-a3ff-40b3-9b17-a1dd71a41734",
   "metadata": {},
   "outputs": [
    {
     "data": {
      "text/plain": [
       "['this', 'is', 'an', 'example', 'test', 'sentence']"
      ]
     },
     "execution_count": 90,
     "metadata": {},
     "output_type": "execute_result"
    }
   ],
   "source": [
    "prepare('This is an example/test sentence!', pipeline=pipeline)"
   ]
  },
  {
   "cell_type": "code",
   "execution_count": 91,
   "id": "77f2ef98-85d7-4502-b790-96e5a066f272",
   "metadata": {},
   "outputs": [],
   "source": [
    "df['tokens_final'] = df['text'].apply(prepare, pipeline=pipeline)"
   ]
  },
  {
   "cell_type": "code",
   "execution_count": 92,
   "id": "f3b375b3-f87b-423b-8731-6aca1f424e16",
   "metadata": {},
   "outputs": [
    {
     "data": {
      "text/html": [
       "<div>\n",
       "<style scoped>\n",
       "    .dataframe tbody tr th:only-of-type {\n",
       "        vertical-align: middle;\n",
       "    }\n",
       "\n",
       "    .dataframe tbody tr th {\n",
       "        vertical-align: top;\n",
       "    }\n",
       "\n",
       "    .dataframe thead th {\n",
       "        text-align: right;\n",
       "    }\n",
       "</style>\n",
       "<table border=\"1\" class=\"dataframe\">\n",
       "  <thead>\n",
       "    <tr style=\"text-align: right;\">\n",
       "      <th></th>\n",
       "      <th>target</th>\n",
       "      <th>text</th>\n",
       "      <th>tokens</th>\n",
       "      <th>tokens_slash</th>\n",
       "      <th>tokens_final</th>\n",
       "    </tr>\n",
       "  </thead>\n",
       "  <tbody>\n",
       "    <tr>\n",
       "      <th>0</th>\n",
       "      <td>ORAL</td>\n",
       "      <td>DOSAGE Adults- Take 4 or 6 Pellets by mouth, t...</td>\n",
       "      <td>[dosage, adults-, take, 4, or, 6, pellets, by,...</td>\n",
       "      <td>[dosage, adults-, take, 4, or, 6, pellets, by,...</td>\n",
       "      <td>[dosage, adults, take, 4, or, 6, pellets, by, ...</td>\n",
       "    </tr>\n",
       "    <tr>\n",
       "      <th>1</th>\n",
       "      <td>ORAL</td>\n",
       "      <td>DIRECTIONS Adults: Dissolve 3 to 5 under the t...</td>\n",
       "      <td>[directions, adults:, dissolve, 3, to, 5, unde...</td>\n",
       "      <td>[directions, adults:, dissolve, 3, to, 5, unde...</td>\n",
       "      <td>[directions, adults, dissolve, 3, to, 5, under...</td>\n",
       "    </tr>\n",
       "    <tr>\n",
       "      <th>2</th>\n",
       "      <td>OPHTHALMIC</td>\n",
       "      <td>DOSAGE AND ADMINISTRATION The recommended dosa...</td>\n",
       "      <td>[dosage, and, administration, the, recommended...</td>\n",
       "      <td>[dosage, and, administration, the, recommended...</td>\n",
       "      <td>[dosage, and, administration, the, recommended...</td>\n",
       "    </tr>\n",
       "    <tr>\n",
       "      <th>3</th>\n",
       "      <td>ORAL</td>\n",
       "      <td>2 DOSAGE AND ADMINISTRATION Use the lowest eff...</td>\n",
       "      <td>[2, dosage, and, administration, use, the, low...</td>\n",
       "      <td>[2, dosage, and, administration, use, the, low...</td>\n",
       "      <td>[2, dosage, and, administration, use, the, low...</td>\n",
       "    </tr>\n",
       "    <tr>\n",
       "      <th>4</th>\n",
       "      <td>TOPICAL</td>\n",
       "      <td>Directions wet face, apply to hand, massage fa...</td>\n",
       "      <td>[directions, wet, face,, apply, to, hand,, mas...</td>\n",
       "      <td>[directions, wet, face,, apply, to, hand,, mas...</td>\n",
       "      <td>[directions, wet, face, apply, to, hand, massa...</td>\n",
       "    </tr>\n",
       "  </tbody>\n",
       "</table>\n",
       "</div>"
      ],
      "text/plain": [
       "       target                                               text  \\\n",
       "0        ORAL  DOSAGE Adults- Take 4 or 6 Pellets by mouth, t...   \n",
       "1        ORAL  DIRECTIONS Adults: Dissolve 3 to 5 under the t...   \n",
       "2  OPHTHALMIC  DOSAGE AND ADMINISTRATION The recommended dosa...   \n",
       "3        ORAL  2 DOSAGE AND ADMINISTRATION Use the lowest eff...   \n",
       "4     TOPICAL  Directions wet face, apply to hand, massage fa...   \n",
       "\n",
       "                                              tokens  \\\n",
       "0  [dosage, adults-, take, 4, or, 6, pellets, by,...   \n",
       "1  [directions, adults:, dissolve, 3, to, 5, unde...   \n",
       "2  [dosage, and, administration, the, recommended...   \n",
       "3  [2, dosage, and, administration, use, the, low...   \n",
       "4  [directions, wet, face,, apply, to, hand,, mas...   \n",
       "\n",
       "                                        tokens_slash  \\\n",
       "0  [dosage, adults-, take, 4, or, 6, pellets, by,...   \n",
       "1  [directions, adults:, dissolve, 3, to, 5, unde...   \n",
       "2  [dosage, and, administration, the, recommended...   \n",
       "3  [2, dosage, and, administration, use, the, low...   \n",
       "4  [directions, wet, face,, apply, to, hand,, mas...   \n",
       "\n",
       "                                        tokens_final  \n",
       "0  [dosage, adults, take, 4, or, 6, pellets, by, ...  \n",
       "1  [directions, adults, dissolve, 3, to, 5, under...  \n",
       "2  [dosage, and, administration, the, recommended...  \n",
       "3  [2, dosage, and, administration, use, the, low...  \n",
       "4  [directions, wet, face, apply, to, hand, massa...  "
      ]
     },
     "execution_count": 92,
     "metadata": {},
     "output_type": "execute_result"
    }
   ],
   "source": [
    "df.head()"
   ]
  },
  {
   "cell_type": "code",
   "execution_count": 93,
   "id": "03ec82db-c66f-4633-9b37-bf06a91f98d7",
   "metadata": {},
   "outputs": [
    {
     "name": "stdout",
     "output_type": "stream",
     "text": [
      "24246051\n"
     ]
    }
   ],
   "source": [
    "# create list of all tokens\n",
    "all_tokens = []\n",
    "df['tokens_final'].apply(lambda x: all_tokens.extend(x))\n",
    "print(len(all_tokens))"
   ]
  },
  {
   "cell_type": "code",
   "execution_count": 94,
   "id": "bec1f331-3b7a-4012-a152-37ca7965147a",
   "metadata": {},
   "outputs": [],
   "source": [
    "token_counts = Counter(all_tokens)"
   ]
  },
  {
   "cell_type": "code",
   "execution_count": null,
   "id": "d39381f4-cdae-4e7d-a57b-d397f38f3a07",
   "metadata": {},
   "outputs": [],
   "source": [
    "types = token_counts.keys()"
   ]
  },
  {
   "cell_type": "code",
   "execution_count": null,
   "id": "c5b49959-9024-4c87-b543-cbd933ef39c1",
   "metadata": {},
   "outputs": [],
   "source": [
    "print(\"Splitting on whitespace and '/' and removing punctuation yields {0} tokens and {1} types.\".format(token_counts.total(), len(types)))"
   ]
  },
  {
   "cell_type": "code",
   "execution_count": null,
   "id": "cc5ebd3d-d70d-46fe-b5cc-7c821c01ba6b",
   "metadata": {},
   "outputs": [],
   "source": [
    "token_counts.most_common(50)"
   ]
  },
  {
   "cell_type": "markdown",
   "id": "19520615",
   "metadata": {},
   "source": [
    "### Vectorization - BERT (Google NLP Model)"
   ]
  },
  {
   "cell_type": "code",
   "execution_count": 112,
   "id": "1147203e",
   "metadata": {},
   "outputs": [
    {
     "data": {
      "application/vnd.jupyter.widget-view+json": {
       "model_id": "2f1f833dd27a4303b82975846c062462",
       "version_major": 2,
       "version_minor": 0
      },
      "text/plain": [
       "Downloading:   0%|          | 0.00/391 [00:00<?, ?B/s]"
      ]
     },
     "metadata": {},
     "output_type": "display_data"
    },
    {
     "data": {
      "application/vnd.jupyter.widget-view+json": {
       "model_id": "14e7e629fe4443e88c3352ace7bdbecd",
       "version_major": 2,
       "version_minor": 0
      },
      "text/plain": [
       "Downloading:   0%|          | 0.00/190 [00:00<?, ?B/s]"
      ]
     },
     "metadata": {},
     "output_type": "display_data"
    },
    {
     "data": {
      "application/vnd.jupyter.widget-view+json": {
       "model_id": "6189c670e66b422a97a269a40f94b103",
       "version_major": 2,
       "version_minor": 0
      },
      "text/plain": [
       "Downloading:   0%|          | 0.00/3.98k [00:00<?, ?B/s]"
      ]
     },
     "metadata": {},
     "output_type": "display_data"
    },
    {
     "data": {
      "application/vnd.jupyter.widget-view+json": {
       "model_id": "d6e1b96c44bc483895fe1515c02b2aab",
       "version_major": 2,
       "version_minor": 0
      },
      "text/plain": [
       "Downloading:   0%|          | 0.00/2.00 [00:00<?, ?B/s]"
      ]
     },
     "metadata": {},
     "output_type": "display_data"
    },
    {
     "data": {
      "application/vnd.jupyter.widget-view+json": {
       "model_id": "85031ce7e61444e799321a5040fa636d",
       "version_major": 2,
       "version_minor": 0
      },
      "text/plain": [
       "Downloading:   0%|          | 0.00/630 [00:00<?, ?B/s]"
      ]
     },
     "metadata": {},
     "output_type": "display_data"
    },
    {
     "data": {
      "application/vnd.jupyter.widget-view+json": {
       "model_id": "e990a41213c04678ab1cbbe588ea0b5b",
       "version_major": 2,
       "version_minor": 0
      },
      "text/plain": [
       "Downloading:   0%|          | 0.00/122 [00:00<?, ?B/s]"
      ]
     },
     "metadata": {},
     "output_type": "display_data"
    },
    {
     "data": {
      "application/vnd.jupyter.widget-view+json": {
       "model_id": "02b63c0f36204197ae6a68c56ad822b0",
       "version_major": 2,
       "version_minor": 0
      },
      "text/plain": [
       "Downloading:   0%|          | 0.00/438M [00:00<?, ?B/s]"
      ]
     },
     "metadata": {},
     "output_type": "display_data"
    },
    {
     "data": {
      "application/vnd.jupyter.widget-view+json": {
       "model_id": "aa6e7fbfd703408ca21cb0bd877c71ca",
       "version_major": 2,
       "version_minor": 0
      },
      "text/plain": [
       "Downloading:   0%|          | 0.00/53.0 [00:00<?, ?B/s]"
      ]
     },
     "metadata": {},
     "output_type": "display_data"
    },
    {
     "data": {
      "application/vnd.jupyter.widget-view+json": {
       "model_id": "d474422b6d2b427ea1a6a627cad1df7c",
       "version_major": 2,
       "version_minor": 0
      },
      "text/plain": [
       "Downloading:   0%|          | 0.00/112 [00:00<?, ?B/s]"
      ]
     },
     "metadata": {},
     "output_type": "display_data"
    },
    {
     "data": {
      "application/vnd.jupyter.widget-view+json": {
       "model_id": "9bb06d6fc7a842bbbaa50d5f3a66321f",
       "version_major": 2,
       "version_minor": 0
      },
      "text/plain": [
       "Downloading:   0%|          | 0.00/466k [00:00<?, ?B/s]"
      ]
     },
     "metadata": {},
     "output_type": "display_data"
    },
    {
     "data": {
      "application/vnd.jupyter.widget-view+json": {
       "model_id": "9388b48f514a422eb43040d8b37f7920",
       "version_major": 2,
       "version_minor": 0
      },
      "text/plain": [
       "Downloading:   0%|          | 0.00/409 [00:00<?, ?B/s]"
      ]
     },
     "metadata": {},
     "output_type": "display_data"
    },
    {
     "data": {
      "application/vnd.jupyter.widget-view+json": {
       "model_id": "b803a9d9910742e291d040f24e7f7235",
       "version_major": 2,
       "version_minor": 0
      },
      "text/plain": [
       "Downloading:   0%|          | 0.00/232k [00:00<?, ?B/s]"
      ]
     },
     "metadata": {},
     "output_type": "display_data"
    },
    {
     "data": {
      "application/vnd.jupyter.widget-view+json": {
       "model_id": "54128460155d4231b41ac40247c60919",
       "version_major": 2,
       "version_minor": 0
      },
      "text/plain": [
       "Downloading:   0%|          | 0.00/229 [00:00<?, ?B/s]"
      ]
     },
     "metadata": {},
     "output_type": "display_data"
    }
   ],
   "source": [
    "## Utilizing Google's NLP vectorization model - applied via SentenceTransformer. \n",
    "model = SentenceTransformer('bert-base-nli-stsb-mean-tokens')\n",
    "\n",
    "## Create final sentence, based on final tokens, to vectorize via semantic model\n",
    "\n",
    "def join_text(tokens):\n",
    "    new_text = ' '.join(tokens)\n",
    "    \n",
    "    return new_text\n",
    "\n",
    "df['final_text'] = df.apply(lambda row: join_text(row['tokens_final']), axis=1)"
   ]
  },
  {
   "cell_type": "code",
   "execution_count": 114,
   "id": "d91a3139",
   "metadata": {},
   "outputs": [
    {
     "data": {
      "text/html": [
       "<div>\n",
       "<style scoped>\n",
       "    .dataframe tbody tr th:only-of-type {\n",
       "        vertical-align: middle;\n",
       "    }\n",
       "\n",
       "    .dataframe tbody tr th {\n",
       "        vertical-align: top;\n",
       "    }\n",
       "\n",
       "    .dataframe thead th {\n",
       "        text-align: right;\n",
       "    }\n",
       "</style>\n",
       "<table border=\"1\" class=\"dataframe\">\n",
       "  <thead>\n",
       "    <tr style=\"text-align: right;\">\n",
       "      <th></th>\n",
       "      <th>target</th>\n",
       "      <th>text</th>\n",
       "      <th>tokens</th>\n",
       "      <th>tokens_slash</th>\n",
       "      <th>tokens_final</th>\n",
       "      <th>final_text</th>\n",
       "      <th>bert_vector</th>\n",
       "    </tr>\n",
       "  </thead>\n",
       "  <tbody>\n",
       "    <tr>\n",
       "      <th>0</th>\n",
       "      <td>ORAL</td>\n",
       "      <td>DOSAGE Adults- Take 4 or 6 Pellets by mouth, t...</td>\n",
       "      <td>[dosage, adults-, take, 4, or, 6, pellets, by,...</td>\n",
       "      <td>[dosage, adults-, take, 4, or, 6, pellets, by,...</td>\n",
       "      <td>[dosage, adults, take, 4, or, 6, pellets, by, ...</td>\n",
       "      <td>dosage adults take 4 or 6 pellets by mouth thr...</td>\n",
       "      <td>[0.20267482, 0.48228976, 0.46310183, 0.0596330...</td>\n",
       "    </tr>\n",
       "    <tr>\n",
       "      <th>1</th>\n",
       "      <td>ORAL</td>\n",
       "      <td>DIRECTIONS Adults: Dissolve 3 to 5 under the t...</td>\n",
       "      <td>[directions, adults:, dissolve, 3, to, 5, unde...</td>\n",
       "      <td>[directions, adults:, dissolve, 3, to, 5, unde...</td>\n",
       "      <td>[directions, adults, dissolve, 3, to, 5, under...</td>\n",
       "      <td>directions adults dissolve 3 to 5 under the to...</td>\n",
       "      <td>[-0.51945925, 0.6701943, 0.34755662, -0.211656...</td>\n",
       "    </tr>\n",
       "    <tr>\n",
       "      <th>2</th>\n",
       "      <td>OPHTHALMIC</td>\n",
       "      <td>DOSAGE AND ADMINISTRATION The recommended dosa...</td>\n",
       "      <td>[dosage, and, administration, the, recommended...</td>\n",
       "      <td>[dosage, and, administration, the, recommended...</td>\n",
       "      <td>[dosage, and, administration, the, recommended...</td>\n",
       "      <td>dosage and administration the recommended dosa...</td>\n",
       "      <td>[0.08212981, 0.13064659, 0.39888293, -0.040129...</td>\n",
       "    </tr>\n",
       "    <tr>\n",
       "      <th>3</th>\n",
       "      <td>ORAL</td>\n",
       "      <td>2 DOSAGE AND ADMINISTRATION Use the lowest eff...</td>\n",
       "      <td>[2, dosage, and, administration, use, the, low...</td>\n",
       "      <td>[2, dosage, and, administration, use, the, low...</td>\n",
       "      <td>[2, dosage, and, administration, use, the, low...</td>\n",
       "      <td>2 dosage and administration use the lowest eff...</td>\n",
       "      <td>[-0.70748466, 0.4393211, -0.34770426, -0.28706...</td>\n",
       "    </tr>\n",
       "    <tr>\n",
       "      <th>4</th>\n",
       "      <td>TOPICAL</td>\n",
       "      <td>Directions wet face, apply to hand, massage fa...</td>\n",
       "      <td>[directions, wet, face,, apply, to, hand,, mas...</td>\n",
       "      <td>[directions, wet, face,, apply, to, hand,, mas...</td>\n",
       "      <td>[directions, wet, face, apply, to, hand, massa...</td>\n",
       "      <td>directions wet face apply to hand massage face...</td>\n",
       "      <td>[-0.040679857, 0.66494775, 1.1360956, 0.220075...</td>\n",
       "    </tr>\n",
       "  </tbody>\n",
       "</table>\n",
       "</div>"
      ],
      "text/plain": [
       "       target                                               text  \\\n",
       "0        ORAL  DOSAGE Adults- Take 4 or 6 Pellets by mouth, t...   \n",
       "1        ORAL  DIRECTIONS Adults: Dissolve 3 to 5 under the t...   \n",
       "2  OPHTHALMIC  DOSAGE AND ADMINISTRATION The recommended dosa...   \n",
       "3        ORAL  2 DOSAGE AND ADMINISTRATION Use the lowest eff...   \n",
       "4     TOPICAL  Directions wet face, apply to hand, massage fa...   \n",
       "\n",
       "                                              tokens  \\\n",
       "0  [dosage, adults-, take, 4, or, 6, pellets, by,...   \n",
       "1  [directions, adults:, dissolve, 3, to, 5, unde...   \n",
       "2  [dosage, and, administration, the, recommended...   \n",
       "3  [2, dosage, and, administration, use, the, low...   \n",
       "4  [directions, wet, face,, apply, to, hand,, mas...   \n",
       "\n",
       "                                        tokens_slash  \\\n",
       "0  [dosage, adults-, take, 4, or, 6, pellets, by,...   \n",
       "1  [directions, adults:, dissolve, 3, to, 5, unde...   \n",
       "2  [dosage, and, administration, the, recommended...   \n",
       "3  [2, dosage, and, administration, use, the, low...   \n",
       "4  [directions, wet, face,, apply, to, hand,, mas...   \n",
       "\n",
       "                                        tokens_final  \\\n",
       "0  [dosage, adults, take, 4, or, 6, pellets, by, ...   \n",
       "1  [directions, adults, dissolve, 3, to, 5, under...   \n",
       "2  [dosage, and, administration, the, recommended...   \n",
       "3  [2, dosage, and, administration, use, the, low...   \n",
       "4  [directions, wet, face, apply, to, hand, massa...   \n",
       "\n",
       "                                          final_text  \\\n",
       "0  dosage adults take 4 or 6 pellets by mouth thr...   \n",
       "1  directions adults dissolve 3 to 5 under the to...   \n",
       "2  dosage and administration the recommended dosa...   \n",
       "3  2 dosage and administration use the lowest eff...   \n",
       "4  directions wet face apply to hand massage face...   \n",
       "\n",
       "                                         bert_vector  \n",
       "0  [0.20267482, 0.48228976, 0.46310183, 0.0596330...  \n",
       "1  [-0.51945925, 0.6701943, 0.34755662, -0.211656...  \n",
       "2  [0.08212981, 0.13064659, 0.39888293, -0.040129...  \n",
       "3  [-0.70748466, 0.4393211, -0.34770426, -0.28706...  \n",
       "4  [-0.040679857, 0.66494775, 1.1360956, 0.220075...  "
      ]
     },
     "execution_count": 114,
     "metadata": {},
     "output_type": "execute_result"
    }
   ],
   "source": [
    "## Create vector using BERT Model\n",
    "\n",
    "bert_vector = model.encode(df['final_text'].astype(str))\n",
    "df['bert_vector'] = list(bert_vector)\n",
    "\n",
    "df.head()"
   ]
  },
  {
   "cell_type": "code",
   "execution_count": 115,
   "id": "67421c98",
   "metadata": {},
   "outputs": [],
   "source": [
    "output_path = os.path.join(os.path.abspath('../data/processed'), 'df_vectorized.pkl')\n",
    "output_path\n",
    "df.to_pickle(output_path)  "
   ]
  },
  {
   "cell_type": "code",
   "execution_count": null,
   "id": "66a7f44e",
   "metadata": {},
   "outputs": [],
   "source": []
  }
 ],
 "metadata": {
  "kernelspec": {
   "display_name": "Python 3 (ipykernel)",
   "language": "python",
   "name": "python3"
  },
  "language_info": {
   "codemirror_mode": {
    "name": "ipython",
    "version": 3
   },
   "file_extension": ".py",
   "mimetype": "text/x-python",
   "name": "python",
   "nbconvert_exporter": "python",
   "pygments_lexer": "ipython3",
   "version": "3.9.5"
  }
 },
 "nbformat": 4,
 "nbformat_minor": 5
}
