{
 "cells": [
  {
   "cell_type": "code",
   "execution_count": 1,
   "id": "9e13ae2a-0b5a-488a-9ea4-f6807021e9a2",
   "metadata": {},
   "outputs": [
    {
     "name": "stderr",
     "output_type": "stream",
     "text": [
      "[nltk_data] Downloading package stopwords to\n",
      "[nltk_data]     C:\\Users\\aabel\\AppData\\Roaming\\nltk_data...\n",
      "[nltk_data]   Package stopwords is already up-to-date!\n"
     ]
    }
   ],
   "source": [
    "import pandas as pd\n",
    "from collections import Counter\n",
    "from string import punctuation\n",
    "import re\n",
    "import matplotlib.pyplot as plt \n",
    "import seaborn as sns\n",
    "import nltk\n",
    "nltk.download('stopwords')\n",
    "from nltk.corpus import stopwords\n",
    "from cleaning import remove_punctuation, remove_numbers, tokenize, prepare"
   ]
  },
  {
   "cell_type": "markdown",
   "id": "347ad46a-78c2-4612-a7fd-32da9ed987fd",
   "metadata": {},
   "source": [
    "# Load Data"
   ]
  },
  {
   "cell_type": "code",
   "execution_count": 2,
   "id": "571b70b3-1580-4fdb-bc63-2f830153cf2c",
   "metadata": {},
   "outputs": [],
   "source": [
    "df = pd.read_pickle('../data/interim/drugs.pkl')"
   ]
  },
  {
   "cell_type": "code",
   "execution_count": 3,
   "id": "242f4797-4cb2-4147-b5bf-f18a3d4608da",
   "metadata": {},
   "outputs": [
    {
     "data": {
      "text/html": [
       "<div>\n",
       "<style scoped>\n",
       "    .dataframe tbody tr th:only-of-type {\n",
       "        vertical-align: middle;\n",
       "    }\n",
       "\n",
       "    .dataframe tbody tr th {\n",
       "        vertical-align: top;\n",
       "    }\n",
       "\n",
       "    .dataframe thead th {\n",
       "        text-align: right;\n",
       "    }\n",
       "</style>\n",
       "<table border=\"1\" class=\"dataframe\">\n",
       "  <thead>\n",
       "    <tr style=\"text-align: right;\">\n",
       "      <th></th>\n",
       "      <th>target</th>\n",
       "      <th>text</th>\n",
       "    </tr>\n",
       "  </thead>\n",
       "  <tbody>\n",
       "    <tr>\n",
       "      <th>0</th>\n",
       "      <td>ORAL</td>\n",
       "      <td>DOSAGE Adults- Take 4 or 6 Pellets by mouth, t...</td>\n",
       "    </tr>\n",
       "    <tr>\n",
       "      <th>1</th>\n",
       "      <td>ORAL</td>\n",
       "      <td>DIRECTIONS Adults: Dissolve 3 to 5 under the t...</td>\n",
       "    </tr>\n",
       "    <tr>\n",
       "      <th>2</th>\n",
       "      <td>OPHTHALMIC</td>\n",
       "      <td>DOSAGE AND ADMINISTRATION The recommended dosa...</td>\n",
       "    </tr>\n",
       "    <tr>\n",
       "      <th>3</th>\n",
       "      <td>ORAL</td>\n",
       "      <td>2 DOSAGE AND ADMINISTRATION Use the lowest eff...</td>\n",
       "    </tr>\n",
       "    <tr>\n",
       "      <th>4</th>\n",
       "      <td>TOPICAL</td>\n",
       "      <td>Directions wet face, apply to hand, massage fa...</td>\n",
       "    </tr>\n",
       "    <tr>\n",
       "      <th>5</th>\n",
       "      <td>ORAL</td>\n",
       "      <td>Dissolve pellets under the tongue 3-4 times da...</td>\n",
       "    </tr>\n",
       "    <tr>\n",
       "      <th>6</th>\n",
       "      <td>ORAL</td>\n",
       "      <td>2 DOSAGE AND ADMINISTRATION The recommended do...</td>\n",
       "    </tr>\n",
       "    <tr>\n",
       "      <th>7</th>\n",
       "      <td>ORAL</td>\n",
       "      <td>2 DOSAGE AND ADMINISTRATION Recommended starti...</td>\n",
       "    </tr>\n",
       "    <tr>\n",
       "      <th>8</th>\n",
       "      <td>ORAL</td>\n",
       "      <td>DOSAGE AND ADMINISTRATION Methocarbamol tablet...</td>\n",
       "    </tr>\n",
       "    <tr>\n",
       "      <th>9</th>\n",
       "      <td>TOPICAL</td>\n",
       "      <td>Directions • for itching of skin irritation, i...</td>\n",
       "    </tr>\n",
       "  </tbody>\n",
       "</table>\n",
       "</div>"
      ],
      "text/plain": [
       "       target                                               text\n",
       "0        ORAL  DOSAGE Adults- Take 4 or 6 Pellets by mouth, t...\n",
       "1        ORAL  DIRECTIONS Adults: Dissolve 3 to 5 under the t...\n",
       "2  OPHTHALMIC  DOSAGE AND ADMINISTRATION The recommended dosa...\n",
       "3        ORAL  2 DOSAGE AND ADMINISTRATION Use the lowest eff...\n",
       "4     TOPICAL  Directions wet face, apply to hand, massage fa...\n",
       "5        ORAL  Dissolve pellets under the tongue 3-4 times da...\n",
       "6        ORAL  2 DOSAGE AND ADMINISTRATION The recommended do...\n",
       "7        ORAL  2 DOSAGE AND ADMINISTRATION Recommended starti...\n",
       "8        ORAL  DOSAGE AND ADMINISTRATION Methocarbamol tablet...\n",
       "9     TOPICAL  Directions • for itching of skin irritation, i..."
      ]
     },
     "execution_count": 3,
     "metadata": {},
     "output_type": "execute_result"
    }
   ],
   "source": [
    "df.head(10)"
   ]
  },
  {
   "cell_type": "markdown",
   "id": "a3f86a7c-3dec-434d-b67d-463eae810380",
   "metadata": {},
   "source": [
    "# Tokenize"
   ]
  },
  {
   "cell_type": "code",
   "execution_count": 4,
   "id": "2af89aa8-ad78-4f7b-84e4-8638e618db2c",
   "metadata": {},
   "outputs": [],
   "source": [
    "pipeline = [str.lower, remove_punctuation, remove_numbers, tokenize]\n",
    "df['tokens'] = df['text'].apply(prepare, pipeline=pipeline)"
   ]
  },
  {
   "cell_type": "code",
   "execution_count": 5,
   "id": "9a52b442-d7cc-4ce9-819c-48419036a932",
   "metadata": {},
   "outputs": [
    {
     "data": {
      "text/html": [
       "<div>\n",
       "<style scoped>\n",
       "    .dataframe tbody tr th:only-of-type {\n",
       "        vertical-align: middle;\n",
       "    }\n",
       "\n",
       "    .dataframe tbody tr th {\n",
       "        vertical-align: top;\n",
       "    }\n",
       "\n",
       "    .dataframe thead th {\n",
       "        text-align: right;\n",
       "    }\n",
       "</style>\n",
       "<table border=\"1\" class=\"dataframe\">\n",
       "  <thead>\n",
       "    <tr style=\"text-align: right;\">\n",
       "      <th></th>\n",
       "      <th>target</th>\n",
       "      <th>text</th>\n",
       "      <th>tokens</th>\n",
       "    </tr>\n",
       "  </thead>\n",
       "  <tbody>\n",
       "    <tr>\n",
       "      <th>0</th>\n",
       "      <td>ORAL</td>\n",
       "      <td>DOSAGE Adults- Take 4 or 6 Pellets by mouth, t...</td>\n",
       "      <td>[dosage, adults, take, or, pellets, by, mouth,...</td>\n",
       "    </tr>\n",
       "    <tr>\n",
       "      <th>1</th>\n",
       "      <td>ORAL</td>\n",
       "      <td>DIRECTIONS Adults: Dissolve 3 to 5 under the t...</td>\n",
       "      <td>[directions, adults, dissolve, to, under, the,...</td>\n",
       "    </tr>\n",
       "    <tr>\n",
       "      <th>2</th>\n",
       "      <td>OPHTHALMIC</td>\n",
       "      <td>DOSAGE AND ADMINISTRATION The recommended dosa...</td>\n",
       "      <td>[dosage, and, administration, the, recommended...</td>\n",
       "    </tr>\n",
       "    <tr>\n",
       "      <th>3</th>\n",
       "      <td>ORAL</td>\n",
       "      <td>2 DOSAGE AND ADMINISTRATION Use the lowest eff...</td>\n",
       "      <td>[dosage, and, administration, use, the, lowest...</td>\n",
       "    </tr>\n",
       "    <tr>\n",
       "      <th>4</th>\n",
       "      <td>TOPICAL</td>\n",
       "      <td>Directions wet face, apply to hand, massage fa...</td>\n",
       "      <td>[directions, wet, face, apply, to, hand, massa...</td>\n",
       "    </tr>\n",
       "  </tbody>\n",
       "</table>\n",
       "</div>"
      ],
      "text/plain": [
       "       target                                               text  \\\n",
       "0        ORAL  DOSAGE Adults- Take 4 or 6 Pellets by mouth, t...   \n",
       "1        ORAL  DIRECTIONS Adults: Dissolve 3 to 5 under the t...   \n",
       "2  OPHTHALMIC  DOSAGE AND ADMINISTRATION The recommended dosa...   \n",
       "3        ORAL  2 DOSAGE AND ADMINISTRATION Use the lowest eff...   \n",
       "4     TOPICAL  Directions wet face, apply to hand, massage fa...   \n",
       "\n",
       "                                              tokens  \n",
       "0  [dosage, adults, take, or, pellets, by, mouth,...  \n",
       "1  [directions, adults, dissolve, to, under, the,...  \n",
       "2  [dosage, and, administration, the, recommended...  \n",
       "3  [dosage, and, administration, use, the, lowest...  \n",
       "4  [directions, wet, face, apply, to, hand, massa...  "
      ]
     },
     "execution_count": 5,
     "metadata": {},
     "output_type": "execute_result"
    }
   ],
   "source": [
    "df.head()"
   ]
  },
  {
   "cell_type": "markdown",
   "id": "e036c482-179d-4f87-beff-a0bb04436c63",
   "metadata": {},
   "source": [
    "The simplest tokenization just splits on whitespace. Let's try this and explore the results. "
   ]
  },
  {
   "cell_type": "code",
   "execution_count": null,
   "id": "4c30a829-06c9-4257-ac8a-ffceab4ed295",
   "metadata": {},
   "outputs": [],
   "source": [
    "pipeline = [str.lower, str.split]"
   ]
  },
  {
   "cell_type": "code",
   "execution_count": null,
   "id": "657f0dfb-6416-4517-9f8d-e1d1c9e3a27a",
   "metadata": {},
   "outputs": [],
   "source": [
    "df['tokens'] = df['text'].apply(prepare, pipeline=pipeline)"
   ]
  },
  {
   "cell_type": "code",
   "execution_count": null,
   "id": "6a1ffebc-38da-4946-86c0-cfe48f37bfc8",
   "metadata": {},
   "outputs": [],
   "source": [
    "df.head()"
   ]
  },
  {
   "cell_type": "code",
   "execution_count": null,
   "id": "dc3a84bc-c342-48a1-85f2-e9ebf3cc6248",
   "metadata": {},
   "outputs": [],
   "source": [
    "# create list of all tokens\n",
    "all_tokens = []\n",
    "df['tokens'].apply(lambda x: all_tokens.extend(x))\n",
    "print(len(all_tokens))"
   ]
  },
  {
   "cell_type": "code",
   "execution_count": null,
   "id": "7fa54e9c-e3ec-47d9-88c9-dbec3f60d19c",
   "metadata": {},
   "outputs": [],
   "source": [
    "token_counts = Counter(all_tokens)"
   ]
  },
  {
   "cell_type": "code",
   "execution_count": null,
   "id": "dc646244-b3c7-47a6-bc2f-07dbd5dc64fe",
   "metadata": {},
   "outputs": [],
   "source": [
    "types = token_counts.keys()"
   ]
  },
  {
   "cell_type": "code",
   "execution_count": null,
   "id": "f10e2c2d-6ea1-40b2-91ef-b588245da231",
   "metadata": {},
   "outputs": [],
   "source": [
    "print(\"Splitting on whitespace yields {0} tokens and {1} types.\".format(token_counts.total(), len(types)))"
   ]
  },
  {
   "cell_type": "code",
   "execution_count": null,
   "id": "05318cd0-e244-4711-8ca7-12e94073bc6d",
   "metadata": {},
   "outputs": [],
   "source": [
    "token_counts.most_common(50)"
   ]
  },
  {
   "cell_type": "markdown",
   "id": "e6efcb70-f723-4283-b630-6b2240d8582b",
   "metadata": {},
   "source": [
    "The top 30 typtes contain many stopwords. A few of them contain punctuation. "
   ]
  },
  {
   "cell_type": "markdown",
   "id": "c0e6e1f9-f421-4395-85be-f3008dfb7096",
   "metadata": {},
   "source": [
    "Let's look for other types containing punctuation."
   ]
  },
  {
   "cell_type": "code",
   "execution_count": null,
   "id": "69604c62-a3a6-482d-9a53-a7cdab818895",
   "metadata": {},
   "outputs": [],
   "source": [
    "punct_set = set(punctuation)"
   ]
  },
  {
   "cell_type": "code",
   "execution_count": null,
   "id": "3f500914-08ad-44b8-8973-3a78991956e8",
   "metadata": {},
   "outputs": [],
   "source": [
    "def contains_punct(text):\n",
    "    for char in text:\n",
    "        if char in punct_set:\n",
    "            return True\n",
    "    return False"
   ]
  },
  {
   "cell_type": "code",
   "execution_count": null,
   "id": "4c119d12-4276-4ff4-9817-81da2642fcf4",
   "metadata": {},
   "outputs": [],
   "source": [
    "types_with_punct = {t: count for t, count in token_counts.items() if contains_punct(t)}"
   ]
  },
  {
   "cell_type": "code",
   "execution_count": null,
   "id": "575cf97c-2afb-4114-ae71-b410c2674c96",
   "metadata": {},
   "outputs": [],
   "source": [
    "types_with_punct = sorted(types_with_punct.items(), key=lambda item: item[1], reverse=True)"
   ]
  },
  {
   "cell_type": "code",
   "execution_count": null,
   "id": "c07bf5b6-e636-4e73-b8ce-fc5ff8f66799",
   "metadata": {},
   "outputs": [],
   "source": [
    "types_with_punct[:50]"
   ]
  },
  {
   "cell_type": "markdown",
   "id": "34a13515-2ce4-4ef2-89d7-947c8b0c10e1",
   "metadata": {},
   "source": [
    "It seems fairly common for words to be combined with '/'. Let's take a look at these specifically. "
   ]
  },
  {
   "cell_type": "code",
   "execution_count": null,
   "id": "828e095b-f091-4a27-8593-5966c07a1760",
   "metadata": {},
   "outputs": [],
   "source": [
    "[(t, count) for t, count in dict(types_with_punct).items() if '/' in t][:50]"
   ]
  },
  {
   "cell_type": "markdown",
   "id": "f6e1784a-6fdd-4344-9b07-83c66d5dc43e",
   "metadata": {},
   "source": [
    "Most of these represent units of measurement (e.g. 'mg/day'). However, some of them represent combinations of distinct concepts (e.g. 'caregiver/family', 'pharyngitis/tonsillitis'). Splitting on whitespace would treat these as a single token, which would add unnecessary noise to the corpus. Let's try splitting on whitespace AND on '/'.  "
   ]
  },
  {
   "cell_type": "code",
   "execution_count": null,
   "id": "f8a46bed-9788-4388-9f98-70dd57042891",
   "metadata": {},
   "outputs": [],
   "source": [
    "def tokenize(text):\n",
    "    pattern = re.compile(r'[\\s/]')\n",
    "    tokens = re.split(pattern, text)\n",
    "    tokens = [t for t in tokens if t != '']\n",
    "    return tokens"
   ]
  },
  {
   "cell_type": "code",
   "execution_count": null,
   "id": "156bac10-4d72-40cb-a93e-ce5dc12a3db7",
   "metadata": {},
   "outputs": [],
   "source": [
    "tokenize('mg/day foo bar')"
   ]
  },
  {
   "cell_type": "code",
   "execution_count": null,
   "id": "69f71ad7-0b16-4c36-b6ab-25f3a4d4dc00",
   "metadata": {},
   "outputs": [],
   "source": [
    "pipeline = [str.lower, tokenize]"
   ]
  },
  {
   "cell_type": "code",
   "execution_count": null,
   "id": "4d13b1b0-44ac-49e8-b73f-a2531ec216ab",
   "metadata": {},
   "outputs": [],
   "source": [
    "df['tokens_slash'] = df['text'].apply(prepare, pipeline=pipeline)"
   ]
  },
  {
   "cell_type": "code",
   "execution_count": null,
   "id": "108c2745-d93d-496d-ba30-895fe7db21da",
   "metadata": {},
   "outputs": [],
   "source": [
    "df.head()"
   ]
  },
  {
   "cell_type": "code",
   "execution_count": null,
   "id": "73d5e555-3731-4224-9333-7cb0cdda1ad2",
   "metadata": {},
   "outputs": [],
   "source": [
    "# create list of all tokens\n",
    "all_tokens = []\n",
    "df['tokens_slash'].apply(lambda x: all_tokens.extend(x))\n",
    "print(len(all_tokens))"
   ]
  },
  {
   "cell_type": "code",
   "execution_count": null,
   "id": "341513d5-8a87-420f-af53-f7ca0618bec4",
   "metadata": {},
   "outputs": [],
   "source": [
    "token_counts = Counter(all_tokens)"
   ]
  },
  {
   "cell_type": "code",
   "execution_count": null,
   "id": "99795367-7b6a-4262-9a28-0fbcdab7b73d",
   "metadata": {},
   "outputs": [],
   "source": [
    "types = token_counts.keys()"
   ]
  },
  {
   "cell_type": "code",
   "execution_count": null,
   "id": "88df6377-0a3f-4306-885d-e8e4e2375476",
   "metadata": {},
   "outputs": [],
   "source": [
    "print(\"Splitting on whitespace and '/' yields {0} tokens and {1} types.\".format(token_counts.total(), len(types)))"
   ]
  },
  {
   "cell_type": "code",
   "execution_count": null,
   "id": "823232ac-7abd-4075-bce0-f7b8a1d0ecb2",
   "metadata": {},
   "outputs": [],
   "source": [
    "token_counts.most_common(50)"
   ]
  },
  {
   "cell_type": "markdown",
   "id": "82bb168b-9503-48d3-98fc-8d8b171451a7",
   "metadata": {},
   "source": [
    "Some of the most common types also included '-'. Let's take a look at them. "
   ]
  },
  {
   "cell_type": "code",
   "execution_count": null,
   "id": "e19271f2-f27b-4e6b-8f50-21c9982db33f",
   "metadata": {},
   "outputs": [],
   "source": [
    "{t: count for t, count in token_counts.items() if '-' in t}"
   ]
  },
  {
   "cell_type": "markdown",
   "id": "ba4f8450-2339-4406-a539-ae9959c4a7e6",
   "metadata": {},
   "source": [
    "In contrast to words combined with '/', these combined with '-' tend to represent a single concept. Splitting them into separate tokens would lose important information (e.g. 'non-psychotic'). "
   ]
  },
  {
   "cell_type": "markdown",
   "id": "7dd3a62c-6dfc-4e30-8e5c-58c934a1e83f",
   "metadata": {},
   "source": [
    "Based on the above analysis, we will split on whitespace and '/', and remove punctuation. "
   ]
  },
  {
   "cell_type": "code",
   "execution_count": null,
   "id": "24d669e7-a63f-4e82-90b1-d66fb734313c",
   "metadata": {},
   "outputs": [],
   "source": [
    "punct_set = set(punctuation)\n",
    "punct_set.remove('/') # don't remove '/' because we need it for tokenization "
   ]
  },
  {
   "cell_type": "code",
   "execution_count": null,
   "id": "c73606d9-0744-4c73-8b31-c955ec4ae9c5",
   "metadata": {},
   "outputs": [],
   "source": [
    "def remove_punctuation(text):\n",
    "    return \"\".join([char for char in text if char not in punct_set])  "
   ]
  },
  {
   "cell_type": "code",
   "execution_count": null,
   "id": "453924cc-5ebc-4523-b3d1-f9247285dea8",
   "metadata": {},
   "outputs": [],
   "source": [
    "pipeline = [str.lower, remove_punctuation, tokenize]"
   ]
  },
  {
   "cell_type": "code",
   "execution_count": null,
   "id": "238eb5cd-a3ff-40b3-9b17-a1dd71a41734",
   "metadata": {},
   "outputs": [],
   "source": [
    "prepare('This is an example/test sentence!', pipeline=pipeline)"
   ]
  },
  {
   "cell_type": "code",
   "execution_count": null,
   "id": "77f2ef98-85d7-4502-b790-96e5a066f272",
   "metadata": {},
   "outputs": [],
   "source": [
    "df['tokens_final'] = df['text'].apply(prepare, pipeline=pipeline)"
   ]
  },
  {
   "cell_type": "code",
   "execution_count": null,
   "id": "f3b375b3-f87b-423b-8731-6aca1f424e16",
   "metadata": {},
   "outputs": [],
   "source": [
    "df.head()"
   ]
  },
  {
   "cell_type": "code",
   "execution_count": null,
   "id": "03ec82db-c66f-4633-9b37-bf06a91f98d7",
   "metadata": {},
   "outputs": [],
   "source": [
    "# create list of all tokens\n",
    "all_tokens = []\n",
    "df['tokens_final'].apply(lambda x: all_tokens.extend(x))\n",
    "print(len(all_tokens))"
   ]
  },
  {
   "cell_type": "code",
   "execution_count": null,
   "id": "bec1f331-3b7a-4012-a152-37ca7965147a",
   "metadata": {},
   "outputs": [],
   "source": [
    "token_counts = Counter(all_tokens)"
   ]
  },
  {
   "cell_type": "code",
   "execution_count": null,
   "id": "d39381f4-cdae-4e7d-a57b-d397f38f3a07",
   "metadata": {},
   "outputs": [],
   "source": [
    "types = token_counts.keys()"
   ]
  },
  {
   "cell_type": "code",
   "execution_count": null,
   "id": "c5b49959-9024-4c87-b543-cbd933ef39c1",
   "metadata": {},
   "outputs": [],
   "source": [
    "print(\"Splitting on whitespace and '/' and removing punctuation yields {0} tokens and {1} types.\".format(token_counts.total(), len(types)))"
   ]
  },
  {
   "cell_type": "code",
   "execution_count": null,
   "id": "cc5ebd3d-d70d-46fe-b5cc-7c821c01ba6b",
   "metadata": {},
   "outputs": [],
   "source": [
    "token_counts.most_common(50)"
   ]
  },
  {
   "cell_type": "markdown",
   "id": "a3db62f7",
   "metadata": {},
   "source": [
    "# Stopwords EDA"
   ]
  },
  {
   "cell_type": "code",
   "execution_count": 6,
   "id": "975c4261",
   "metadata": {},
   "outputs": [
    {
     "name": "stdout",
     "output_type": "stream",
     "text": [
      "179\n"
     ]
    }
   ],
   "source": [
    "stopwords_set = set(stopwords.words('english')) # will start of with english stopwords\n",
    "print(len(stopwords_set)) # check the number of stopwords"
   ]
  },
  {
   "cell_type": "code",
   "execution_count": 7,
   "id": "0a65d6e4",
   "metadata": {},
   "outputs": [
    {
     "name": "stdout",
     "output_type": "stream",
     "text": [
      "{\"needn't\", \"you'll\", 'him', 'at', 'why', 'off', 'no', 'aren', 'ourselves', 'doesn', 'during', 'won', \"mightn't\", 'me', 'just', 'up', 'own', 'mightn', 'that', 'to', 'be', 'was', 'on', 'is', \"wouldn't\", \"you'd\", 'been', 'his', 'then', 'where', 'an', 'when', 'their', 've', 'theirs', 'wouldn', 'with', \"isn't\", 'did', 'ours', 'over', \"hadn't\", 'wasn', 'if', 'into', 'they', 'for', 'too', 'o', 'don', \"doesn't\", 're', 'both', 'i', 'or', 'you', 'after', 'here', 'below', 'had', 'have', 'yourselves', 'do', 'until', \"it's\", 'by', 'my', \"don't\", 'we', 'shan', 'such', 'only', 'does', 'and', 'than', 'about', 'again', 'as', 'these', 'isn', 'our', 'being', \"shouldn't\", 'against', 'the', 'there', \"won't\", 'those', 'which', 'while', 'itself', 'all', \"aren't\", 'needn', 'will', \"should've\", 'not', 'very', \"you're\", \"mustn't\", 'himself', 'am', 'd', 'mustn', 'll', \"shan't\", 'should', 'now', 'yourself', 'down', 'were', 'above', 'its', 'out', 'your', 'between', 'further', 'this', 'has', 'having', 'once', \"couldn't\", \"haven't\", 'other', \"didn't\", 'hasn', \"she's\", 'how', 'few', 'from', 'themselves', 'her', 'each', 'nor', 'a', 'what', 'who', \"hasn't\", 'ma', 'y', 'shouldn', \"wasn't\", 't', 'same', 'in', 'of', 'm', 'hers', 'through', 'but', 'can', 'myself', \"that'll\", 'haven', 'couldn', 'yours', \"weren't\", 'he', 'because', 'any', 'are', \"you've\", 's', 'hadn', 'under', 'them', 'whom', 'most', 'ain', 'weren', 'so', 'it', 'herself', 'she', 'some', 'before', 'more', 'doing', 'didn'}\n"
     ]
    }
   ],
   "source": [
    "print(stopwords_set) # print out the stopwords"
   ]
  },
  {
   "cell_type": "code",
   "execution_count": 8,
   "id": "b1930de4-51b2-471f-988e-ca093a2f635a",
   "metadata": {},
   "outputs": [
    {
     "name": "stdout",
     "output_type": "stream",
     "text": [
      "{'him', 'at', 'why', 'youve', 'off', 'no', 'aren', 'ourselves', 'doesn', 'during', 'won', 'me', 'just', 'up', 'own', 'mightn', 'that', 'to', 'be', 'was', 'on', 'doesnt', 'is', 'been', 'his', 'youll', 'then', 'wasnt', 'youre', 'where', 'an', 'when', 'dont', 'their', 've', 'theirs', 'neednt', 'wouldn', 'with', 'did', 'ours', 'over', 'wasn', 'if', 'wouldnt', 'into', 'mustnt', 'they', 'for', 'too', 'o', 'don', 're', 'both', 'i', 'didnt', 'or', 'you', 'after', 'here', 'wont', 'below', 'werent', 'had', 'have', 'yourselves', 'do', 'until', 'by', 'my', 'shan', 'we', 'such', 'only', 'does', 'shouldnt', 'and', 'than', 'about', 'again', 'as', 'these', 'isn', 'youd', 'our', 'being', 'against', 'the', 'there', 'those', 'which', 'while', 'itself', 'all', 'needn', 'will', 'not', 'very', 'himself', 'am', 'd', 'isnt', 'mustn', 'll', 'shant', 'shes', 'should', 'now', 'yourself', 'down', 'were', 'above', 'its', 'out', 'your', 'between', 'further', 'this', 'has', 'having', 'once', 'arent', 'other', 'hasn', 'how', 'few', 'from', 'themselves', 'her', 'each', 'hasnt', 'nor', 'a', 'what', 'who', 'thatll', 'ma', 'y', 'shouldn', 'mightnt', 't', 'same', 'in', 'of', 'm', 'hers', 'through', 'but', 'can', 'myself', 'haven', 'couldn', 'yours', 'he', 'because', 'any', 'are', 'hadnt', 's', 'hadn', 'under', 'them', 'whom', 'most', 'havent', 'ain', 'shouldve', 'weren', 'so', 'couldnt', 'it', 'herself', 'she', 'some', 'before', 'more', 'doing', 'didn'}\n"
     ]
    }
   ],
   "source": [
    "# remove punctuation from stopwords \n",
    "stopwords_set = set(map(remove_punctuation, stopwords_set))\n",
    "print(stopwords_set)"
   ]
  },
  {
   "cell_type": "code",
   "execution_count": 9,
   "id": "9018ff26-6a56-4581-a4a5-47a69b180729",
   "metadata": {},
   "outputs": [],
   "source": [
    "# function for removing the stopwords form the token column\n",
    "def remove_stopwords(tokens):\n",
    "    return [t for t in tokens if t not in stopwords_set]"
   ]
  },
  {
   "cell_type": "code",
   "execution_count": 10,
   "id": "557c9458",
   "metadata": {},
   "outputs": [
    {
     "data": {
      "text/plain": [
       "['good', 'time', 'go', 'running', 'five', 'hours', 'look']"
      ]
     },
     "execution_count": 10,
     "metadata": {},
     "output_type": "execute_result"
    }
   ],
   "source": [
    "# test the function\n",
    "test_tokens = 'when is a good time to go running only for about five hours and again look above'.split()\n",
    "remove_stopwords(test_tokens)"
   ]
  },
  {
   "cell_type": "code",
   "execution_count": 11,
   "id": "e039e26f",
   "metadata": {},
   "outputs": [
    {
     "data": {
      "text/html": [
       "<div>\n",
       "<style scoped>\n",
       "    .dataframe tbody tr th:only-of-type {\n",
       "        vertical-align: middle;\n",
       "    }\n",
       "\n",
       "    .dataframe tbody tr th {\n",
       "        vertical-align: top;\n",
       "    }\n",
       "\n",
       "    .dataframe thead th {\n",
       "        text-align: right;\n",
       "    }\n",
       "</style>\n",
       "<table border=\"1\" class=\"dataframe\">\n",
       "  <thead>\n",
       "    <tr style=\"text-align: right;\">\n",
       "      <th></th>\n",
       "      <th>target</th>\n",
       "      <th>text</th>\n",
       "      <th>tokens</th>\n",
       "      <th>tokens_no_eng_stopwords</th>\n",
       "    </tr>\n",
       "  </thead>\n",
       "  <tbody>\n",
       "    <tr>\n",
       "      <th>0</th>\n",
       "      <td>ORAL</td>\n",
       "      <td>DOSAGE Adults- Take 4 or 6 Pellets by mouth, t...</td>\n",
       "      <td>[dosage, adults, take, or, pellets, by, mouth,...</td>\n",
       "      <td>[dosage, adults, take, pellets, mouth, three, ...</td>\n",
       "    </tr>\n",
       "    <tr>\n",
       "      <th>1</th>\n",
       "      <td>ORAL</td>\n",
       "      <td>DIRECTIONS Adults: Dissolve 3 to 5 under the t...</td>\n",
       "      <td>[directions, adults, dissolve, to, under, the,...</td>\n",
       "      <td>[directions, adults, dissolve, tongue, three, ...</td>\n",
       "    </tr>\n",
       "    <tr>\n",
       "      <th>2</th>\n",
       "      <td>OPHTHALMIC</td>\n",
       "      <td>DOSAGE AND ADMINISTRATION The recommended dosa...</td>\n",
       "      <td>[dosage, and, administration, the, recommended...</td>\n",
       "      <td>[dosage, administration, recommended, dosage, ...</td>\n",
       "    </tr>\n",
       "    <tr>\n",
       "      <th>3</th>\n",
       "      <td>ORAL</td>\n",
       "      <td>2 DOSAGE AND ADMINISTRATION Use the lowest eff...</td>\n",
       "      <td>[dosage, and, administration, use, the, lowest...</td>\n",
       "      <td>[dosage, administration, use, lowest, effectiv...</td>\n",
       "    </tr>\n",
       "    <tr>\n",
       "      <th>4</th>\n",
       "      <td>TOPICAL</td>\n",
       "      <td>Directions wet face, apply to hand, massage fa...</td>\n",
       "      <td>[directions, wet, face, apply, to, hand, massa...</td>\n",
       "      <td>[directions, wet, face, apply, hand, massage, ...</td>\n",
       "    </tr>\n",
       "    <tr>\n",
       "      <th>5</th>\n",
       "      <td>ORAL</td>\n",
       "      <td>Dissolve pellets under the tongue 3-4 times da...</td>\n",
       "      <td>[dissolve, pellets, under, the, tongue, times,...</td>\n",
       "      <td>[dissolve, pellets, tongue, times, daily, ages...</td>\n",
       "    </tr>\n",
       "    <tr>\n",
       "      <th>6</th>\n",
       "      <td>ORAL</td>\n",
       "      <td>2 DOSAGE AND ADMINISTRATION The recommended do...</td>\n",
       "      <td>[dosage, and, administration, the, recommended...</td>\n",
       "      <td>[dosage, administration, recommended, dosage, ...</td>\n",
       "    </tr>\n",
       "    <tr>\n",
       "      <th>7</th>\n",
       "      <td>ORAL</td>\n",
       "      <td>2 DOSAGE AND ADMINISTRATION Recommended starti...</td>\n",
       "      <td>[dosage, and, administration, recommended, sta...</td>\n",
       "      <td>[dosage, administration, recommended, starting...</td>\n",
       "    </tr>\n",
       "    <tr>\n",
       "      <th>8</th>\n",
       "      <td>ORAL</td>\n",
       "      <td>DOSAGE AND ADMINISTRATION Methocarbamol tablet...</td>\n",
       "      <td>[dosage, and, administration, methocarbamol, t...</td>\n",
       "      <td>[dosage, administration, methocarbamol, tablet...</td>\n",
       "    </tr>\n",
       "    <tr>\n",
       "      <th>9</th>\n",
       "      <td>TOPICAL</td>\n",
       "      <td>Directions • for itching of skin irritation, i...</td>\n",
       "      <td>[directions, •, for, itching, of, skin, irrita...</td>\n",
       "      <td>[directions, •, itching, skin, irritation, inf...</td>\n",
       "    </tr>\n",
       "  </tbody>\n",
       "</table>\n",
       "</div>"
      ],
      "text/plain": [
       "       target                                               text  \\\n",
       "0        ORAL  DOSAGE Adults- Take 4 or 6 Pellets by mouth, t...   \n",
       "1        ORAL  DIRECTIONS Adults: Dissolve 3 to 5 under the t...   \n",
       "2  OPHTHALMIC  DOSAGE AND ADMINISTRATION The recommended dosa...   \n",
       "3        ORAL  2 DOSAGE AND ADMINISTRATION Use the lowest eff...   \n",
       "4     TOPICAL  Directions wet face, apply to hand, massage fa...   \n",
       "5        ORAL  Dissolve pellets under the tongue 3-4 times da...   \n",
       "6        ORAL  2 DOSAGE AND ADMINISTRATION The recommended do...   \n",
       "7        ORAL  2 DOSAGE AND ADMINISTRATION Recommended starti...   \n",
       "8        ORAL  DOSAGE AND ADMINISTRATION Methocarbamol tablet...   \n",
       "9     TOPICAL  Directions • for itching of skin irritation, i...   \n",
       "\n",
       "                                              tokens  \\\n",
       "0  [dosage, adults, take, or, pellets, by, mouth,...   \n",
       "1  [directions, adults, dissolve, to, under, the,...   \n",
       "2  [dosage, and, administration, the, recommended...   \n",
       "3  [dosage, and, administration, use, the, lowest...   \n",
       "4  [directions, wet, face, apply, to, hand, massa...   \n",
       "5  [dissolve, pellets, under, the, tongue, times,...   \n",
       "6  [dosage, and, administration, the, recommended...   \n",
       "7  [dosage, and, administration, recommended, sta...   \n",
       "8  [dosage, and, administration, methocarbamol, t...   \n",
       "9  [directions, •, for, itching, of, skin, irrita...   \n",
       "\n",
       "                             tokens_no_eng_stopwords  \n",
       "0  [dosage, adults, take, pellets, mouth, three, ...  \n",
       "1  [directions, adults, dissolve, tongue, three, ...  \n",
       "2  [dosage, administration, recommended, dosage, ...  \n",
       "3  [dosage, administration, use, lowest, effectiv...  \n",
       "4  [directions, wet, face, apply, hand, massage, ...  \n",
       "5  [dissolve, pellets, tongue, times, daily, ages...  \n",
       "6  [dosage, administration, recommended, dosage, ...  \n",
       "7  [dosage, administration, recommended, starting...  \n",
       "8  [dosage, administration, methocarbamol, tablet...  \n",
       "9  [directions, •, itching, skin, irritation, inf...  "
      ]
     },
     "execution_count": 11,
     "metadata": {},
     "output_type": "execute_result"
    }
   ],
   "source": [
    "# apply the function to the tokens\n",
    "df['tokens_no_eng_stopwords'] = df['tokens'].apply(remove_stopwords)\n",
    "df.head(10)"
   ]
  },
  {
   "cell_type": "code",
   "execution_count": 12,
   "id": "d6e25329",
   "metadata": {},
   "outputs": [
    {
     "name": "stdout",
     "output_type": "stream",
     "text": [
      "0     [dosage, adults, take, pellets, mouth, three, ...\n",
      "1     [directions, adults, dissolve, tongue, three, ...\n",
      "2     [dosage, administration, recommended, dosage, ...\n",
      "3     [dosage, administration, use, lowest, effectiv...\n",
      "4     [directions, wet, face, apply, hand, massage, ...\n",
      "5     [dissolve, pellets, tongue, times, daily, ages...\n",
      "6     [dosage, administration, recommended, dosage, ...\n",
      "7     [dosage, administration, recommended, starting...\n",
      "8     [dosage, administration, methocarbamol, tablet...\n",
      "9     [directions, •, itching, skin, irritation, inf...\n",
      "10    [dosage, administration, dosage, thyroid, horm...\n",
      "11    [directions, use, care, premature, infants, in...\n",
      "12    [directions, adults, apply, sprays, onto, tong...\n",
      "13    [directions, take, directed, adults, children,...\n",
      "14    [directions, take, doses, hour, period, measur...\n",
      "15    [directions, instill, drops, affected, eyes, n...\n",
      "16    [dosage, administration, section, directions, ...\n",
      "17    [dosage, administration, apply, thin, film, be...\n",
      "18                 [directions, apply, locally, needed]\n",
      "19    [dosage, administration, recommended, initial,...\n",
      "Name: tokens_no_eng_stopwords, dtype: object\n"
     ]
    }
   ],
   "source": [
    "print(df['tokens_no_eng_stopwords'].head(20))"
   ]
  },
  {
   "cell_type": "markdown",
   "id": "37746ea5",
   "metadata": {},
   "source": [
    "words such as directions,dosage appear frequently given that it a dataset involving drugs is to be expected, the next step is to plot the frequent words and add frequent ones to the stopwords\n"
   ]
  },
  {
   "cell_type": "code",
   "execution_count": 13,
   "id": "17813aad-49f2-407b-83ae-ded3bf017141",
   "metadata": {},
   "outputs": [
    {
     "name": "stdout",
     "output_type": "stream",
     "text": [
      "flatten_tokens[:10]: ['dosage', 'adults', 'take', 'or', 'pellets', 'by', 'mouth', 'three', 'times', 'daily']\n"
     ]
    },
    {
     "data": {
      "image/png": "[encoded data removed]",
      "text/plain": [
       "<Figure size 640x480 with 1 Axes>"
      ]
     },
     "metadata": {},
     "output_type": "display_data"
    },
    {
     "data": {
      "text/plain": [
       "<AxesSubplot: title={'center': 'Token Frequency Distribution (Raw)'}, xlabel='Samples', ylabel='Counts'>"
      ]
     },
     "execution_count": 13,
     "metadata": {},
     "output_type": "execute_result"
    }
   ],
   "source": [
    "# plot the raw tokens frequency distribution\n",
    "flatten_tokens = [y for x in df['tokens'] for y in x] # flatten the list of token lists to a single list \n",
    "print(\"flatten_tokens[:10]:\", flatten_tokens[:10])\n",
    "\n",
    "freq_tokens = nltk.FreqDist(flatten_tokens)\n",
    "freq_tokens.plot(30, cumulative=False, title='Token Frequency Distribution (Raw)')"
   ]
  },
  {
   "cell_type": "code",
   "execution_count": 14,
   "id": "4ad706a8",
   "metadata": {},
   "outputs": [
    {
     "name": "stdout",
     "output_type": "stream",
     "text": [
      "flatten_tokens[:10]: ['dosage', 'adults', 'take', 'pellets', 'mouth', 'three', 'times', 'daily', 'suggested', 'physician']\n"
     ]
    },
    {
     "data": {
      "image/png": "[encoded data removed]",
      "text/plain": [
       "<Figure size 640x480 with 1 Axes>"
      ]
     },
     "metadata": {},
     "output_type": "display_data"
    },
    {
     "data": {
      "text/plain": [
       "<AxesSubplot: title={'center': 'Token Frequency Distribution (English Stopwords Removed)'}, xlabel='Samples', ylabel='Counts'>"
      ]
     },
     "execution_count": 14,
     "metadata": {},
     "output_type": "execute_result"
    }
   ],
   "source": [
    "# plot the english stopwords-removed tokens frequency distribution\n",
    "flatten_tokens = [y for x in df['tokens_no_eng_stopwords'] for y in x]  # flatten the list of token lists to a single list\n",
    "print(\"flatten_tokens[:10]:\", flatten_tokens[:10])\n",
    "\n",
    "freq_tokens = nltk.FreqDist(flatten_tokens)\n",
    "freq_tokens.plot(30, cumulative=False, title='Token Frequency Distribution (English Stopwords Removed)')"
   ]
  },
  {
   "cell_type": "markdown",
   "id": "98a7c1fc",
   "metadata": {},
   "source": [
    "Let's remove some of the words that appear very frequently. We should be careful though not to remove any words which could be predictive of route. For example, \"tablets\" is likely indicative of the oral route. "
   ]
  },
  {
   "cell_type": "code",
   "execution_count": 15,
   "id": "1f4b029a",
   "metadata": {},
   "outputs": [
    {
     "data": {
      "text/plain": [
       "182"
      ]
     },
     "execution_count": 15,
     "metadata": {},
     "output_type": "execute_result"
    }
   ],
   "source": [
    "#add new words to the stopwords list\n",
    "additional_stopwords = ['dosage', 'administration', 'directions', '•']\n",
    "for sw in additional_stopwords:\n",
    "    stopwords_set.add(sw)\n",
    "len(stopwords_set) # check to see if the words have been added"
   ]
  },
  {
   "cell_type": "code",
   "execution_count": 16,
   "id": "781c8d7e-2210-4eae-ad78-a2c11acd7e23",
   "metadata": {},
   "outputs": [],
   "source": [
    "df['tokens_no_stopwords'] = df['tokens'].apply(remove_stopwords)"
   ]
  },
  {
   "cell_type": "code",
   "execution_count": 17,
   "id": "b3557744",
   "metadata": {},
   "outputs": [
    {
     "name": "stdout",
     "output_type": "stream",
     "text": [
      "flatten_tokens[:10]: ['adults', 'take', 'pellets', 'mouth', 'three', 'times', 'daily', 'suggested', 'physician', 'children']\n"
     ]
    },
    {
     "data": {
      "image/png": "[encoded data removed]",
      "text/plain": [
       "<Figure size 640x480 with 1 Axes>"
      ]
     },
     "metadata": {},
     "output_type": "display_data"
    },
    {
     "data": {
      "text/plain": [
       "<AxesSubplot: title={'center': 'Token Frequency Distribution (Additional Stopwords Removed)'}, xlabel='Samples', ylabel='Counts'>"
      ]
     },
     "execution_count": 17,
     "metadata": {},
     "output_type": "execute_result"
    }
   ],
   "source": [
    "# plot after additional stopword removal\n",
    "flatten_tokens = [y for x in df['tokens_no_stopwords'] for y in x]\n",
    "print(\"flatten_tokens[:10]:\", flatten_tokens[:10])\n",
    "\n",
    "freq_tokens = nltk.FreqDist(flatten_tokens)\n",
    "    \n",
    "freq_tokens.plot(30, cumulative=False, title='Token Frequency Distribution (Additional Stopwords Removed)')"
   ]
  },
  {
   "cell_type": "code",
   "execution_count": null,
   "id": "dc781497-50e8-4a90-9c14-8dc14f6b8f22",
   "metadata": {},
   "outputs": [],
   "source": []
  }
 ],
 "metadata": {
  "kernelspec": {
   "display_name": "Python 3 (ipykernel)",
   "language": "python",
   "name": "python3"
  },
  "language_info": {
   "codemirror_mode": {
    "name": "ipython",
    "version": 3
   },
   "file_extension": ".py",
   "mimetype": "text/x-python",
   "name": "python",
   "nbconvert_exporter": "python",
   "pygments_lexer": "ipython3",
   "version": "3.10.7"
  },
  "vscode": {
   "interpreter": {
    "hash": "6a8dcb405311abd8c2c7b815946bee65c89e22b2cbe2b0b88cb92134399ceaca"
   }
  }
 },
 "nbformat": 4,
 "nbformat_minor": 5
}
