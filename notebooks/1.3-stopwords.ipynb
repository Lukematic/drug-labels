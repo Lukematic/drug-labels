{
 "cells": [
  {
   "cell_type": "code",
   "execution_count": 4,
   "id": "9e13ae2a-0b5a-488a-9ea4-f6807021e9a2",
   "metadata": {},
   "outputs": [
    {
     "name": "stderr",
     "output_type": "stream",
     "text": [
      "[nltk_data] Downloading package stopwords to\n",
      "[nltk_data]     /Users/bikramgill/nltk_data...\n",
      "[nltk_data]   Package stopwords is already up-to-date!\n"
     ]
    }
   ],
   "source": [
    "import pandas as pd\n",
    "from collections import Counter\n",
    "from string import punctuation\n",
    "import re\n",
    "import matplotlib.pyplot as plt \n",
    "import seaborn as sns\n",
    "import nltk\n",
    "nltk.download('stopwords')\n",
    "from nltk.corpus import stopwords\n",
    "from cleaning import remove_punctuation, remove_numbers, tokenize, prepare"
   ]
  },
  {
   "cell_type": "markdown",
   "id": "347ad46a-78c2-4612-a7fd-32da9ed987fd",
   "metadata": {},
   "source": [
    "# Load Data"
   ]
  },
  {
   "cell_type": "code",
   "execution_count": 5,
   "id": "571b70b3-1580-4fdb-bc63-2f830153cf2c",
   "metadata": {},
   "outputs": [],
   "source": [
    "df = pd.read_pickle('../data/interim/drugs.pkl')"
   ]
  },
  {
   "cell_type": "code",
   "execution_count": 6,
   "id": "242f4797-4cb2-4147-b5bf-f18a3d4608da",
   "metadata": {},
   "outputs": [
    {
     "data": {
      "text/html": [
       "<div>\n",
       "<style scoped>\n",
       "    .dataframe tbody tr th:only-of-type {\n",
       "        vertical-align: middle;\n",
       "    }\n",
       "\n",
       "    .dataframe tbody tr th {\n",
       "        vertical-align: top;\n",
       "    }\n",
       "\n",
       "    .dataframe thead th {\n",
       "        text-align: right;\n",
       "    }\n",
       "</style>\n",
       "<table border=\"1\" class=\"dataframe\">\n",
       "  <thead>\n",
       "    <tr style=\"text-align: right;\">\n",
       "      <th></th>\n",
       "      <th>target</th>\n",
       "      <th>text</th>\n",
       "      <th>tokens</th>\n",
       "      <th>tokens_slash</th>\n",
       "      <th>tokens_final</th>\n",
       "    </tr>\n",
       "  </thead>\n",
       "  <tbody>\n",
       "    <tr>\n",
       "      <th>0</th>\n",
       "      <td>ORAL</td>\n",
       "      <td>DOSAGE Adults- Take 4 or 6 Pellets by mouth, t...</td>\n",
       "      <td>[dosage, adults-, take, 4, or, 6, pellets, by,...</td>\n",
       "      <td>[dosage, adults-, take, 4, or, 6, pellets, by,...</td>\n",
       "      <td>[dosage, adults, take, or, pellets, by, mouth,...</td>\n",
       "    </tr>\n",
       "    <tr>\n",
       "      <th>1</th>\n",
       "      <td>ORAL</td>\n",
       "      <td>DIRECTIONS Adults: Dissolve 3 to 5 under the t...</td>\n",
       "      <td>[directions, adults:, dissolve, 3, to, 5, unde...</td>\n",
       "      <td>[directions, adults:, dissolve, 3, to, 5, unde...</td>\n",
       "      <td>[directions, adults, dissolve, to, under, the,...</td>\n",
       "    </tr>\n",
       "    <tr>\n",
       "      <th>2</th>\n",
       "      <td>OPHTHALMIC</td>\n",
       "      <td>DOSAGE AND ADMINISTRATION The recommended dosa...</td>\n",
       "      <td>[dosage, and, administration, the, recommended...</td>\n",
       "      <td>[dosage, and, administration, the, recommended...</td>\n",
       "      <td>[dosage, and, administration, the, recommended...</td>\n",
       "    </tr>\n",
       "    <tr>\n",
       "      <th>3</th>\n",
       "      <td>ORAL</td>\n",
       "      <td>2 DOSAGE AND ADMINISTRATION Use the lowest eff...</td>\n",
       "      <td>[2, dosage, and, administration, use, the, low...</td>\n",
       "      <td>[2, dosage, and, administration, use, the, low...</td>\n",
       "      <td>[dosage, and, administration, use, the, lowest...</td>\n",
       "    </tr>\n",
       "    <tr>\n",
       "      <th>4</th>\n",
       "      <td>TOPICAL</td>\n",
       "      <td>Directions wet face, apply to hand, massage fa...</td>\n",
       "      <td>[directions, wet, face,, apply, to, hand,, mas...</td>\n",
       "      <td>[directions, wet, face,, apply, to, hand,, mas...</td>\n",
       "      <td>[directions, wet, face, apply, to, hand, massa...</td>\n",
       "    </tr>\n",
       "    <tr>\n",
       "      <th>5</th>\n",
       "      <td>ORAL</td>\n",
       "      <td>Dissolve pellets under the tongue 3-4 times da...</td>\n",
       "      <td>[dissolve, pellets, under, the, tongue, 3-4, t...</td>\n",
       "      <td>[dissolve, pellets, under, the, tongue, 3-4, t...</td>\n",
       "      <td>[dissolve, pellets, under, the, tongue, times,...</td>\n",
       "    </tr>\n",
       "    <tr>\n",
       "      <th>6</th>\n",
       "      <td>ORAL</td>\n",
       "      <td>2 DOSAGE AND ADMINISTRATION The recommended do...</td>\n",
       "      <td>[2, dosage, and, administration, the, recommen...</td>\n",
       "      <td>[2, dosage, and, administration, the, recommen...</td>\n",
       "      <td>[dosage, and, administration, the, recommended...</td>\n",
       "    </tr>\n",
       "    <tr>\n",
       "      <th>7</th>\n",
       "      <td>ORAL</td>\n",
       "      <td>2 DOSAGE AND ADMINISTRATION Recommended starti...</td>\n",
       "      <td>[2, dosage, and, administration, recommended, ...</td>\n",
       "      <td>[2, dosage, and, administration, recommended, ...</td>\n",
       "      <td>[dosage, and, administration, recommended, sta...</td>\n",
       "    </tr>\n",
       "    <tr>\n",
       "      <th>8</th>\n",
       "      <td>ORAL</td>\n",
       "      <td>DOSAGE AND ADMINISTRATION Methocarbamol tablet...</td>\n",
       "      <td>[dosage, and, administration, methocarbamol, t...</td>\n",
       "      <td>[dosage, and, administration, methocarbamol, t...</td>\n",
       "      <td>[dosage, and, administration, methocarbamol, t...</td>\n",
       "    </tr>\n",
       "    <tr>\n",
       "      <th>9</th>\n",
       "      <td>TOPICAL</td>\n",
       "      <td>Directions • for itching of skin irritation, i...</td>\n",
       "      <td>[directions, •, for, itching, of, skin, irrita...</td>\n",
       "      <td>[directions, •, for, itching, of, skin, irrita...</td>\n",
       "      <td>[directions, •, for, itching, of, skin, irrita...</td>\n",
       "    </tr>\n",
       "  </tbody>\n",
       "</table>\n",
       "</div>"
      ],
      "text/plain": [
       "       target                                               text  \\\n",
       "0        ORAL  DOSAGE Adults- Take 4 or 6 Pellets by mouth, t...   \n",
       "1        ORAL  DIRECTIONS Adults: Dissolve 3 to 5 under the t...   \n",
       "2  OPHTHALMIC  DOSAGE AND ADMINISTRATION The recommended dosa...   \n",
       "3        ORAL  2 DOSAGE AND ADMINISTRATION Use the lowest eff...   \n",
       "4     TOPICAL  Directions wet face, apply to hand, massage fa...   \n",
       "5        ORAL  Dissolve pellets under the tongue 3-4 times da...   \n",
       "6        ORAL  2 DOSAGE AND ADMINISTRATION The recommended do...   \n",
       "7        ORAL  2 DOSAGE AND ADMINISTRATION Recommended starti...   \n",
       "8        ORAL  DOSAGE AND ADMINISTRATION Methocarbamol tablet...   \n",
       "9     TOPICAL  Directions • for itching of skin irritation, i...   \n",
       "\n",
       "                                              tokens  \\\n",
       "0  [dosage, adults-, take, 4, or, 6, pellets, by,...   \n",
       "1  [directions, adults:, dissolve, 3, to, 5, unde...   \n",
       "2  [dosage, and, administration, the, recommended...   \n",
       "3  [2, dosage, and, administration, use, the, low...   \n",
       "4  [directions, wet, face,, apply, to, hand,, mas...   \n",
       "5  [dissolve, pellets, under, the, tongue, 3-4, t...   \n",
       "6  [2, dosage, and, administration, the, recommen...   \n",
       "7  [2, dosage, and, administration, recommended, ...   \n",
       "8  [dosage, and, administration, methocarbamol, t...   \n",
       "9  [directions, •, for, itching, of, skin, irrita...   \n",
       "\n",
       "                                        tokens_slash  \\\n",
       "0  [dosage, adults-, take, 4, or, 6, pellets, by,...   \n",
       "1  [directions, adults:, dissolve, 3, to, 5, unde...   \n",
       "2  [dosage, and, administration, the, recommended...   \n",
       "3  [2, dosage, and, administration, use, the, low...   \n",
       "4  [directions, wet, face,, apply, to, hand,, mas...   \n",
       "5  [dissolve, pellets, under, the, tongue, 3-4, t...   \n",
       "6  [2, dosage, and, administration, the, recommen...   \n",
       "7  [2, dosage, and, administration, recommended, ...   \n",
       "8  [dosage, and, administration, methocarbamol, t...   \n",
       "9  [directions, •, for, itching, of, skin, irrita...   \n",
       "\n",
       "                                        tokens_final  \n",
       "0  [dosage, adults, take, or, pellets, by, mouth,...  \n",
       "1  [directions, adults, dissolve, to, under, the,...  \n",
       "2  [dosage, and, administration, the, recommended...  \n",
       "3  [dosage, and, administration, use, the, lowest...  \n",
       "4  [directions, wet, face, apply, to, hand, massa...  \n",
       "5  [dissolve, pellets, under, the, tongue, times,...  \n",
       "6  [dosage, and, administration, the, recommended...  \n",
       "7  [dosage, and, administration, recommended, sta...  \n",
       "8  [dosage, and, administration, methocarbamol, t...  \n",
       "9  [directions, •, for, itching, of, skin, irrita...  "
      ]
     },
     "execution_count": 6,
     "metadata": {},
     "output_type": "execute_result"
    }
   ],
   "source": [
    "df.head(10)"
   ]
  },
  {
   "cell_type": "markdown",
   "id": "a3db62f7",
   "metadata": {},
   "source": [
    "# Stopwords EDA"
   ]
  },
  {
   "cell_type": "code",
   "execution_count": 7,
   "id": "975c4261",
   "metadata": {},
   "outputs": [
    {
     "name": "stdout",
     "output_type": "stream",
     "text": [
      "179\n"
     ]
    }
   ],
   "source": [
    "stopwords_set = set(stopwords.words('english')) # will start of with english stopwords\n",
    "print(len(stopwords_set)) # check the number of stopwords"
   ]
  },
  {
   "cell_type": "code",
   "execution_count": 8,
   "id": "0a65d6e4",
   "metadata": {},
   "outputs": [
    {
     "name": "stdout",
     "output_type": "stream",
     "text": [
      "{'other', \"you'd\", 'you', 'whom', 'below', 'weren', 'he', 'and', 've', \"you've\", 'with', 'against', 'during', 't', 'those', 'on', 'up', 'while', 'because', 'under', \"mustn't\", 'that', 'some', 'having', 'by', 'all', 'yourselves', 'than', 'further', \"shouldn't\", 'no', 'for', 'until', 'more', 'down', 'is', 'mightn', 'me', 'hasn', 'was', 'but', 'which', 'most', \"shan't\", 'how', 'have', \"won't\", 'wouldn', \"needn't\", 'ain', 'after', 'can', 'from', 'itself', 'should', 'why', 'needn', 'both', 'm', \"weren't\", 'isn', 'shouldn', 'himself', \"hadn't\", 'once', \"aren't\", 'who', 'her', 'this', 'of', 'been', 'themselves', 're', 'we', 'or', 'their', 'being', 'were', 'yourself', 'these', 'did', 'what', 'myself', 'between', 'if', 'where', 'my', 'into', 'through', 'few', 'his', 'too', 'herself', 'has', 'again', 'here', \"that'll\", 'doing', 'in', 'ma', 'wasn', 'at', 'above', \"you're\", 'will', \"should've\", 'such', 'couldn', \"wouldn't\", 'd', 'each', 'be', 'same', 'haven', \"she's\", 'to', 'aren', 'our', 'she', 'out', 'any', 'just', 'hadn', 'mustn', 'don', \"didn't\", 'the', 'about', 'am', 'only', 'nor', 'o', 'so', 'll', 'when', 'it', 'i', \"doesn't\", \"isn't\", \"wasn't\", 'as', 'off', \"don't\", 'do', 'there', 'had', 'hers', 'a', 'they', 'before', 'didn', \"mightn't\", 'now', 'not', 'ourselves', \"haven't\", \"it's\", 'them', 'y', \"you'll\", 'yours', 'are', 'an', 'your', 'over', 'doesn', 'him', 'its', 'does', 'shan', \"couldn't\", 'then', 'very', 'theirs', \"hasn't\", 's', 'won', 'own', 'ours'}\n"
     ]
    }
   ],
   "source": [
    "print(stopwords_set) # print out the stopwords"
   ]
  },
  {
   "cell_type": "code",
   "execution_count": 9,
   "id": "b1930de4-51b2-471f-988e-ca093a2f635a",
   "metadata": {},
   "outputs": [
    {
     "name": "stdout",
     "output_type": "stream",
     "text": [
      "{'arent', 'other', 'you', 'couldnt', 'whom', 'below', 'mightnt', 'weren', 'he', 'and', 've', 'with', 'against', 'during', 't', 'those', 'thatll', 'wasnt', 'havent', 'on', 'up', 'while', 'because', 'under', 'that', 'some', 'having', 'by', 'all', 'yourselves', 'than', 'further', 'doesnt', 'no', 'for', 'until', 'more', 'down', 'is', 'mightn', 'me', 'shes', 'hasn', 'was', 'neednt', 'most', 'but', 'which', 'how', 'have', 'wouldn', 'ain', 'after', 'can', 'from', 'itself', 'should', 'why', 'needn', 'both', 'dont', 'm', 'wont', 'isn', 'shouldn', 'himself', 'didnt', 'once', 'who', 'her', 'this', 'youll', 'of', 'been', 'themselves', 'we', 'or', 'their', 'being', 'were', 'yourself', 'these', 'did', 'mustnt', 'what', 'myself', 'between', 'if', 'where', 'my', 'into', 'through', 'few', 'his', 'too', 'herself', 'has', 'again', 'here', 'doing', 'in', 'ma', 'wasn', 'at', 'above', 'shant', 'youve', 'will', 'such', 'wouldnt', 'shouldnt', 'couldn', 'd', 'each', 'be', 'same', 'haven', 'to', 'aren', 'shouldve', 'our', 'she', 'out', 'any', 'just', 'hadn', 'mustn', 'don', 'the', 'about', 'am', 'only', 'nor', 'youre', 'o', 'so', 'hadnt', 'll', 'when', 'it', 'i', 'youd', 'hasnt', 'as', 'off', 'do', 'there', 'had', 'hers', 'a', 'they', 'before', 'own', 'didn', 'now', 'not', 'ourselves', 'isnt', 'them', 'y', 'yours', 'werent', 'are', 'an', 'your', 'over', 'doesn', 'its', 'him', 'does', 'shan', 'then', 'very', 'theirs', 's', 'won', 're', 'ours'}\n"
     ]
    }
   ],
   "source": [
    "# remove punctuation from stopwords \n",
    "stopwords_set = set(map(remove_punctuation, stopwords_set))\n",
    "print(stopwords_set)"
   ]
  },
  {
   "cell_type": "code",
   "execution_count": 10,
   "id": "9018ff26-6a56-4581-a4a5-47a69b180729",
   "metadata": {},
   "outputs": [],
   "source": [
    "# function for removing the stopwords form the token column\n",
    "def remove_stopwords(tokens):\n",
    "    return [t for t in tokens if t not in stopwords_set]"
   ]
  },
  {
   "cell_type": "code",
   "execution_count": 11,
   "id": "557c9458",
   "metadata": {},
   "outputs": [
    {
     "data": {
      "text/plain": [
       "['good', 'time', 'go', 'running', 'five', 'hours', 'look']"
      ]
     },
     "execution_count": 11,
     "metadata": {},
     "output_type": "execute_result"
    }
   ],
   "source": [
    "# test the function\n",
    "test_tokens = 'when is a good time to go running only for about five hours and again look above'.split()\n",
    "remove_stopwords(test_tokens)"
   ]
  },
  {
   "cell_type": "code",
   "execution_count": 13,
   "id": "e039e26f",
   "metadata": {},
   "outputs": [
    {
     "data": {
      "text/html": [
       "<div>\n",
       "<style scoped>\n",
       "    .dataframe tbody tr th:only-of-type {\n",
       "        vertical-align: middle;\n",
       "    }\n",
       "\n",
       "    .dataframe tbody tr th {\n",
       "        vertical-align: top;\n",
       "    }\n",
       "\n",
       "    .dataframe thead th {\n",
       "        text-align: right;\n",
       "    }\n",
       "</style>\n",
       "<table border=\"1\" class=\"dataframe\">\n",
       "  <thead>\n",
       "    <tr style=\"text-align: right;\">\n",
       "      <th></th>\n",
       "      <th>target</th>\n",
       "      <th>text</th>\n",
       "      <th>tokens</th>\n",
       "      <th>tokens_slash</th>\n",
       "      <th>tokens_final</th>\n",
       "      <th>tokens_no_eng_stopwords</th>\n",
       "    </tr>\n",
       "  </thead>\n",
       "  <tbody>\n",
       "    <tr>\n",
       "      <th>0</th>\n",
       "      <td>ORAL</td>\n",
       "      <td>DOSAGE Adults- Take 4 or 6 Pellets by mouth, t...</td>\n",
       "      <td>[dosage, adults-, take, 4, or, 6, pellets, by,...</td>\n",
       "      <td>[dosage, adults-, take, 4, or, 6, pellets, by,...</td>\n",
       "      <td>[dosage, adults, take, or, pellets, by, mouth,...</td>\n",
       "      <td>[dosage, adults, take, pellets, mouth, three, ...</td>\n",
       "    </tr>\n",
       "    <tr>\n",
       "      <th>1</th>\n",
       "      <td>ORAL</td>\n",
       "      <td>DIRECTIONS Adults: Dissolve 3 to 5 under the t...</td>\n",
       "      <td>[directions, adults:, dissolve, 3, to, 5, unde...</td>\n",
       "      <td>[directions, adults:, dissolve, 3, to, 5, unde...</td>\n",
       "      <td>[directions, adults, dissolve, to, under, the,...</td>\n",
       "      <td>[directions, adults, dissolve, tongue, three, ...</td>\n",
       "    </tr>\n",
       "    <tr>\n",
       "      <th>2</th>\n",
       "      <td>OPHTHALMIC</td>\n",
       "      <td>DOSAGE AND ADMINISTRATION The recommended dosa...</td>\n",
       "      <td>[dosage, and, administration, the, recommended...</td>\n",
       "      <td>[dosage, and, administration, the, recommended...</td>\n",
       "      <td>[dosage, and, administration, the, recommended...</td>\n",
       "      <td>[dosage, administration, recommended, dosage, ...</td>\n",
       "    </tr>\n",
       "    <tr>\n",
       "      <th>3</th>\n",
       "      <td>ORAL</td>\n",
       "      <td>2 DOSAGE AND ADMINISTRATION Use the lowest eff...</td>\n",
       "      <td>[2, dosage, and, administration, use, the, low...</td>\n",
       "      <td>[2, dosage, and, administration, use, the, low...</td>\n",
       "      <td>[dosage, and, administration, use, the, lowest...</td>\n",
       "      <td>[dosage, administration, use, lowest, effectiv...</td>\n",
       "    </tr>\n",
       "    <tr>\n",
       "      <th>4</th>\n",
       "      <td>TOPICAL</td>\n",
       "      <td>Directions wet face, apply to hand, massage fa...</td>\n",
       "      <td>[directions, wet, face,, apply, to, hand,, mas...</td>\n",
       "      <td>[directions, wet, face,, apply, to, hand,, mas...</td>\n",
       "      <td>[directions, wet, face, apply, to, hand, massa...</td>\n",
       "      <td>[directions, wet, face, apply, hand, massage, ...</td>\n",
       "    </tr>\n",
       "    <tr>\n",
       "      <th>5</th>\n",
       "      <td>ORAL</td>\n",
       "      <td>Dissolve pellets under the tongue 3-4 times da...</td>\n",
       "      <td>[dissolve, pellets, under, the, tongue, 3-4, t...</td>\n",
       "      <td>[dissolve, pellets, under, the, tongue, 3-4, t...</td>\n",
       "      <td>[dissolve, pellets, under, the, tongue, times,...</td>\n",
       "      <td>[dissolve, pellets, tongue, times, daily, ages...</td>\n",
       "    </tr>\n",
       "    <tr>\n",
       "      <th>6</th>\n",
       "      <td>ORAL</td>\n",
       "      <td>2 DOSAGE AND ADMINISTRATION The recommended do...</td>\n",
       "      <td>[2, dosage, and, administration, the, recommen...</td>\n",
       "      <td>[2, dosage, and, administration, the, recommen...</td>\n",
       "      <td>[dosage, and, administration, the, recommended...</td>\n",
       "      <td>[dosage, administration, recommended, dosage, ...</td>\n",
       "    </tr>\n",
       "    <tr>\n",
       "      <th>7</th>\n",
       "      <td>ORAL</td>\n",
       "      <td>2 DOSAGE AND ADMINISTRATION Recommended starti...</td>\n",
       "      <td>[2, dosage, and, administration, recommended, ...</td>\n",
       "      <td>[2, dosage, and, administration, recommended, ...</td>\n",
       "      <td>[dosage, and, administration, recommended, sta...</td>\n",
       "      <td>[dosage, administration, recommended, starting...</td>\n",
       "    </tr>\n",
       "    <tr>\n",
       "      <th>8</th>\n",
       "      <td>ORAL</td>\n",
       "      <td>DOSAGE AND ADMINISTRATION Methocarbamol tablet...</td>\n",
       "      <td>[dosage, and, administration, methocarbamol, t...</td>\n",
       "      <td>[dosage, and, administration, methocarbamol, t...</td>\n",
       "      <td>[dosage, and, administration, methocarbamol, t...</td>\n",
       "      <td>[dosage, administration, methocarbamol, tablet...</td>\n",
       "    </tr>\n",
       "    <tr>\n",
       "      <th>9</th>\n",
       "      <td>TOPICAL</td>\n",
       "      <td>Directions • for itching of skin irritation, i...</td>\n",
       "      <td>[directions, •, for, itching, of, skin, irrita...</td>\n",
       "      <td>[directions, •, for, itching, of, skin, irrita...</td>\n",
       "      <td>[directions, •, for, itching, of, skin, irrita...</td>\n",
       "      <td>[directions, •, itching, skin, irritation, inf...</td>\n",
       "    </tr>\n",
       "  </tbody>\n",
       "</table>\n",
       "</div>"
      ],
      "text/plain": [
       "       target                                               text  \\\n",
       "0        ORAL  DOSAGE Adults- Take 4 or 6 Pellets by mouth, t...   \n",
       "1        ORAL  DIRECTIONS Adults: Dissolve 3 to 5 under the t...   \n",
       "2  OPHTHALMIC  DOSAGE AND ADMINISTRATION The recommended dosa...   \n",
       "3        ORAL  2 DOSAGE AND ADMINISTRATION Use the lowest eff...   \n",
       "4     TOPICAL  Directions wet face, apply to hand, massage fa...   \n",
       "5        ORAL  Dissolve pellets under the tongue 3-4 times da...   \n",
       "6        ORAL  2 DOSAGE AND ADMINISTRATION The recommended do...   \n",
       "7        ORAL  2 DOSAGE AND ADMINISTRATION Recommended starti...   \n",
       "8        ORAL  DOSAGE AND ADMINISTRATION Methocarbamol tablet...   \n",
       "9     TOPICAL  Directions • for itching of skin irritation, i...   \n",
       "\n",
       "                                              tokens  \\\n",
       "0  [dosage, adults-, take, 4, or, 6, pellets, by,...   \n",
       "1  [directions, adults:, dissolve, 3, to, 5, unde...   \n",
       "2  [dosage, and, administration, the, recommended...   \n",
       "3  [2, dosage, and, administration, use, the, low...   \n",
       "4  [directions, wet, face,, apply, to, hand,, mas...   \n",
       "5  [dissolve, pellets, under, the, tongue, 3-4, t...   \n",
       "6  [2, dosage, and, administration, the, recommen...   \n",
       "7  [2, dosage, and, administration, recommended, ...   \n",
       "8  [dosage, and, administration, methocarbamol, t...   \n",
       "9  [directions, •, for, itching, of, skin, irrita...   \n",
       "\n",
       "                                        tokens_slash  \\\n",
       "0  [dosage, adults-, take, 4, or, 6, pellets, by,...   \n",
       "1  [directions, adults:, dissolve, 3, to, 5, unde...   \n",
       "2  [dosage, and, administration, the, recommended...   \n",
       "3  [2, dosage, and, administration, use, the, low...   \n",
       "4  [directions, wet, face,, apply, to, hand,, mas...   \n",
       "5  [dissolve, pellets, under, the, tongue, 3-4, t...   \n",
       "6  [2, dosage, and, administration, the, recommen...   \n",
       "7  [2, dosage, and, administration, recommended, ...   \n",
       "8  [dosage, and, administration, methocarbamol, t...   \n",
       "9  [directions, •, for, itching, of, skin, irrita...   \n",
       "\n",
       "                                        tokens_final  \\\n",
       "0  [dosage, adults, take, or, pellets, by, mouth,...   \n",
       "1  [directions, adults, dissolve, to, under, the,...   \n",
       "2  [dosage, and, administration, the, recommended...   \n",
       "3  [dosage, and, administration, use, the, lowest...   \n",
       "4  [directions, wet, face, apply, to, hand, massa...   \n",
       "5  [dissolve, pellets, under, the, tongue, times,...   \n",
       "6  [dosage, and, administration, the, recommended...   \n",
       "7  [dosage, and, administration, recommended, sta...   \n",
       "8  [dosage, and, administration, methocarbamol, t...   \n",
       "9  [directions, •, for, itching, of, skin, irrita...   \n",
       "\n",
       "                             tokens_no_eng_stopwords  \n",
       "0  [dosage, adults, take, pellets, mouth, three, ...  \n",
       "1  [directions, adults, dissolve, tongue, three, ...  \n",
       "2  [dosage, administration, recommended, dosage, ...  \n",
       "3  [dosage, administration, use, lowest, effectiv...  \n",
       "4  [directions, wet, face, apply, hand, massage, ...  \n",
       "5  [dissolve, pellets, tongue, times, daily, ages...  \n",
       "6  [dosage, administration, recommended, dosage, ...  \n",
       "7  [dosage, administration, recommended, starting...  \n",
       "8  [dosage, administration, methocarbamol, tablet...  \n",
       "9  [directions, •, itching, skin, irritation, inf...  "
      ]
     },
     "execution_count": 13,
     "metadata": {},
     "output_type": "execute_result"
    }
   ],
   "source": [
    "# apply the function to the tokens\n",
    "df['tokens_no_eng_stopwords'] = df['tokens_final'].apply(remove_stopwords)\n",
    "df.head(10)"
   ]
  },
  {
   "cell_type": "code",
   "execution_count": 14,
   "id": "d6e25329",
   "metadata": {},
   "outputs": [
    {
     "name": "stdout",
     "output_type": "stream",
     "text": [
      "0     [dosage, adults, take, pellets, mouth, three, ...\n",
      "1     [directions, adults, dissolve, tongue, three, ...\n",
      "2     [dosage, administration, recommended, dosage, ...\n",
      "3     [dosage, administration, use, lowest, effectiv...\n",
      "4     [directions, wet, face, apply, hand, massage, ...\n",
      "5     [dissolve, pellets, tongue, times, daily, ages...\n",
      "6     [dosage, administration, recommended, dosage, ...\n",
      "7     [dosage, administration, recommended, starting...\n",
      "8     [dosage, administration, methocarbamol, tablet...\n",
      "9     [directions, •, itching, skin, irritation, inf...\n",
      "10    [dosage, administration, dosage, thyroid, horm...\n",
      "11    [directions, use, care, premature, infants, in...\n",
      "12    [directions, adults, apply, sprays, onto, tong...\n",
      "13    [directions, take, directed, adults, children,...\n",
      "14    [directions, take, doses, hour, period, measur...\n",
      "15    [directions, instill, drops, affected, eyes, n...\n",
      "16    [dosage, administration, section, directions, ...\n",
      "17    [dosage, administration, apply, thin, film, be...\n",
      "18                 [directions, apply, locally, needed]\n",
      "19    [dosage, administration, recommended, initial,...\n",
      "Name: tokens_no_eng_stopwords, dtype: object\n"
     ]
    }
   ],
   "source": [
    "print(df['tokens_no_eng_stopwords'].head(20))"
   ]
  },
  {
   "cell_type": "markdown",
   "id": "37746ea5",
   "metadata": {},
   "source": [
    "words such as directions,dosage appear frequently given that it a dataset involving drugs is to be expected, the next step is to plot the frequent words and add frequent ones to the stopwords\n"
   ]
  },
  {
   "cell_type": "code",
   "execution_count": 15,
   "id": "17813aad-49f2-407b-83ae-ded3bf017141",
   "metadata": {},
   "outputs": [
    {
     "name": "stdout",
     "output_type": "stream",
     "text": [
      "flatten_tokens[:10]: ['dosage', 'adults', 'take', 'or', 'pellets', 'by', 'mouth', 'three', 'times', 'daily']\n"
     ]
    },
    {
     "data": {
      "image/png": "[encoded data removed]",
      "text/plain": [
       "<Figure size 432x288 with 1 Axes>"
      ]
     },
     "metadata": {
      "needs_background": "light"
     },
     "output_type": "display_data"
    },
    {
     "data": {
      "text/plain": [
       "<AxesSubplot:title={'center':'Token Frequency Distribution (Raw)'}, xlabel='Samples', ylabel='Counts'>"
      ]
     },
     "execution_count": 15,
     "metadata": {},
     "output_type": "execute_result"
    }
   ],
   "source": [
    "# plot the raw tokens frequency distribution\n",
    "flatten_tokens = [y for x in df['tokens_final'] for y in x] # flatten the list of token lists to a single list \n",
    "print(\"flatten_tokens[:10]:\", flatten_tokens[:10])\n",
    "\n",
    "freq_tokens = nltk.FreqDist(flatten_tokens)\n",
    "freq_tokens.plot(30, cumulative=False, title='Token Frequency Distribution (Raw)')"
   ]
  },
  {
   "cell_type": "code",
   "execution_count": 16,
   "id": "4ad706a8",
   "metadata": {},
   "outputs": [
    {
     "name": "stdout",
     "output_type": "stream",
     "text": [
      "flatten_tokens[:10]: ['dosage', 'adults', 'take', 'pellets', 'mouth', 'three', 'times', 'daily', 'suggested', 'physician']\n"
     ]
    },
    {
     "data": {
      "image/png": "[encoded data removed]",
      "text/plain": [
       "<Figure size 432x288 with 1 Axes>"
      ]
     },
     "metadata": {
      "needs_background": "light"
     },
     "output_type": "display_data"
    },
    {
     "data": {
      "text/plain": [
       "<AxesSubplot:title={'center':'Token Frequency Distribution (English Stopwords Removed)'}, xlabel='Samples', ylabel='Counts'>"
      ]
     },
     "execution_count": 16,
     "metadata": {},
     "output_type": "execute_result"
    }
   ],
   "source": [
    "# plot the english stopwords-removed tokens frequency distribution\n",
    "flatten_tokens = [y for x in df['tokens_no_eng_stopwords'] for y in x]  # flatten the list of token lists to a single list\n",
    "print(\"flatten_tokens[:10]:\", flatten_tokens[:10])\n",
    "\n",
    "freq_tokens = nltk.FreqDist(flatten_tokens)\n",
    "freq_tokens.plot(30, cumulative=False, title='Token Frequency Distribution (English Stopwords Removed)')"
   ]
  },
  {
   "cell_type": "markdown",
   "id": "98a7c1fc",
   "metadata": {},
   "source": [
    "Let's remove some of the words that appear very frequently. We should be careful though not to remove any words which could be predictive of route. For example, \"tablets\" is likely indicative of the oral route. "
   ]
  },
  {
   "cell_type": "code",
   "execution_count": 17,
   "id": "1f4b029a",
   "metadata": {},
   "outputs": [
    {
     "data": {
      "text/plain": [
       "182"
      ]
     },
     "execution_count": 17,
     "metadata": {},
     "output_type": "execute_result"
    }
   ],
   "source": [
    "#add new words to the stopwords list\n",
    "additional_stopwords = ['dosage', 'administration', 'directions', '•']\n",
    "for sw in additional_stopwords:\n",
    "    stopwords_set.add(sw)\n",
    "len(stopwords_set) # check to see if the words have been added"
   ]
  },
  {
   "cell_type": "code",
   "execution_count": 19,
   "id": "781c8d7e-2210-4eae-ad78-a2c11acd7e23",
   "metadata": {},
   "outputs": [],
   "source": [
    "df['tokens_no_stopwords'] = df['tokens_final'].apply(remove_stopwords)"
   ]
  },
  {
   "cell_type": "code",
   "execution_count": 20,
   "id": "b3557744",
   "metadata": {},
   "outputs": [
    {
     "name": "stdout",
     "output_type": "stream",
     "text": [
      "flatten_tokens[:10]: ['adults', 'take', 'pellets', 'mouth', 'three', 'times', 'daily', 'suggested', 'physician', 'children']\n"
     ]
    },
    {
     "data": {
      "image/png": "[encoded data removed]",
      "text/plain": [
       "<Figure size 432x288 with 1 Axes>"
      ]
     },
     "metadata": {
      "needs_background": "light"
     },
     "output_type": "display_data"
    },
    {
     "data": {
      "text/plain": [
       "<AxesSubplot:title={'center':'Token Frequency Distribution (Additional Stopwords Removed)'}, xlabel='Samples', ylabel='Counts'>"
      ]
     },
     "execution_count": 20,
     "metadata": {},
     "output_type": "execute_result"
    }
   ],
   "source": [
    "# plot after additional stopword removal\n",
    "flatten_tokens = [y for x in df['tokens_no_stopwords'] for y in x]\n",
    "print(\"flatten_tokens[:10]:\", flatten_tokens[:10])\n",
    "\n",
    "freq_tokens = nltk.FreqDist(flatten_tokens)\n",
    "    \n",
    "freq_tokens.plot(30, cumulative=False, title='Token Frequency Distribution (Additional Stopwords Removed)')"
   ]
  },
  {
   "cell_type": "code",
   "execution_count": 21,
   "id": "dc781497-50e8-4a90-9c14-8dc14f6b8f22",
   "metadata": {},
   "outputs": [],
   "source": [
    "df.to_pickle('../data/interim/drugs.pkl') # save the dataframe as a pickle file to the data/raw directory|"
   ]
  },
  {
   "cell_type": "code",
   "execution_count": 22,
   "id": "941f8672",
   "metadata": {},
   "outputs": [
    {
     "data": {
      "text/html": [
       "<div>\n",
       "<style scoped>\n",
       "    .dataframe tbody tr th:only-of-type {\n",
       "        vertical-align: middle;\n",
       "    }\n",
       "\n",
       "    .dataframe tbody tr th {\n",
       "        vertical-align: top;\n",
       "    }\n",
       "\n",
       "    .dataframe thead th {\n",
       "        text-align: right;\n",
       "    }\n",
       "</style>\n",
       "<table border=\"1\" class=\"dataframe\">\n",
       "  <thead>\n",
       "    <tr style=\"text-align: right;\">\n",
       "      <th></th>\n",
       "      <th>target</th>\n",
       "      <th>text</th>\n",
       "      <th>tokens</th>\n",
       "      <th>tokens_slash</th>\n",
       "      <th>tokens_final</th>\n",
       "      <th>tokens_no_eng_stopwords</th>\n",
       "      <th>tokens_no_stopwords</th>\n",
       "    </tr>\n",
       "  </thead>\n",
       "  <tbody>\n",
       "    <tr>\n",
       "      <th>0</th>\n",
       "      <td>ORAL</td>\n",
       "      <td>DOSAGE Adults- Take 4 or 6 Pellets by mouth, t...</td>\n",
       "      <td>[dosage, adults-, take, 4, or, 6, pellets, by,...</td>\n",
       "      <td>[dosage, adults-, take, 4, or, 6, pellets, by,...</td>\n",
       "      <td>[dosage, adults, take, or, pellets, by, mouth,...</td>\n",
       "      <td>[dosage, adults, take, pellets, mouth, three, ...</td>\n",
       "      <td>[adults, take, pellets, mouth, three, times, d...</td>\n",
       "    </tr>\n",
       "    <tr>\n",
       "      <th>1</th>\n",
       "      <td>ORAL</td>\n",
       "      <td>DIRECTIONS Adults: Dissolve 3 to 5 under the t...</td>\n",
       "      <td>[directions, adults:, dissolve, 3, to, 5, unde...</td>\n",
       "      <td>[directions, adults:, dissolve, 3, to, 5, unde...</td>\n",
       "      <td>[directions, adults, dissolve, to, under, the,...</td>\n",
       "      <td>[directions, adults, dissolve, tongue, three, ...</td>\n",
       "      <td>[adults, dissolve, tongue, three, times, day, ...</td>\n",
       "    </tr>\n",
       "    <tr>\n",
       "      <th>2</th>\n",
       "      <td>OPHTHALMIC</td>\n",
       "      <td>DOSAGE AND ADMINISTRATION The recommended dosa...</td>\n",
       "      <td>[dosage, and, administration, the, recommended...</td>\n",
       "      <td>[dosage, and, administration, the, recommended...</td>\n",
       "      <td>[dosage, and, administration, the, recommended...</td>\n",
       "      <td>[dosage, administration, recommended, dosage, ...</td>\n",
       "      <td>[recommended, regimen, treatment, bacterial, c...</td>\n",
       "    </tr>\n",
       "    <tr>\n",
       "      <th>3</th>\n",
       "      <td>ORAL</td>\n",
       "      <td>2 DOSAGE AND ADMINISTRATION Use the lowest eff...</td>\n",
       "      <td>[2, dosage, and, administration, use, the, low...</td>\n",
       "      <td>[2, dosage, and, administration, use, the, low...</td>\n",
       "      <td>[dosage, and, administration, use, the, lowest...</td>\n",
       "      <td>[dosage, administration, use, lowest, effectiv...</td>\n",
       "      <td>[use, lowest, effective, shortest, duration, c...</td>\n",
       "    </tr>\n",
       "    <tr>\n",
       "      <th>4</th>\n",
       "      <td>TOPICAL</td>\n",
       "      <td>Directions wet face, apply to hand, massage fa...</td>\n",
       "      <td>[directions, wet, face,, apply, to, hand,, mas...</td>\n",
       "      <td>[directions, wet, face,, apply, to, hand,, mas...</td>\n",
       "      <td>[directions, wet, face, apply, to, hand, massa...</td>\n",
       "      <td>[directions, wet, face, apply, hand, massage, ...</td>\n",
       "      <td>[wet, face, apply, hand, massage, face, gently...</td>\n",
       "    </tr>\n",
       "    <tr>\n",
       "      <th>...</th>\n",
       "      <td>...</td>\n",
       "      <td>...</td>\n",
       "      <td>...</td>\n",
       "      <td>...</td>\n",
       "      <td>...</td>\n",
       "      <td>...</td>\n",
       "      <td>...</td>\n",
       "    </tr>\n",
       "    <tr>\n",
       "      <th>85642</th>\n",
       "      <td>TOPICAL</td>\n",
       "      <td>DOSAGE AND ADMINISTRATION: Comb the hair to re...</td>\n",
       "      <td>[dosage, and, administration:, comb, the, hair...</td>\n",
       "      <td>[dosage, and, administration:, comb, the, hair...</td>\n",
       "      <td>[dosage, and, administration, comb, the, hair,...</td>\n",
       "      <td>[dosage, administration, comb, hair, remove, s...</td>\n",
       "      <td>[comb, hair, remove, scaly, debris, suitably, ...</td>\n",
       "    </tr>\n",
       "    <tr>\n",
       "      <th>85643</th>\n",
       "      <td>ORAL</td>\n",
       "      <td>DOSAGE AND ADMINISTRATION Hypertension Individ...</td>\n",
       "      <td>[dosage, and, administration, hypertension, in...</td>\n",
       "      <td>[dosage, and, administration, hypertension, in...</td>\n",
       "      <td>[dosage, and, administration, hypertension, in...</td>\n",
       "      <td>[dosage, administration, hypertension, individ...</td>\n",
       "      <td>[hypertension, individualize, metoprolol, tart...</td>\n",
       "    </tr>\n",
       "    <tr>\n",
       "      <th>85644</th>\n",
       "      <td>ORAL</td>\n",
       "      <td>Take 3-4 times daily. Ages 12 and older: 10 dr...</td>\n",
       "      <td>[take, 3-4, times, daily., ages, 12, and, olde...</td>\n",
       "      <td>[take, 3-4, times, daily., ages, 12, and, olde...</td>\n",
       "      <td>[take, times, daily, ages, and, older, drops, ...</td>\n",
       "      <td>[take, times, daily, ages, older, drops, ages,...</td>\n",
       "      <td>[take, times, daily, ages, older, drops, ages,...</td>\n",
       "    </tr>\n",
       "    <tr>\n",
       "      <th>85645</th>\n",
       "      <td>TOPICAL</td>\n",
       "      <td>Directions apply to underarms only</td>\n",
       "      <td>[directions, apply, to, underarms, only]</td>\n",
       "      <td>[directions, apply, to, underarms, only]</td>\n",
       "      <td>[directions, apply, to, underarms, only]</td>\n",
       "      <td>[directions, apply, underarms]</td>\n",
       "      <td>[apply, underarms]</td>\n",
       "    </tr>\n",
       "    <tr>\n",
       "      <th>85646</th>\n",
       "      <td>INTRAVENOUS</td>\n",
       "      <td>2 DOSAGE AND ADMINISTRATION Adult Dose : 1500 ...</td>\n",
       "      <td>[2, dosage, and, administration, adult, dose, ...</td>\n",
       "      <td>[2, dosage, and, administration, adult, dose, ...</td>\n",
       "      <td>[dosage, and, administration, adult, dose, mg,...</td>\n",
       "      <td>[dosage, administration, adult, dose, mg, admi...</td>\n",
       "      <td>[adult, dose, mg, administered, intravenously,...</td>\n",
       "    </tr>\n",
       "  </tbody>\n",
       "</table>\n",
       "<p>85647 rows × 7 columns</p>\n",
       "</div>"
      ],
      "text/plain": [
       "            target                                               text  \\\n",
       "0             ORAL  DOSAGE Adults- Take 4 or 6 Pellets by mouth, t...   \n",
       "1             ORAL  DIRECTIONS Adults: Dissolve 3 to 5 under the t...   \n",
       "2       OPHTHALMIC  DOSAGE AND ADMINISTRATION The recommended dosa...   \n",
       "3             ORAL  2 DOSAGE AND ADMINISTRATION Use the lowest eff...   \n",
       "4          TOPICAL  Directions wet face, apply to hand, massage fa...   \n",
       "...            ...                                                ...   \n",
       "85642      TOPICAL  DOSAGE AND ADMINISTRATION: Comb the hair to re...   \n",
       "85643         ORAL  DOSAGE AND ADMINISTRATION Hypertension Individ...   \n",
       "85644         ORAL  Take 3-4 times daily. Ages 12 and older: 10 dr...   \n",
       "85645      TOPICAL                 Directions apply to underarms only   \n",
       "85646  INTRAVENOUS  2 DOSAGE AND ADMINISTRATION Adult Dose : 1500 ...   \n",
       "\n",
       "                                                  tokens  \\\n",
       "0      [dosage, adults-, take, 4, or, 6, pellets, by,...   \n",
       "1      [directions, adults:, dissolve, 3, to, 5, unde...   \n",
       "2      [dosage, and, administration, the, recommended...   \n",
       "3      [2, dosage, and, administration, use, the, low...   \n",
       "4      [directions, wet, face,, apply, to, hand,, mas...   \n",
       "...                                                  ...   \n",
       "85642  [dosage, and, administration:, comb, the, hair...   \n",
       "85643  [dosage, and, administration, hypertension, in...   \n",
       "85644  [take, 3-4, times, daily., ages, 12, and, olde...   \n",
       "85645           [directions, apply, to, underarms, only]   \n",
       "85646  [2, dosage, and, administration, adult, dose, ...   \n",
       "\n",
       "                                            tokens_slash  \\\n",
       "0      [dosage, adults-, take, 4, or, 6, pellets, by,...   \n",
       "1      [directions, adults:, dissolve, 3, to, 5, unde...   \n",
       "2      [dosage, and, administration, the, recommended...   \n",
       "3      [2, dosage, and, administration, use, the, low...   \n",
       "4      [directions, wet, face,, apply, to, hand,, mas...   \n",
       "...                                                  ...   \n",
       "85642  [dosage, and, administration:, comb, the, hair...   \n",
       "85643  [dosage, and, administration, hypertension, in...   \n",
       "85644  [take, 3-4, times, daily., ages, 12, and, olde...   \n",
       "85645           [directions, apply, to, underarms, only]   \n",
       "85646  [2, dosage, and, administration, adult, dose, ...   \n",
       "\n",
       "                                            tokens_final  \\\n",
       "0      [dosage, adults, take, or, pellets, by, mouth,...   \n",
       "1      [directions, adults, dissolve, to, under, the,...   \n",
       "2      [dosage, and, administration, the, recommended...   \n",
       "3      [dosage, and, administration, use, the, lowest...   \n",
       "4      [directions, wet, face, apply, to, hand, massa...   \n",
       "...                                                  ...   \n",
       "85642  [dosage, and, administration, comb, the, hair,...   \n",
       "85643  [dosage, and, administration, hypertension, in...   \n",
       "85644  [take, times, daily, ages, and, older, drops, ...   \n",
       "85645           [directions, apply, to, underarms, only]   \n",
       "85646  [dosage, and, administration, adult, dose, mg,...   \n",
       "\n",
       "                                 tokens_no_eng_stopwords  \\\n",
       "0      [dosage, adults, take, pellets, mouth, three, ...   \n",
       "1      [directions, adults, dissolve, tongue, three, ...   \n",
       "2      [dosage, administration, recommended, dosage, ...   \n",
       "3      [dosage, administration, use, lowest, effectiv...   \n",
       "4      [directions, wet, face, apply, hand, massage, ...   \n",
       "...                                                  ...   \n",
       "85642  [dosage, administration, comb, hair, remove, s...   \n",
       "85643  [dosage, administration, hypertension, individ...   \n",
       "85644  [take, times, daily, ages, older, drops, ages,...   \n",
       "85645                     [directions, apply, underarms]   \n",
       "85646  [dosage, administration, adult, dose, mg, admi...   \n",
       "\n",
       "                                     tokens_no_stopwords  \n",
       "0      [adults, take, pellets, mouth, three, times, d...  \n",
       "1      [adults, dissolve, tongue, three, times, day, ...  \n",
       "2      [recommended, regimen, treatment, bacterial, c...  \n",
       "3      [use, lowest, effective, shortest, duration, c...  \n",
       "4      [wet, face, apply, hand, massage, face, gently...  \n",
       "...                                                  ...  \n",
       "85642  [comb, hair, remove, scaly, debris, suitably, ...  \n",
       "85643  [hypertension, individualize, metoprolol, tart...  \n",
       "85644  [take, times, daily, ages, older, drops, ages,...  \n",
       "85645                                 [apply, underarms]  \n",
       "85646  [adult, dose, mg, administered, intravenously,...  \n",
       "\n",
       "[85647 rows x 7 columns]"
      ]
     },
     "execution_count": 22,
     "metadata": {},
     "output_type": "execute_result"
    }
   ],
   "source": [
    "df"
   ]
  }
 ],
 "metadata": {
  "kernelspec": {
   "display_name": "Python 3 (ipykernel)",
   "language": "python",
   "name": "python3"
  },
  "language_info": {
   "codemirror_mode": {
    "name": "ipython",
    "version": 3
   },
   "file_extension": ".py",
   "mimetype": "text/x-python",
   "name": "python",
   "nbconvert_exporter": "python",
   "pygments_lexer": "ipython3",
   "version": "3.9.6"
  },
  "vscode": {
   "interpreter": {
    "hash": "6a8dcb405311abd8c2c7b815946bee65c89e22b2cbe2b0b88cb92134399ceaca"
   }
  }
 },
 "nbformat": 4,
 "nbformat_minor": 5
}
