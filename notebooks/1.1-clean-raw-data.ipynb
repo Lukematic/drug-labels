{
 "cells": [
  {
   "cell_type": "code",
   "execution_count": 1,
   "id": "f9d4e3bd-27b3-4c42-85c0-28e734f97137",
   "metadata": {},
   "outputs": [],
   "source": [
    "import pandas as pd"
   ]
  },
  {
   "cell_type": "code",
   "execution_count": 2,
   "id": "966916e0-2bd1-4824-9fe6-73a604ce464d",
   "metadata": {},
   "outputs": [
    {
     "data": {
      "text/plain": [
       "(89024, 169)"
      ]
     },
     "execution_count": 2,
     "metadata": {},
     "output_type": "execute_result"
    }
   ],
   "source": [
    "drugs_raw = pd.read_pickle('../data/raw/drugs.pkl')\n",
    "drugs_raw.shape"
   ]
  },
  {
   "cell_type": "code",
   "execution_count": 3,
   "id": "310b3dcb-c01f-4a15-90f8-9962a047c405",
   "metadata": {},
   "outputs": [
    {
     "data": {
      "text/plain": [
       "(85647, 2)"
      ]
     },
     "execution_count": 3,
     "metadata": {},
     "output_type": "execute_result"
    }
   ],
   "source": [
    "drugs_interim = drugs_raw.copy()\n",
    "drugs_interim['target'] = drugs_interim['openfda.route'].apply(lambda x: x[0]) # transform column from list to single string \n",
    "drugs_interim.dropna(subset=['dosage_and_administration'], inplace=True) # drop rows missing the text field \n",
    "drugs_interim['text'] = drugs_interim['dosage_and_administration'].apply(lambda x: ' '.join(x)) # transform column from list of strings to single string\n",
    "drugs_interim = drugs_interim.query(\"text != ''\") # remove rows with blank text \n",
    "drugs_interim = drugs_interim[['target', 'text']].reset_index(drop=True) # only include the target and text columns \n",
    "drugs_interim.to_pickle('../data/interim/drugs.pkl') # save as file to data/interim \n",
    "drugs_interim.shape"
   ]
  },
  {
   "cell_type": "code",
   "execution_count": null,
   "id": "742f7420-cfc7-4803-8a64-54f9fbc930f9",
   "metadata": {},
   "outputs": [],
   "source": []
  }
 ],
 "metadata": {
  "kernelspec": {
   "display_name": "Python 3 (ipykernel)",
   "language": "python",
   "name": "python3"
  },
  "language_info": {
   "codemirror_mode": {
    "name": "ipython",
    "version": 3
   },
   "file_extension": ".py",
   "mimetype": "text/x-python",
   "name": "python",
   "nbconvert_exporter": "python",
   "pygments_lexer": "ipython3",
   "version": "3.9.5"
  }
 },
 "nbformat": 4,
 "nbformat_minor": 5
}
