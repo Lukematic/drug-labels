{
 "cells": [
  {
   "cell_type": "code",
   "execution_count": 24,
   "id": "0b0d1464-7348-4a45-909f-c013d17fa4bb",
   "metadata": {},
   "outputs": [],
   "source": [
    "import requests\n",
    "import json\n",
    "import re"
   ]
  },
  {
   "cell_type": "code",
   "execution_count": 7,
   "id": "4cff1157-59ec-49d9-ba7b-c15c3b36aa1a",
   "metadata": {},
   "outputs": [],
   "source": [
    "url = 'https://api.fda.gov/drug/label.json?search=_exists_:warnings+AND+_exists_:openfda.product_type&limit=1000'"
   ]
  },
  {
   "cell_type": "code",
   "execution_count": 41,
   "id": "c27dcaad-0744-4d81-a138-c0b8b17645b7",
   "metadata": {},
   "outputs": [],
   "source": [
    "def get_all_drugs(url, _all_drugs=[]):\n",
    "    r = requests.get(url)\n",
    "    if r.status_code == 200:\n",
    "        drugs = r.json()['results']\n",
    "        _all_drugs.extend(drugs)\n",
    "        if 'Link' in r.headers:\n",
    "            url = re.findall(r'<(.*)>', r.headers['Link'])[0] # extract the next page's url from response header\n",
    "            return get_all_drugs(url, _all_drugs)\n",
    "        else: # the last page of results does not include a Link in the header \n",
    "            return _all_drugs"
   ]
  },
  {
   "cell_type": "code",
   "execution_count": 42,
   "id": "a1ca9694-b6d3-41e2-bcaa-501cad6719f5",
   "metadata": {},
   "outputs": [],
   "source": [
    "all_drugs = get_all_drugs(url)"
   ]
  },
  {
   "cell_type": "code",
   "execution_count": 43,
   "id": "49befca5-8694-41b9-b1f3-9ee7d040626b",
   "metadata": {},
   "outputs": [
    {
     "data": {
      "text/plain": [
       "68731"
      ]
     },
     "execution_count": 43,
     "metadata": {},
     "output_type": "execute_result"
    }
   ],
   "source": [
    "len(all_drugs)"
   ]
  },
  {
   "cell_type": "code",
   "execution_count": 47,
   "id": "e0f50494-c27f-471d-9c2d-79e069427db6",
   "metadata": {},
   "outputs": [
    {
     "data": {
      "text/plain": [
       "['WARNINGS This product is to be used for self-limiting conditions If symptoms do not improve in 4 days, or worsen, discontinue use and seek assistance of health professional. As with any drug, if you are pregnant, or nursing a baby, seek professional advice before taking this product. Keep this and all medication out of reach of children Do not use if capseal is broken or missing. Close the cap tightly after use.']"
      ]
     },
     "execution_count": 47,
     "metadata": {},
     "output_type": "execute_result"
    }
   ],
   "source": [
    "all_drugs[0]['warnings']"
   ]
  },
  {
   "cell_type": "code",
   "execution_count": null,
   "id": "a69b471f-c301-49f5-b9a3-10839582fa85",
   "metadata": {},
   "outputs": [],
   "source": []
  }
 ],
 "metadata": {
  "kernelspec": {
   "display_name": "Python 3 (ipykernel)",
   "language": "python",
   "name": "python3"
  },
  "language_info": {
   "codemirror_mode": {
    "name": "ipython",
    "version": 3
   },
   "file_extension": ".py",
   "mimetype": "text/x-python",
   "name": "python",
   "nbconvert_exporter": "python",
   "pygments_lexer": "ipython3",
   "version": "3.10.5"
  }
 },
 "nbformat": 4,
 "nbformat_minor": 5
}
