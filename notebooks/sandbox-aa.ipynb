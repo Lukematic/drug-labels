{
 "cells": [
  {
   "cell_type": "code",
   "execution_count": 1,
   "id": "0b0d1464-7348-4a45-909f-c013d17fa4bb",
   "metadata": {},
   "outputs": [],
   "source": [
    "import pandas as pd\n",
    "import matplotlib.pyplot as plt\n",
    "import seaborn as sns"
   ]
  },
  {
   "cell_type": "code",
   "execution_count": 2,
   "id": "a2012485-5c55-4193-9a18-3e83ff5c2d56",
   "metadata": {},
   "outputs": [],
   "source": [
    "df = pd.read_csv('../data/interim/drugs.csv')"
   ]
  },
  {
   "cell_type": "code",
   "execution_count": 3,
   "id": "9f54df0b-9b39-442d-b817-19ef0e8d33e2",
   "metadata": {},
   "outputs": [
    {
     "data": {
      "text/plain": [
       "(66194, 3)"
      ]
     },
     "execution_count": 3,
     "metadata": {},
     "output_type": "execute_result"
    }
   ],
   "source": [
    "df.shape"
   ]
  },
  {
   "cell_type": "code",
   "execution_count": 4,
   "id": "a5b874be-10f2-4f58-a33f-b7486a07e973",
   "metadata": {},
   "outputs": [
    {
     "data": {
      "text/html": [
       "<div>\n",
       "<style scoped>\n",
       "    .dataframe tbody tr th:only-of-type {\n",
       "        vertical-align: middle;\n",
       "    }\n",
       "\n",
       "    .dataframe tbody tr th {\n",
       "        vertical-align: top;\n",
       "    }\n",
       "\n",
       "    .dataframe thead th {\n",
       "        text-align: right;\n",
       "    }\n",
       "</style>\n",
       "<table border=\"1\" class=\"dataframe\">\n",
       "  <thead>\n",
       "    <tr style=\"text-align: right;\">\n",
       "      <th></th>\n",
       "      <th>warnings</th>\n",
       "      <th>tokens</th>\n",
       "      <th>product_type</th>\n",
       "    </tr>\n",
       "  </thead>\n",
       "  <tbody>\n",
       "    <tr>\n",
       "      <th>0</th>\n",
       "      <td>WARNINGS This product is to be used for self-l...</td>\n",
       "      <td>['warnings', 'this', 'product', 'is', 'to', 'b...</td>\n",
       "      <td>HUMAN OTC DRUG</td>\n",
       "    </tr>\n",
       "    <tr>\n",
       "      <th>1</th>\n",
       "      <td>STOP USE AND ASK DOCTOR If symptoms persist/wo...</td>\n",
       "      <td>['stop', 'use', 'and', 'ask', 'doctor', 'if', ...</td>\n",
       "      <td>HUMAN OTC DRUG</td>\n",
       "    </tr>\n",
       "    <tr>\n",
       "      <th>2</th>\n",
       "      <td>WARNINGS NOT FOR INJECTION. Ofloxacin ophthalm...</td>\n",
       "      <td>['warnings', 'not', 'for', 'injection', 'oflox...</td>\n",
       "      <td>HUMAN PRESCRIPTION DRUG</td>\n",
       "    </tr>\n",
       "    <tr>\n",
       "      <th>3</th>\n",
       "      <td>Warnings For external use only</td>\n",
       "      <td>['warnings', 'for', 'external', 'use', 'only']</td>\n",
       "      <td>HUMAN OTC DRUG</td>\n",
       "    </tr>\n",
       "    <tr>\n",
       "      <th>4</th>\n",
       "      <td>Warnings: Claims based on traditional homeopat...</td>\n",
       "      <td>['warnings', 'claims', 'based', 'on', 'traditi...</td>\n",
       "      <td>HUMAN OTC DRUG</td>\n",
       "    </tr>\n",
       "  </tbody>\n",
       "</table>\n",
       "</div>"
      ],
      "text/plain": [
       "                                            warnings  \\\n",
       "0  WARNINGS This product is to be used for self-l...   \n",
       "1  STOP USE AND ASK DOCTOR If symptoms persist/wo...   \n",
       "2  WARNINGS NOT FOR INJECTION. Ofloxacin ophthalm...   \n",
       "3                     Warnings For external use only   \n",
       "4  Warnings: Claims based on traditional homeopat...   \n",
       "\n",
       "                                              tokens             product_type  \n",
       "0  ['warnings', 'this', 'product', 'is', 'to', 'b...           HUMAN OTC DRUG  \n",
       "1  ['stop', 'use', 'and', 'ask', 'doctor', 'if', ...           HUMAN OTC DRUG  \n",
       "2  ['warnings', 'not', 'for', 'injection', 'oflox...  HUMAN PRESCRIPTION DRUG  \n",
       "3     ['warnings', 'for', 'external', 'use', 'only']           HUMAN OTC DRUG  \n",
       "4  ['warnings', 'claims', 'based', 'on', 'traditi...           HUMAN OTC DRUG  "
      ]
     },
     "execution_count": 4,
     "metadata": {},
     "output_type": "execute_result"
    }
   ],
   "source": [
    "df.head()"
   ]
  },
  {
   "cell_type": "code",
   "execution_count": 5,
   "id": "6a7fe146-8512-4a63-8a2c-529027f19b6b",
   "metadata": {},
   "outputs": [
    {
     "data": {
      "image/png": "[encoded data removed]",
      "text/plain": [
       "<Figure size 500x500 with 1 Axes>"
      ]
     },
     "metadata": {},
     "output_type": "display_data"
    }
   ],
   "source": [
    "sns.displot(\n",
    "    df['tokens'].apply(len),\n",
    "    kde=True\n",
    ")\n",
    "plt.title('Token Count Distribution')\n",
    "plt.show()"
   ]
  },
  {
   "cell_type": "code",
   "execution_count": null,
   "id": "40c74a2a-0ca5-4eef-9955-130a517d0a0d",
   "metadata": {},
   "outputs": [],
   "source": []
  }
 ],
 "metadata": {
  "kernelspec": {
   "display_name": "Python 3 (ipykernel)",
   "language": "python",
   "name": "python3"
  },
  "language_info": {
   "codemirror_mode": {
    "name": "ipython",
    "version": 3
   },
   "file_extension": ".py",
   "mimetype": "text/x-python",
   "name": "python",
   "nbconvert_exporter": "python",
   "pygments_lexer": "ipython3",
   "version": "3.10.5"
  }
 },
 "nbformat": 4,
 "nbformat_minor": 5
}
