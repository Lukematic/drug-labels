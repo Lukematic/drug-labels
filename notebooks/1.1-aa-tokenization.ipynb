{
 "cells": [
  {
   "cell_type": "code",
   "execution_count": 53,
   "id": "9e13ae2a-0b5a-488a-9ea4-f6807021e9a2",
   "metadata": {},
   "outputs": [],
   "source": [
    "import pandas as pd\n",
    "from collections import Counter\n",
    "from string import punctuation\n",
    "import matplotlib.pyplot as plt \n",
    "import seaborn as sns\n",
    "from src.data.cleaning import remove_punctuation, prepare"
   ]
  },
  {
   "cell_type": "markdown",
   "id": "347ad46a-78c2-4612-a7fd-32da9ed987fd",
   "metadata": {},
   "source": [
    "# Load Data"
   ]
  },
  {
   "cell_type": "code",
   "execution_count": 11,
   "id": "571b70b3-1580-4fdb-bc63-2f830153cf2c",
   "metadata": {},
   "outputs": [],
   "source": [
    "df = pd.read_csv('../data/processed/drugs.csv', usecols=['target', 'text'])"
   ]
  },
  {
   "cell_type": "code",
   "execution_count": 12,
   "id": "242f4797-4cb2-4147-b5bf-f18a3d4608da",
   "metadata": {},
   "outputs": [
    {
     "data": {
      "text/html": [
       "<div>\n",
       "<style scoped>\n",
       "    .dataframe tbody tr th:only-of-type {\n",
       "        vertical-align: middle;\n",
       "    }\n",
       "\n",
       "    .dataframe tbody tr th {\n",
       "        vertical-align: top;\n",
       "    }\n",
       "\n",
       "    .dataframe thead th {\n",
       "        text-align: right;\n",
       "    }\n",
       "</style>\n",
       "<table border=\"1\" class=\"dataframe\">\n",
       "  <thead>\n",
       "    <tr style=\"text-align: right;\">\n",
       "      <th></th>\n",
       "      <th>target</th>\n",
       "      <th>text</th>\n",
       "    </tr>\n",
       "  </thead>\n",
       "  <tbody>\n",
       "    <tr>\n",
       "      <th>0</th>\n",
       "      <td>ORAL</td>\n",
       "      <td>DOSAGE Adults- Take 4 or 6 Pellets by mouth, t...</td>\n",
       "    </tr>\n",
       "    <tr>\n",
       "      <th>1</th>\n",
       "      <td>ORAL</td>\n",
       "      <td>DIRECTIONS Adults: Dissolve 3 to 5 under the t...</td>\n",
       "    </tr>\n",
       "    <tr>\n",
       "      <th>2</th>\n",
       "      <td>OPHTHALMIC</td>\n",
       "      <td>DOSAGE AND ADMINISTRATION The recommended dosa...</td>\n",
       "    </tr>\n",
       "    <tr>\n",
       "      <th>3</th>\n",
       "      <td>ORAL</td>\n",
       "      <td>2 DOSAGE AND ADMINISTRATION Use the lowest eff...</td>\n",
       "    </tr>\n",
       "    <tr>\n",
       "      <th>4</th>\n",
       "      <td>TOPICAL</td>\n",
       "      <td>Directions wet face, apply to hand, massage fa...</td>\n",
       "    </tr>\n",
       "  </tbody>\n",
       "</table>\n",
       "</div>"
      ],
      "text/plain": [
       "       target                                               text\n",
       "0        ORAL  DOSAGE Adults- Take 4 or 6 Pellets by mouth, t...\n",
       "1        ORAL  DIRECTIONS Adults: Dissolve 3 to 5 under the t...\n",
       "2  OPHTHALMIC  DOSAGE AND ADMINISTRATION The recommended dosa...\n",
       "3        ORAL  2 DOSAGE AND ADMINISTRATION Use the lowest eff...\n",
       "4     TOPICAL  Directions wet face, apply to hand, massage fa..."
      ]
     },
     "execution_count": 12,
     "metadata": {},
     "output_type": "execute_result"
    }
   ],
   "source": [
    "df.head()"
   ]
  },
  {
   "cell_type": "markdown",
   "id": "0b9d6ac2-e53c-4b19-88e1-f1eb8e2e8a54",
   "metadata": {},
   "source": [
    "# Split on Whitespace"
   ]
  },
  {
   "cell_type": "markdown",
   "id": "e036c482-179d-4f87-beff-a0bb04436c63",
   "metadata": {},
   "source": [
    "The simplest tokenization just splits on whitespace. Let's try this and explore the results. "
   ]
  },
  {
   "cell_type": "code",
   "execution_count": 67,
   "id": "4c30a829-06c9-4257-ac8a-ffceab4ed295",
   "metadata": {},
   "outputs": [],
   "source": [
    "pipeline = [str.lower, str.split]"
   ]
  },
  {
   "cell_type": "code",
   "execution_count": 73,
   "id": "657f0dfb-6416-4517-9f8d-e1d1c9e3a27a",
   "metadata": {},
   "outputs": [],
   "source": [
    "df['tokens'] = df['text'].apply(prepare, pipeline=pipeline)"
   ]
  },
  {
   "cell_type": "code",
   "execution_count": 74,
   "id": "6a1ffebc-38da-4946-86c0-cfe48f37bfc8",
   "metadata": {},
   "outputs": [
    {
     "data": {
      "text/html": [
       "<div>\n",
       "<style scoped>\n",
       "    .dataframe tbody tr th:only-of-type {\n",
       "        vertical-align: middle;\n",
       "    }\n",
       "\n",
       "    .dataframe tbody tr th {\n",
       "        vertical-align: top;\n",
       "    }\n",
       "\n",
       "    .dataframe thead th {\n",
       "        text-align: right;\n",
       "    }\n",
       "</style>\n",
       "<table border=\"1\" class=\"dataframe\">\n",
       "  <thead>\n",
       "    <tr style=\"text-align: right;\">\n",
       "      <th></th>\n",
       "      <th>target</th>\n",
       "      <th>text</th>\n",
       "      <th>tokens</th>\n",
       "    </tr>\n",
       "  </thead>\n",
       "  <tbody>\n",
       "    <tr>\n",
       "      <th>0</th>\n",
       "      <td>ORAL</td>\n",
       "      <td>DOSAGE Adults- Take 4 or 6 Pellets by mouth, t...</td>\n",
       "      <td>[dosage, adults-, take, 4, or, 6, pellets, by,...</td>\n",
       "    </tr>\n",
       "    <tr>\n",
       "      <th>1</th>\n",
       "      <td>ORAL</td>\n",
       "      <td>DIRECTIONS Adults: Dissolve 3 to 5 under the t...</td>\n",
       "      <td>[directions, adults:, dissolve, 3, to, 5, unde...</td>\n",
       "    </tr>\n",
       "    <tr>\n",
       "      <th>2</th>\n",
       "      <td>OPHTHALMIC</td>\n",
       "      <td>DOSAGE AND ADMINISTRATION The recommended dosa...</td>\n",
       "      <td>[dosage, and, administration, the, recommended...</td>\n",
       "    </tr>\n",
       "    <tr>\n",
       "      <th>3</th>\n",
       "      <td>ORAL</td>\n",
       "      <td>2 DOSAGE AND ADMINISTRATION Use the lowest eff...</td>\n",
       "      <td>[2, dosage, and, administration, use, the, low...</td>\n",
       "    </tr>\n",
       "    <tr>\n",
       "      <th>4</th>\n",
       "      <td>TOPICAL</td>\n",
       "      <td>Directions wet face, apply to hand, massage fa...</td>\n",
       "      <td>[directions, wet, face,, apply, to, hand,, mas...</td>\n",
       "    </tr>\n",
       "  </tbody>\n",
       "</table>\n",
       "</div>"
      ],
      "text/plain": [
       "       target                                               text  \\\n",
       "0        ORAL  DOSAGE Adults- Take 4 or 6 Pellets by mouth, t...   \n",
       "1        ORAL  DIRECTIONS Adults: Dissolve 3 to 5 under the t...   \n",
       "2  OPHTHALMIC  DOSAGE AND ADMINISTRATION The recommended dosa...   \n",
       "3        ORAL  2 DOSAGE AND ADMINISTRATION Use the lowest eff...   \n",
       "4     TOPICAL  Directions wet face, apply to hand, massage fa...   \n",
       "\n",
       "                                              tokens  \n",
       "0  [dosage, adults-, take, 4, or, 6, pellets, by,...  \n",
       "1  [directions, adults:, dissolve, 3, to, 5, unde...  \n",
       "2  [dosage, and, administration, the, recommended...  \n",
       "3  [2, dosage, and, administration, use, the, low...  \n",
       "4  [directions, wet, face,, apply, to, hand,, mas...  "
      ]
     },
     "execution_count": 74,
     "metadata": {},
     "output_type": "execute_result"
    }
   ],
   "source": [
    "df.head()"
   ]
  },
  {
   "cell_type": "code",
   "execution_count": 75,
   "id": "dc3a84bc-c342-48a1-85f2-e9ebf3cc6248",
   "metadata": {},
   "outputs": [
    {
     "name": "stdout",
     "output_type": "stream",
     "text": [
      "24417311\n"
     ]
    }
   ],
   "source": [
    "# create list of all tokens\n",
    "all_tokens = []\n",
    "df['tokens'].apply(lambda x: all_tokens.extend(x))\n",
    "print(len(all_tokens))"
   ]
  },
  {
   "cell_type": "code",
   "execution_count": 76,
   "id": "7fa54e9c-e3ec-47d9-88c9-dbec3f60d19c",
   "metadata": {},
   "outputs": [],
   "source": [
    "token_counts = Counter(all_tokens)"
   ]
  },
  {
   "cell_type": "code",
   "execution_count": 77,
   "id": "dc646244-b3c7-47a6-bc2f-07dbd5dc64fe",
   "metadata": {},
   "outputs": [],
   "source": [
    "types = token_counts.keys()"
   ]
  },
  {
   "cell_type": "code",
   "execution_count": 78,
   "id": "f10e2c2d-6ea1-40b2-91ef-b588245da231",
   "metadata": {},
   "outputs": [
    {
     "name": "stdout",
     "output_type": "stream",
     "text": [
      "Splitting on whitespace yields 24417311 tokens and 64217 types.\n"
     ]
    }
   ],
   "source": [
    "print(\"Splitting on whitespace yields {0} tokens and {1} types.\".format(token_counts.total(), len(types)))"
   ]
  },
  {
   "cell_type": "code",
   "execution_count": 117,
   "id": "05318cd0-e244-4711-8ca7-12e94073bc6d",
   "metadata": {},
   "outputs": [
    {
     "data": {
      "text/plain": [
       "[('the', 848509),\n",
       " ('of', 767519),\n",
       " ('to', 633353),\n",
       " ('and', 575928),\n",
       " ('in', 429169),\n",
       " ('for', 368567),\n",
       " ('a', 364741),\n",
       " ('be', 332954),\n",
       " ('mg', 324956),\n",
       " ('or', 316372),\n",
       " ('with', 314054),\n",
       " ('dose', 312668),\n",
       " ('is', 274114),\n",
       " ('patients', 240936),\n",
       " ('should', 200650),\n",
       " ('dosage', 196129),\n",
       " ('not', 180926),\n",
       " ('daily', 147901),\n",
       " ('2', 147387),\n",
       " ('may', 143437),\n",
       " ('as', 141395),\n",
       " ('tablets', 136138),\n",
       " ('use', 120613),\n",
       " ('at', 119566),\n",
       " ('recommended', 115114),\n",
       " ('(', 107196),\n",
       " ('by', 98774),\n",
       " ('on', 96163),\n",
       " ('than', 91941),\n",
       " ('every', 90590),\n",
       " ('treatment', 89060),\n",
       " ('if', 88278),\n",
       " ('once', 87691),\n",
       " ('1', 86374),\n",
       " ('years', 86196),\n",
       " ('hours', 84761),\n",
       " ('administration', 82238),\n",
       " ('12', 80947),\n",
       " ('10', 78650),\n",
       " ('doses', 76299),\n",
       " ('children', 75698),\n",
       " ('after', 75312),\n",
       " ('are', 74851),\n",
       " ('clinical', 74396),\n",
       " ('day', 72844),\n",
       " ('4', 70366),\n",
       " (')', 70238),\n",
       " ('•', 68972),\n",
       " ('[see', 67113),\n",
       " ('5', 63631)]"
      ]
     },
     "execution_count": 117,
     "metadata": {},
     "output_type": "execute_result"
    }
   ],
   "source": [
    "token_counts.most_common(50)"
   ]
  },
  {
   "cell_type": "markdown",
   "id": "e6efcb70-f723-4283-b630-6b2240d8582b",
   "metadata": {},
   "source": [
    "The top 30 typtes contain many stopwords. A few of them contain punctuation. "
   ]
  },
  {
   "cell_type": "markdown",
   "id": "c0e6e1f9-f421-4395-85be-f3008dfb7096",
   "metadata": {},
   "source": [
    "Let's look for other types containing punctuation."
   ]
  },
  {
   "cell_type": "code",
   "execution_count": 80,
   "id": "69604c62-a3a6-482d-9a53-a7cdab818895",
   "metadata": {},
   "outputs": [],
   "source": [
    "punct_set = set(punctuation)"
   ]
  },
  {
   "cell_type": "code",
   "execution_count": 81,
   "id": "3f500914-08ad-44b8-8973-3a78991956e8",
   "metadata": {},
   "outputs": [],
   "source": [
    "def contains_punct(text):\n",
    "    for char in text:\n",
    "        if char in punct_set:\n",
    "            return True\n",
    "    return False"
   ]
  },
  {
   "cell_type": "code",
   "execution_count": 104,
   "id": "4c119d12-4276-4ff4-9817-81da2642fcf4",
   "metadata": {},
   "outputs": [],
   "source": [
    "types_with_punct = {t: count for t, count in token_counts.items() if contains_punct(t)}"
   ]
  },
  {
   "cell_type": "code",
   "execution_count": 109,
   "id": "575cf97c-2afb-4114-ae71-b410c2674c96",
   "metadata": {},
   "outputs": [],
   "source": [
    "types_with_punct = sorted(types_with_punct.items(), key=lambda item: item[1], reverse=True)"
   ]
  },
  {
   "cell_type": "code",
   "execution_count": 118,
   "id": "c07bf5b6-e636-4e73-b8ce-fc5ff8f66799",
   "metadata": {},
   "outputs": [
    {
     "data": {
      "text/plain": [
       "[('(', 107196),\n",
       " (')', 70238),\n",
       " ('[see', 67113),\n",
       " ('mg/day', 45543),\n",
       " ('.', 44068),\n",
       " ('2.1', 37037),\n",
       " ('daily.', 36106),\n",
       " ('2.2', 32983),\n",
       " ('mg/kg', 32103),\n",
       " (',', 31304),\n",
       " ('extended-release', 28875),\n",
       " ('(see', 27702),\n",
       " (').', 24255),\n",
       " ('2.3', 24155),\n",
       " ('2.5', 24137),\n",
       " ('day.', 21954),\n",
       " (']', 19901),\n",
       " ('].', 19495),\n",
       " ('dose.', 18599),\n",
       " ('2.4', 18500),\n",
       " ('days.', 17312),\n",
       " ('hours.', 15777),\n",
       " (')]', 15025),\n",
       " ('-', 14980),\n",
       " ('mg/kg/day', 13248),\n",
       " ('injection,', 13092),\n",
       " ('tablets,', 12756),\n",
       " ('(e.g.,', 11997),\n",
       " ('mg,', 11711),\n",
       " ('delayed-release', 11687),\n",
       " ('dose,', 11585),\n",
       " ('age:', 11575),\n",
       " ('daily,', 11490),\n",
       " ('patients,', 11078),\n",
       " ('mg.', 10734),\n",
       " ('however,', 10581),\n",
       " ('and/or', 10315),\n",
       " ('doses.', 10265),\n",
       " ('mg/m', 10133),\n",
       " (')].', 10112),\n",
       " ('day,', 9980),\n",
       " ('therapy.', 9594),\n",
       " ('mg/day.', 9437),\n",
       " ('hours,', 9301),\n",
       " ('weeks.', 9253),\n",
       " ('[', 9148),\n",
       " ('response.', 8953),\n",
       " ('recommended.', 8929),\n",
       " ('patients.', 8914),\n",
       " ('patient.', 8805)]"
      ]
     },
     "execution_count": 118,
     "metadata": {},
     "output_type": "execute_result"
    }
   ],
   "source": [
    "types_with_punct[:50]"
   ]
  },
  {
   "cell_type": "markdown",
   "id": "34a13515-2ce4-4ef2-89d7-947c8b0c10e1",
   "metadata": {},
   "source": [
    "It seems fairly common for words to be combined with '/'. Let's take a look at these specifically. "
   ]
  },
  {
   "cell_type": "code",
   "execution_count": 116,
   "id": "828e095b-f091-4a27-8593-5966c07a1760",
   "metadata": {},
   "outputs": [
    {
     "data": {
      "text/plain": [
       "[('mg/day', 45543),\n",
       " ('mg/kg', 32103),\n",
       " ('mg/kg/day', 13248),\n",
       " ('and/or', 10315),\n",
       " ('mg/m', 10133),\n",
       " ('mg/day.', 9437),\n",
       " ('ml/min', 8163),\n",
       " ('mg/ml', 6077),\n",
       " ('mg/day,', 4372),\n",
       " ('ml/min/1.73', 3477),\n",
       " ('mg/kg/day,', 3105),\n",
       " ('mg/5', 3033),\n",
       " ('mcg/kg/day', 2646),\n",
       " ('mg/125', 2465),\n",
       " ('ml/min)', 2317),\n",
       " ('1/2', 2201),\n",
       " ('ml/min,', 2060),\n",
       " ('mcg/kg/min', 2004),\n",
       " ('mcg/ml', 1951),\n",
       " ('mg/kg/day.', 1939),\n",
       " ('lopinavir/ritonavir', 1880),\n",
       " ('mg/day)', 1827),\n",
       " ('(ml/min)', 1774),\n",
       " ('ml/min.', 1750),\n",
       " ('ml/minute/1.73', 1724),\n",
       " ('mg/day).', 1667),\n",
       " ('atazanavir/ritonavir', 1666),\n",
       " ('(mg/day)', 1632),\n",
       " ('/', 1584),\n",
       " ('/l', 1505),\n",
       " ('mg/ml)', 1496),\n",
       " ('mg/dl', 1450),\n",
       " ('pharyngitis/tonsillitis', 1293),\n",
       " ('mcg/kg', 1165),\n",
       " ('mg/25', 1155),\n",
       " ('ng/ml', 1057),\n",
       " ('ml/min/1.73m', 907),\n",
       " ('cells/mm', 891),\n",
       " ('mg/kg)', 888),\n",
       " ('ml/min),', 874),\n",
       " ('mg/kg,', 858),\n",
       " ('mcg/day', 858),\n",
       " ('ml/minute', 836),\n",
       " ('caregiver/family', 791),\n",
       " ('mg/kg.', 786),\n",
       " ('mg/ml.', 773),\n",
       " ('(olanzapine/fluoxetine)', 762),\n",
       " ('(mg/dl)', 761),\n",
       " ('mg/325', 753),\n",
       " ('ml/h', 743)]"
      ]
     },
     "execution_count": 116,
     "metadata": {},
     "output_type": "execute_result"
    }
   ],
   "source": [
    "[(t, count) for t, count in dict(types_with_punct).items() if '/' in t][:50]"
   ]
  },
  {
   "cell_type": "markdown",
   "id": "f6e1784a-6fdd-4344-9b07-83c66d5dc43e",
   "metadata": {},
   "source": [
    "Most of these represent units of measurement (e.g. 'mg/day'). However, some of them represent combinations of distinct concepts (e.g. 'caregiver/family', 'pharyngitis/tonsillitis'). Splitting on whitespace would treat these as a single token, which would add unnecessary noise to the corpus. Let's try splitting on whitespace AND on '/'.  "
   ]
  },
  {
   "cell_type": "code",
   "execution_count": null,
   "id": "bbe9ede2-253d-4595-9d91-db9b1d6e561d",
   "metadata": {},
   "outputs": [],
   "source": []
  }
 ],
 "metadata": {
  "kernelspec": {
   "display_name": "Python 3 (ipykernel)",
   "language": "python",
   "name": "python3"
  },
  "language_info": {
   "codemirror_mode": {
    "name": "ipython",
    "version": 3
   },
   "file_extension": ".py",
   "mimetype": "text/x-python",
   "name": "python",
   "nbconvert_exporter": "python",
   "pygments_lexer": "ipython3",
   "version": "3.10.7"
  }
 },
 "nbformat": 4,
 "nbformat_minor": 5
}
