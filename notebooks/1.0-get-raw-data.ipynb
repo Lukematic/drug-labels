{
 "cells": [
  {
   "cell_type": "code",
   "execution_count": 1,
   "id": "6501351f-2058-49c2-a5b7-3534cfa702ad",
   "metadata": {},
   "outputs": [],
   "source": [
    "import requests\n",
    "import re \n",
    "import pandas as pd"
   ]
  },
  {
   "cell_type": "code",
   "execution_count": 2,
   "id": "4793f3dc-9045-4f3c-ae39-679d7493a644",
   "metadata": {},
   "outputs": [],
   "source": [
    "def get_all_drugs(url, all_drugs=[]):\n",
    "    \"\"\"Get list of drugs from OpenFDA API.  \n",
    "    \n",
    "    Given a query URL, this function recursively calls the OpenFDA API and returns a list of dictionaries representing \n",
    "    all drugs returned by the query.\n",
    "    \"\"\"\n",
    "    r = requests.get(url)\n",
    "    if r.status_code == 200:\n",
    "        drugs = r.json()['results']\n",
    "        all_drugs.extend(drugs)\n",
    "        if 'Link' in r.headers:\n",
    "            url = re.findall(r'<(.*)>', r.headers['Link'])[0] # extract the next page's url from response header\n",
    "            return get_all_drugs(url, all_drugs) # recursively pass it through the function\n",
    "        else: # the last page of results does not include a Link in the header \n",
    "            return all_drugs"
   ]
  },
  {
   "cell_type": "code",
   "execution_count": 3,
   "id": "21a50c56-40e4-4fd5-beca-bbb5cc49bc88",
   "metadata": {},
   "outputs": [],
   "source": [
    "url = 'https://api.fda.gov/drug/label.json?search=_exists_:openfda.route&limit=1000'\n",
    "drugs = get_all_drugs(url) # get list of drugs \n",
    "df = pd.json_normalize(drugs) # store them in a pandas dataframe\n",
    "df.to_csv('../data/raw/drugs.csv', index=False) # save the dataframe as a csv to the data/raw directory"
   ]
  },
  {
   "cell_type": "code",
   "execution_count": null,
   "id": "eff5ffa7-072b-416c-b5b5-7bbaf7a40a78",
   "metadata": {},
   "outputs": [],
   "source": []
  }
 ],
 "metadata": {
  "kernelspec": {
   "display_name": "Python 3 (ipykernel)",
   "language": "python",
   "name": "python3"
  },
  "language_info": {
   "codemirror_mode": {
    "name": "ipython",
    "version": 3
   },
   "file_extension": ".py",
   "mimetype": "text/x-python",
   "name": "python",
   "nbconvert_exporter": "python",
   "pygments_lexer": "ipython3",
   "version": "3.10.7"
  }
 },
 "nbformat": 4,
 "nbformat_minor": 5
}
