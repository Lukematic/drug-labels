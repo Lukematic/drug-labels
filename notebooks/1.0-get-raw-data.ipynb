{
 "cells": [
  {
   "cell_type": "code",
   "execution_count": 1,
   "id": "6501351f-2058-49c2-a5b7-3534cfa702ad",
   "metadata": {},
   "outputs": [],
   "source": [
    "import requests\n",
    "import re \n",
    "import pandas as pd"
   ]
  },
  {
   "cell_type": "code",
   "execution_count": 2,
   "id": "4793f3dc-9045-4f3c-ae39-679d7493a644",
   "metadata": {},
   "outputs": [],
   "source": [
    "def get_all_drugs(url, all_drugs=[]):\n",
    "    \"\"\"Get list of drugs from OpenFDA API.  \n",
    "    \n",
    "    Given a query URL, this function recursively calls the OpenFDA API and returns a list of dictionaries representing \n",
    "    all drugs returned by the query.\n",
    "    \"\"\"\n",
    "    r = requests.get(url)\n",
    "    if r.status_code == 200:\n",
    "        n_drugs = r.json()['meta']['results']['total']\n",
    "        drugs = r.json()['results']\n",
    "        all_drugs.extend(drugs)\n",
    "        progress = round(100 * (len(all_drugs) / n_drugs))\n",
    "        print(\"{0}% of drugs fetched\".format(progress))\n",
    "        if 'Link' in r.headers:\n",
    "            url = re.findall(r'<(.*)>', r.headers['Link'])[0] # extract the next page's url from response header\n",
    "            return get_all_drugs(url, all_drugs) # recursively pass it through the function\n",
    "        else: # the last page of results does not include a Link in the header \n",
    "            print(\"100% of drugs fetched\")\n",
    "            return all_drugs"
   ]
  },
  {
   "cell_type": "markdown",
   "id": "37294cfe-2ce7-4f26-9487-f7f5b0aef115",
   "metadata": {},
   "source": [
    "Use the above function to get the raw drug data, flatten it to a dataframe, and write it to a file. This takes a few minutes to run. "
   ]
  },
  {
   "cell_type": "code",
   "execution_count": 3,
   "id": "21a50c56-40e4-4fd5-beca-bbb5cc49bc88",
   "metadata": {},
   "outputs": [
    {
     "name": "stdout",
     "output_type": "stream",
     "text": [
      "1% of drugs fetched\n",
      "2% of drugs fetched\n",
      "3% of drugs fetched\n",
      "4% of drugs fetched\n",
      "6% of drugs fetched\n",
      "7% of drugs fetched\n",
      "8% of drugs fetched\n",
      "9% of drugs fetched\n",
      "10% of drugs fetched\n",
      "11% of drugs fetched\n",
      "12% of drugs fetched\n",
      "13% of drugs fetched\n",
      "15% of drugs fetched\n",
      "16% of drugs fetched\n",
      "17% of drugs fetched\n",
      "18% of drugs fetched\n",
      "19% of drugs fetched\n",
      "20% of drugs fetched\n",
      "21% of drugs fetched\n",
      "22% of drugs fetched\n",
      "24% of drugs fetched\n",
      "25% of drugs fetched\n",
      "26% of drugs fetched\n",
      "27% of drugs fetched\n",
      "28% of drugs fetched\n",
      "29% of drugs fetched\n",
      "30% of drugs fetched\n",
      "31% of drugs fetched\n",
      "33% of drugs fetched\n",
      "34% of drugs fetched\n",
      "35% of drugs fetched\n",
      "36% of drugs fetched\n",
      "37% of drugs fetched\n",
      "38% of drugs fetched\n",
      "39% of drugs fetched\n",
      "40% of drugs fetched\n",
      "42% of drugs fetched\n",
      "43% of drugs fetched\n",
      "44% of drugs fetched\n",
      "45% of drugs fetched\n",
      "46% of drugs fetched\n",
      "47% of drugs fetched\n",
      "48% of drugs fetched\n",
      "49% of drugs fetched\n",
      "51% of drugs fetched\n",
      "52% of drugs fetched\n",
      "53% of drugs fetched\n",
      "54% of drugs fetched\n",
      "55% of drugs fetched\n",
      "56% of drugs fetched\n",
      "57% of drugs fetched\n",
      "58% of drugs fetched\n",
      "60% of drugs fetched\n",
      "61% of drugs fetched\n",
      "62% of drugs fetched\n",
      "63% of drugs fetched\n",
      "64% of drugs fetched\n",
      "65% of drugs fetched\n",
      "66% of drugs fetched\n",
      "67% of drugs fetched\n",
      "69% of drugs fetched\n",
      "70% of drugs fetched\n",
      "71% of drugs fetched\n",
      "72% of drugs fetched\n",
      "73% of drugs fetched\n",
      "74% of drugs fetched\n",
      "75% of drugs fetched\n",
      "76% of drugs fetched\n",
      "78% of drugs fetched\n",
      "79% of drugs fetched\n",
      "80% of drugs fetched\n",
      "81% of drugs fetched\n",
      "82% of drugs fetched\n",
      "83% of drugs fetched\n",
      "84% of drugs fetched\n",
      "85% of drugs fetched\n",
      "86% of drugs fetched\n",
      "88% of drugs fetched\n",
      "89% of drugs fetched\n",
      "90% of drugs fetched\n",
      "91% of drugs fetched\n",
      "92% of drugs fetched\n",
      "93% of drugs fetched\n",
      "94% of drugs fetched\n",
      "95% of drugs fetched\n",
      "97% of drugs fetched\n",
      "98% of drugs fetched\n",
      "99% of drugs fetched\n",
      "100% of drugs fetched\n",
      "100% of drugs fetched\n",
      "100% of drugs fetched\n"
     ]
    }
   ],
   "source": [
    "url = 'https://api.fda.gov/drug/label.json?search=_exists_:openfda.route&limit=1000'\n",
    "drugs = get_all_drugs(url) # get list of drugs "
   ]
  },
  {
   "cell_type": "code",
   "execution_count": 4,
   "id": "eff5ffa7-072b-416c-b5b5-7bbaf7a40a78",
   "metadata": {},
   "outputs": [],
   "source": [
    "df = pd.json_normalize(drugs) # store them in a pandas dataframe\n",
    "df.to_pickle('../data/raw/drugs.pkl') # save the dataframe as a pickle file to the data/raw directory"
   ]
  }
 ],
 "metadata": {
  "kernelspec": {
   "display_name": "Python 3 (ipykernel)",
   "language": "python",
   "name": "python3"
  },
  "language_info": {
   "codemirror_mode": {
    "name": "ipython",
    "version": 3
   },
   "file_extension": ".py",
   "mimetype": "text/x-python",
   "name": "python",
   "nbconvert_exporter": "python",
   "pygments_lexer": "ipython3",
   "version": "3.9.6"
  }
 },
 "nbformat": 4,
 "nbformat_minor": 5
}
