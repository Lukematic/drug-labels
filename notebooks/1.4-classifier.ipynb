{
 "cells": [
  {
   "cell_type": "code",
   "execution_count": 1,
   "id": "a01ba92b",
   "metadata": {},
   "outputs": [
    {
     "name": "stderr",
     "output_type": "stream",
     "text": [
      "[nltk_data] Downloading package stopwords to\n",
      "[nltk_data]     C:\\Users\\aabel\\AppData\\Roaming\\nltk_data...\n",
      "[nltk_data]   Package stopwords is already up-to-date!\n"
     ]
    }
   ],
   "source": [
    "import nltk\n",
    "import random\n",
    "import numpy as np\n",
    "import pandas as pd\n",
    "from collections import Counter, defaultdict\n",
    "from string import punctuation\n",
    "from nltk.corpus import stopwords\n",
    "from nltk.tokenize import WhitespaceTokenizer\n",
    "from datetime import datetime\n",
    "import re\n",
    "import pickle\n",
    "from cleaning import prepare, remove_punctuation, remove_numbers, tokenize, remove_stopwords"
   ]
  },
  {
   "cell_type": "markdown",
   "id": "08f5ed33",
   "metadata": {},
   "source": [
    "# Load Data"
   ]
  },
  {
   "cell_type": "code",
   "execution_count": 2,
   "id": "0ca7edb8",
   "metadata": {},
   "outputs": [],
   "source": [
    "df = pd.read_pickle('../data/interim/drugs.pkl')"
   ]
  },
  {
   "cell_type": "markdown",
   "id": "0fd003f1-2260-4486-ac04-e549a6c0ab83",
   "metadata": {},
   "source": [
    "# Process Text"
   ]
  },
  {
   "cell_type": "code",
   "execution_count": 3,
   "id": "aeab1c9c-92f0-4977-88e1-1b468a18ea8e",
   "metadata": {},
   "outputs": [],
   "source": [
    "pipeline = [str.lower, remove_punctuation, remove_numbers, tokenize, remove_stopwords]\n",
    "df['tokens'] = df['text'].apply(prepare, pipeline=pipeline)"
   ]
  },
  {
   "cell_type": "markdown",
   "id": "8a7b8bcc",
   "metadata": {},
   "source": [
    "# Classifier Prep - Target Variable"
   ]
  },
  {
   "cell_type": "code",
   "execution_count": 4,
   "id": "fb835c66",
   "metadata": {},
   "outputs": [
    {
     "data": {
      "text/plain": [
       "['ORAL',\n",
       " 'OPHTHALMIC',\n",
       " 'TOPICAL',\n",
       " 'INTRAVENOUS',\n",
       " 'RESPIRATORY (INHALATION)',\n",
       " 'VAGINAL',\n",
       " 'SUBLINGUAL',\n",
       " 'INTRAMUSCULAR',\n",
       " 'DENTAL',\n",
       " 'IRRIGATION',\n",
       " 'INTRATHECAL',\n",
       " 'EPIDURAL',\n",
       " 'SUBCUTANEOUS',\n",
       " 'NASAL',\n",
       " 'RECTAL',\n",
       " 'CUTANEOUS',\n",
       " 'INTRA-ARTICULAR',\n",
       " 'TRANSDERMAL',\n",
       " 'INTRAOCULAR',\n",
       " 'PERCUTANEOUS',\n",
       " 'INTRACARDIAC',\n",
       " 'INTRAVITREAL',\n",
       " 'AURICULAR (OTIC)',\n",
       " 'SUBMUCOSAL',\n",
       " 'BUCCAL',\n",
       " 'PERINEURAL',\n",
       " 'INFILTRATION',\n",
       " 'INTRALESIONAL',\n",
       " 'PERIODONTAL',\n",
       " 'PARENTERAL',\n",
       " 'INTRACAVITARY',\n",
       " 'INTRAVASCULAR',\n",
       " 'ENDOTRACHEAL',\n",
       " 'INTRACAVERNOUS',\n",
       " 'EXTRACORPOREAL',\n",
       " 'INTRADERMAL',\n",
       " 'INTRA-ARTERIAL',\n",
       " 'SUBARACHNOID',\n",
       " 'INTRAUTERINE',\n",
       " 'OROPHARYNGEAL',\n",
       " 'INTRATYMPANIC',\n",
       " 'INTRACAMERAL',\n",
       " 'HEMODIALYSIS',\n",
       " 'URETHRAL',\n",
       " 'INTRAPERITONEAL',\n",
       " 'TRANSMUCOSAL',\n",
       " 'INTRAVESICAL',\n",
       " 'ENTERAL',\n",
       " 'INTRABRONCHIAL',\n",
       " 'INTRACANALICULAR',\n",
       " 'URETERAL',\n",
       " 'RETROBULBAR',\n",
       " 'INTRAPLEURAL',\n",
       " 'INTRASPINAL',\n",
       " 'SUBGINGIVAL',\n",
       " 'INTRASINAL',\n",
       " 'INTRAVENTRICULAR']"
      ]
     },
     "execution_count": 4,
     "metadata": {},
     "output_type": "execute_result"
    }
   ],
   "source": [
    "## Currently, there are many labels in the target variable column.\n",
    "## 5 of these account for more than 90% of the data. As such, anything outside the top 5 labels by count\n",
    "## will be reclassified as OTHER\n",
    "\n",
    "list(df['target'].unique())"
   ]
  },
  {
   "cell_type": "code",
   "execution_count": 5,
   "id": "18416cf2",
   "metadata": {},
   "outputs": [
    {
     "data": {
      "text/html": [
       "<div>\n",
       "<style scoped>\n",
       "    .dataframe tbody tr th:only-of-type {\n",
       "        vertical-align: middle;\n",
       "    }\n",
       "\n",
       "    .dataframe tbody tr th {\n",
       "        vertical-align: top;\n",
       "    }\n",
       "\n",
       "    .dataframe thead th {\n",
       "        text-align: right;\n",
       "    }\n",
       "</style>\n",
       "<table border=\"1\" class=\"dataframe\">\n",
       "  <thead>\n",
       "    <tr style=\"text-align: right;\">\n",
       "      <th></th>\n",
       "      <th>text</th>\n",
       "      <th>tokens</th>\n",
       "    </tr>\n",
       "    <tr>\n",
       "      <th>target</th>\n",
       "      <th></th>\n",
       "      <th></th>\n",
       "    </tr>\n",
       "  </thead>\n",
       "  <tbody>\n",
       "    <tr>\n",
       "      <th>ORAL</th>\n",
       "      <td>46715</td>\n",
       "      <td>46715</td>\n",
       "    </tr>\n",
       "    <tr>\n",
       "      <th>TOPICAL</th>\n",
       "      <td>27972</td>\n",
       "      <td>27972</td>\n",
       "    </tr>\n",
       "    <tr>\n",
       "      <th>INTRAVENOUS</th>\n",
       "      <td>2868</td>\n",
       "      <td>2868</td>\n",
       "    </tr>\n",
       "    <tr>\n",
       "      <th>DENTAL</th>\n",
       "      <td>1403</td>\n",
       "      <td>1403</td>\n",
       "    </tr>\n",
       "    <tr>\n",
       "      <th>INTRAMUSCULAR</th>\n",
       "      <td>1384</td>\n",
       "      <td>1384</td>\n",
       "    </tr>\n",
       "    <tr>\n",
       "      <th>OPHTHALMIC</th>\n",
       "      <td>1344</td>\n",
       "      <td>1344</td>\n",
       "    </tr>\n",
       "    <tr>\n",
       "      <th>SUBLINGUAL</th>\n",
       "      <td>798</td>\n",
       "      <td>798</td>\n",
       "    </tr>\n",
       "    <tr>\n",
       "      <th>NASAL</th>\n",
       "      <td>644</td>\n",
       "      <td>644</td>\n",
       "    </tr>\n",
       "    <tr>\n",
       "      <th>SUBCUTANEOUS</th>\n",
       "      <td>326</td>\n",
       "      <td>326</td>\n",
       "    </tr>\n",
       "    <tr>\n",
       "      <th>RESPIRATORY (INHALATION)</th>\n",
       "      <td>326</td>\n",
       "      <td>326</td>\n",
       "    </tr>\n",
       "    <tr>\n",
       "      <th>RECTAL</th>\n",
       "      <td>321</td>\n",
       "      <td>321</td>\n",
       "    </tr>\n",
       "    <tr>\n",
       "      <th>VAGINAL</th>\n",
       "      <td>212</td>\n",
       "      <td>212</td>\n",
       "    </tr>\n",
       "    <tr>\n",
       "      <th>TRANSDERMAL</th>\n",
       "      <td>195</td>\n",
       "      <td>195</td>\n",
       "    </tr>\n",
       "    <tr>\n",
       "      <th>AURICULAR (OTIC)</th>\n",
       "      <td>179</td>\n",
       "      <td>179</td>\n",
       "    </tr>\n",
       "    <tr>\n",
       "      <th>EPIDURAL</th>\n",
       "      <td>118</td>\n",
       "      <td>118</td>\n",
       "    </tr>\n",
       "    <tr>\n",
       "      <th>INFILTRATION</th>\n",
       "      <td>103</td>\n",
       "      <td>103</td>\n",
       "    </tr>\n",
       "    <tr>\n",
       "      <th>CUTANEOUS</th>\n",
       "      <td>100</td>\n",
       "      <td>100</td>\n",
       "    </tr>\n",
       "    <tr>\n",
       "      <th>INTRA-ARTICULAR</th>\n",
       "      <td>82</td>\n",
       "      <td>82</td>\n",
       "    </tr>\n",
       "    <tr>\n",
       "      <th>BUCCAL</th>\n",
       "      <td>77</td>\n",
       "      <td>77</td>\n",
       "    </tr>\n",
       "    <tr>\n",
       "      <th>EXTRACORPOREAL</th>\n",
       "      <td>71</td>\n",
       "      <td>71</td>\n",
       "    </tr>\n",
       "  </tbody>\n",
       "</table>\n",
       "</div>"
      ],
      "text/plain": [
       "                           text  tokens\n",
       "target                                 \n",
       "ORAL                      46715   46715\n",
       "TOPICAL                   27972   27972\n",
       "INTRAVENOUS                2868    2868\n",
       "DENTAL                     1403    1403\n",
       "INTRAMUSCULAR              1384    1384\n",
       "OPHTHALMIC                 1344    1344\n",
       "SUBLINGUAL                  798     798\n",
       "NASAL                       644     644\n",
       "SUBCUTANEOUS                326     326\n",
       "RESPIRATORY (INHALATION)    326     326\n",
       "RECTAL                      321     321\n",
       "VAGINAL                     212     212\n",
       "TRANSDERMAL                 195     195\n",
       "AURICULAR (OTIC)            179     179\n",
       "EPIDURAL                    118     118\n",
       "INFILTRATION                103     103\n",
       "CUTANEOUS                   100     100\n",
       "INTRA-ARTICULAR              82      82\n",
       "BUCCAL                       77      77\n",
       "EXTRACORPOREAL               71      71"
      ]
     },
     "execution_count": 5,
     "metadata": {},
     "output_type": "execute_result"
    }
   ],
   "source": [
    "## As seen below, the top 5 target values are ORAL, TOPICAL, INTRAVENOUS, DENTAL and INTRAMUSCULAR\n",
    "## All others will be converted to OTHER\n",
    "df.groupby('target') \\\n",
    "   .count() \\\n",
    "   .sort_values('text', ascending=False) \\\n",
    "   .head(20)"
   ]
  },
  {
   "cell_type": "code",
   "execution_count": 6,
   "id": "1458bf2b",
   "metadata": {},
   "outputs": [
    {
     "data": {
      "text/plain": [
       "['ORAL', 'OTHER', 'TOPICAL', 'INTRAVENOUS', 'INTRAMUSCULAR', 'DENTAL']"
      ]
     },
     "execution_count": 6,
     "metadata": {},
     "output_type": "execute_result"
    }
   ],
   "source": [
    "df.loc[~df['target'].isin(['ORAL', 'TOPICAL', 'INTRAVENOUS', 'DENTAL', 'INTRAMUSCULAR']), 'target'] = 'OTHER'\n",
    "\n",
    "list(df['target'].unique())"
   ]
  },
  {
   "cell_type": "markdown",
   "id": "6bb3f20d",
   "metadata": {},
   "source": [
    "# Classifier Prep - Feature Words"
   ]
  },
  {
   "cell_type": "code",
   "execution_count": 7,
   "id": "1dff0ed2",
   "metadata": {},
   "outputs": [
    {
     "data": {
      "text/html": [
       "<div>\n",
       "<style scoped>\n",
       "    .dataframe tbody tr th:only-of-type {\n",
       "        vertical-align: middle;\n",
       "    }\n",
       "\n",
       "    .dataframe tbody tr th {\n",
       "        vertical-align: top;\n",
       "    }\n",
       "\n",
       "    .dataframe thead th {\n",
       "        text-align: right;\n",
       "    }\n",
       "</style>\n",
       "<table border=\"1\" class=\"dataframe\">\n",
       "  <thead>\n",
       "    <tr style=\"text-align: right;\">\n",
       "      <th></th>\n",
       "      <th>target</th>\n",
       "      <th>text</th>\n",
       "      <th>tokens</th>\n",
       "      <th>tokens_str</th>\n",
       "    </tr>\n",
       "  </thead>\n",
       "  <tbody>\n",
       "    <tr>\n",
       "      <th>0</th>\n",
       "      <td>ORAL</td>\n",
       "      <td>DOSAGE Adults- Take 4 or 6 Pellets by mouth, t...</td>\n",
       "      <td>[adults, take, pellets, mouth, three, times, d...</td>\n",
       "      <td>adults take pellets mouth three times daily su...</td>\n",
       "    </tr>\n",
       "    <tr>\n",
       "      <th>1</th>\n",
       "      <td>ORAL</td>\n",
       "      <td>DIRECTIONS Adults: Dissolve 3 to 5 under the t...</td>\n",
       "      <td>[adults, dissolve, tongue, three, times, day, ...</td>\n",
       "      <td>adults dissolve tongue three times day directe...</td>\n",
       "    </tr>\n",
       "    <tr>\n",
       "      <th>2</th>\n",
       "      <td>OTHER</td>\n",
       "      <td>DOSAGE AND ADMINISTRATION The recommended dosa...</td>\n",
       "      <td>[recommended, regimen, treatment, bacterial, c...</td>\n",
       "      <td>recommended regimen treatment bacterial conjun...</td>\n",
       "    </tr>\n",
       "    <tr>\n",
       "      <th>3</th>\n",
       "      <td>ORAL</td>\n",
       "      <td>2 DOSAGE AND ADMINISTRATION Use the lowest eff...</td>\n",
       "      <td>[use, lowest, effective, shortest, duration, c...</td>\n",
       "      <td>use lowest effective shortest duration consist...</td>\n",
       "    </tr>\n",
       "    <tr>\n",
       "      <th>4</th>\n",
       "      <td>TOPICAL</td>\n",
       "      <td>Directions wet face, apply to hand, massage fa...</td>\n",
       "      <td>[wet, face, apply, hand, massage, face, gently...</td>\n",
       "      <td>wet face apply hand massage face gently rinse ...</td>\n",
       "    </tr>\n",
       "  </tbody>\n",
       "</table>\n",
       "</div>"
      ],
      "text/plain": [
       "    target                                               text  \\\n",
       "0     ORAL  DOSAGE Adults- Take 4 or 6 Pellets by mouth, t...   \n",
       "1     ORAL  DIRECTIONS Adults: Dissolve 3 to 5 under the t...   \n",
       "2    OTHER  DOSAGE AND ADMINISTRATION The recommended dosa...   \n",
       "3     ORAL  2 DOSAGE AND ADMINISTRATION Use the lowest eff...   \n",
       "4  TOPICAL  Directions wet face, apply to hand, massage fa...   \n",
       "\n",
       "                                              tokens  \\\n",
       "0  [adults, take, pellets, mouth, three, times, d...   \n",
       "1  [adults, dissolve, tongue, three, times, day, ...   \n",
       "2  [recommended, regimen, treatment, bacterial, c...   \n",
       "3  [use, lowest, effective, shortest, duration, c...   \n",
       "4  [wet, face, apply, hand, massage, face, gently...   \n",
       "\n",
       "                                          tokens_str  \n",
       "0  adults take pellets mouth three times daily su...  \n",
       "1  adults dissolve tongue three times day directe...  \n",
       "2  recommended regimen treatment bacterial conjun...  \n",
       "3  use lowest effective shortest duration consist...  \n",
       "4  wet face apply hand massage face gently rinse ...  "
      ]
     },
     "execution_count": 7,
     "metadata": {},
     "output_type": "execute_result"
    }
   ],
   "source": [
    "## Covnert final tokens column in df into a list of key-value pairs containing text tokens (as string) and \n",
    "## the target variable\n",
    "\n",
    "df['tokens_str'] = df.apply(lambda row : (' '.join(row['tokens'])), axis = 1)\n",
    "df.head()"
   ]
  },
  {
   "cell_type": "code",
   "execution_count": 8,
   "id": "3f4a8077",
   "metadata": {},
   "outputs": [
    {
     "data": {
      "text/plain": [
       "[['dose prazosin hydrochloride capsules adjusted according patient’s individual blood pressure response following guide initial dose mg two three times day see warnings maintenance dose may slowly increased total daily dose mg given divided doses therapeutic dosages commonly employed ranged mg mg daily given divided doses doses higher mg usually increase efficacy however patients may benefit increases daily dose mg given divided doses initial titration patients maintained adequately twice daily regimen use drugs adding diuretic antihypertensive agent dose prazosin hydrochloride capsules reduced mg mg three times day retitration carried concomitant prazosin hydrochloride capsules pde inhibitor result additive blood pressure lowering effects symptomatic hypotension therefore pde inhibitor therapy initiated lowest dose patients taking prazosin hydrochloride capsules',\n",
       "  'ORAL'],\n",
       " ['parenteral intramuscular im intravenous iv subcutaneous sc routes may used disease exceptionally severe gastrointestinal absorption may known impaired usual therapeutic — adults children regardless age mg daily resistant cases may require larger doses maintenance level clinical symptoms subsided blood picture become normal maintenance level used ie mg infants mg children four years age mg adults children four years age mg pregnant lactating women per day never less mg per day patient kept close supervision adjustment maintenance level made relapse appears imminent presence alcoholism hemolytic anemia anticonvulsant therapy chronic infection maintenance level may need increased parenteral drug products inspected visually particulate matter discoloration prior whenever solution container permit',\n",
       "  'INTRAMUSCULAR'],\n",
       " ['exceed recommended age dose adults children years age older teaspoonful ml every hours exceed teaspoonfuls ml hour period directed doctor children years age ½ teaspoonful ml every hours exceed teaspoonfuls ml hour period directed doctor children years age consult doctor',\n",
       "  'ORAL'],\n",
       " ['take directed see overdose warning adults children years take tablets every hours symptoms last take tablets hours unless directed doctor use days unless directed doctor children years ask doctor',\n",
       "  'ORAL'],\n",
       " ['apply underarms', 'TOPICAL']]"
      ]
     },
     "execution_count": 8,
     "metadata": {},
     "output_type": "execute_result"
    }
   ],
   "source": [
    "drugs_data = []\n",
    "\n",
    "for i in range(len(df)):\n",
    "    tokens = df['tokens_str'][i]\n",
    "    target = df['target'][i]\n",
    "    \n",
    "    drugs_data.append([tokens, target])\n",
    "\n",
    "random.choices(drugs_data,k=5)"
   ]
  },
  {
   "cell_type": "code",
   "execution_count": 9,
   "id": "61c10f9d",
   "metadata": {},
   "outputs": [
    {
     "name": "stdout",
     "output_type": "stream",
     "text": [
      "With a word cutoff of 5, we have 15823 as features in the model.\n"
     ]
    }
   ],
   "source": [
    "word_cutoff = 5\n",
    "tokens = [w for t, p in drugs_data for w in t.split()]\n",
    "word_dist = nltk.FreqDist(tokens)\n",
    "feature_words = set()\n",
    "\n",
    "\n",
    "for word, count in word_dist.items() :\n",
    "    if count > word_cutoff :\n",
    "        feature_words.add(word)\n",
    "print(f\"With a word cutoff of {word_cutoff}, we have {len(feature_words)} as features in the model.\")"
   ]
  },
  {
   "cell_type": "code",
   "execution_count": 10,
   "id": "2a7939cc",
   "metadata": {},
   "outputs": [],
   "source": [
    "def tokenize(text) :\n",
    "    \"\"\" Splitting on whitespace. \"\"\"\n",
    "    \n",
    "    tk = WhitespaceTokenizer()\n",
    "    final_text = tk.tokenize(text)\n",
    "    \n",
    "    return(final_text)\n",
    "\n",
    "\n",
    "\n",
    "def drugs_features(text,fw) :\n",
    "    \"\"\"Given some text, this returns a dictionary holding the\n",
    "    feature words.\n",
    "    Args:\n",
    "    * text: a piece of text in a continuous string. Assumes\n",
    "    text has been cleaned and case folded.\n",
    "    * fw: the *feature words* that we're considering. A word\n",
    "    in `text` must be in fw in order to be returned. This\n",
    "    prevents us from considering very rarely occurring words.\n",
    "    Returns:\n",
    "    A dictionary with the words in `text` that appear in `fw`.\n",
    "    Words are only counted once.\n",
    "    If `text` were \"quick quick brown fox\" and `fw` = {'quick','fox','jumps'},\n",
    "    then this would return a dictionary of\n",
    "    {'quick' : True,\n",
    "    'fox' : True}\n",
    "    \"\"\"\n",
    "    dict_list =[]\n",
    "    tokens = tokenize(text)\n",
    "\n",
    "    for i in tokens:\n",
    "        if i in fw:\n",
    "            dict_list.append([i, True])\n",
    "\n",
    "    ret_dict = dict(dict_list)\n",
    "    return(ret_dict)"
   ]
  },
  {
   "cell_type": "code",
   "execution_count": 11,
   "id": "b0346cc1",
   "metadata": {},
   "outputs": [],
   "source": [
    "featuresets = [(drugs_features(text,feature_words), target) for (text, target) in drugs_data]"
   ]
  },
  {
   "cell_type": "markdown",
   "id": "ccde5343",
   "metadata": {},
   "source": [
    "# Classifier - Modeling"
   ]
  },
  {
   "cell_type": "code",
   "execution_count": 12,
   "id": "376e79f7",
   "metadata": {},
   "outputs": [],
   "source": [
    "random.seed(20220507)\n",
    "random.shuffle(featuresets)\n",
    "test_size = 500"
   ]
  },
  {
   "cell_type": "code",
   "execution_count": 13,
   "id": "4b0d3ee2",
   "metadata": {},
   "outputs": [
    {
     "name": "stdout",
     "output_type": "stream",
     "text": [
      "0.69\n"
     ]
    }
   ],
   "source": [
    "test_set, train_set = featuresets[:test_size], featuresets[test_size:]\n",
    "classifier = nltk.NaiveBayesClassifier.train(train_set)\n",
    "print(nltk.classify.accuracy(classifier, test_set))"
   ]
  },
  {
   "cell_type": "code",
   "execution_count": 14,
   "id": "93ef85e5",
   "metadata": {},
   "outputs": [
    {
     "name": "stdout",
     "output_type": "stream",
     "text": [
      "Most Informative Features\n",
      "                  stable = True           INTRAV : TOPICA =   5801.7 : 1.0\n",
      "                      iv = True           INTRAM : TOPICA =   5709.5 : 1.0\n",
      "                 reapply = True           TOPICA : ORAL   =   5660.6 : 1.0\n",
      "                swimming = True           TOPICA : ORAL   =   5473.7 : 1.0\n",
      "                injected = True           INTRAM : TOPICA =   5427.0 : 1.0\n",
      "                 diluted = True           INTRAV : TOPICA =   5359.2 : 1.0\n",
      "                   aging = True           TOPICA : ORAL   =   4955.3 : 1.0\n",
      "                spectrum = True           TOPICA : ORAL   =   4588.2 : 1.0\n",
      "          reconstitution = True           INTRAV : TOPICA =   4500.2 : 1.0\n",
      "                lactated = True           INTRAV : TOPICA =   4363.5 : 1.0\n",
      "          individualized = True           INTRAM : TOPICA =   4189.6 : 1.0\n",
      "                 divided = True           INTRAM : TOPICA =   4068.6 : 1.0\n",
      "                     rub = True           TOPICA : ORAL   =   4055.8 : 1.0\n",
      "                 tablets = True             ORAL : TOPICA =   3528.2 : 1.0\n",
      "                     sun = True           TOPICA : ORAL   =   3445.7 : 1.0\n",
      "                  caries = True           DENTAL : ORAL   =   3420.3 : 1.0\n",
      "            refrigerated = True           INTRAV : TOPICA =   3309.2 : 1.0\n",
      "                   acute = True           INTRAM : TOPICA =   3304.6 : 1.0\n",
      "           precipitation = True           INTRAM : TOPICA =   3261.6 : 1.0\n",
      "           postoperative = True           INTRAM : TOPICA =   3059.8 : 1.0\n",
      "                    bags = True           INTRAV : TOPICA =   2977.3 : 1.0\n",
      "                 hepatic = True           INTRAV : TOPICA =   2873.2 : 1.0\n",
      "                   heart = True           INTRAV : TOPICA =   2847.2 : 1.0\n",
      "                  fluids = True           INTRAV : TOPICA =   2827.7 : 1.0\n",
      "           discoloration = True           INTRAV : TOPICA =   2787.8 : 1.0\n"
     ]
    }
   ],
   "source": [
    "classifier.show_most_informative_features(25)"
   ]
  },
  {
   "cell_type": "code",
   "execution_count": 15,
   "id": "6ce37388",
   "metadata": {},
   "outputs": [
    {
     "data": {
      "text/plain": [
       "['ORAL', 'OTHER', 'TOPICAL', 'INTRAVENOUS', 'INTRAMUSCULAR', 'DENTAL']"
      ]
     },
     "execution_count": 15,
     "metadata": {},
     "output_type": "execute_result"
    }
   ],
   "source": [
    "list(df['target'].unique())"
   ]
  },
  {
   "cell_type": "code",
   "execution_count": 16,
   "id": "8585defe",
   "metadata": {},
   "outputs": [],
   "source": [
    "# dictionary of counts by actual drug category vs. predicted / classified. \n",
    "# first key is actual, second is estimated\n",
    "drug_types = list(df['target'].unique())\n",
    "results = defaultdict(lambda: defaultdict(int))\n",
    "\n",
    "for d in drug_types :\n",
    "    for d1 in drug_types :\n",
    "        results[d][d1] = 0\n",
    "        \n",
    "random.shuffle(drugs_data)\n",
    "\n",
    "for idx, dd in enumerate(drugs_data) :\n",
    "    text, target = dd\n",
    "    estimated_party = classifier.classify(drugs_features(text, feature_words))\n",
    "    results[target][estimated_party] += 1"
   ]
  },
  {
   "cell_type": "code",
   "execution_count": 17,
   "id": "493e3ea0",
   "metadata": {},
   "outputs": [
    {
     "data": {
      "text/plain": [
       "defaultdict(<function __main__.<lambda>()>,\n",
       "            {'ORAL': defaultdict(int,\n",
       "                         {'ORAL': 29475,\n",
       "                          'OTHER': 375,\n",
       "                          'TOPICAL': 11,\n",
       "                          'INTRAVENOUS': 10623,\n",
       "                          'INTRAMUSCULAR': 5668,\n",
       "                          'DENTAL': 563}),\n",
       "             'OTHER': defaultdict(int,\n",
       "                         {'ORAL': 406,\n",
       "                          'OTHER': 3346,\n",
       "                          'TOPICAL': 104,\n",
       "                          'INTRAVENOUS': 920,\n",
       "                          'INTRAMUSCULAR': 463,\n",
       "                          'DENTAL': 6}),\n",
       "             'TOPICAL': defaultdict(int,\n",
       "                         {'ORAL': 249,\n",
       "                          'OTHER': 3112,\n",
       "                          'TOPICAL': 22266,\n",
       "                          'INTRAVENOUS': 1417,\n",
       "                          'INTRAMUSCULAR': 788,\n",
       "                          'DENTAL': 140}),\n",
       "             'INTRAVENOUS': defaultdict(int,\n",
       "                         {'ORAL': 0,\n",
       "                          'OTHER': 2,\n",
       "                          'TOPICAL': 0,\n",
       "                          'INTRAVENOUS': 2755,\n",
       "                          'INTRAMUSCULAR': 111,\n",
       "                          'DENTAL': 0}),\n",
       "             'INTRAMUSCULAR': defaultdict(int,\n",
       "                         {'ORAL': 0,\n",
       "                          'OTHER': 0,\n",
       "                          'TOPICAL': 0,\n",
       "                          'INTRAVENOUS': 45,\n",
       "                          'INTRAMUSCULAR': 1339,\n",
       "                          'DENTAL': 0}),\n",
       "             'DENTAL': defaultdict(int,\n",
       "                         {'ORAL': 75,\n",
       "                          'OTHER': 27,\n",
       "                          'TOPICAL': 4,\n",
       "                          'INTRAVENOUS': 11,\n",
       "                          'INTRAMUSCULAR': 7,\n",
       "                          'DENTAL': 1279})})"
      ]
     },
     "execution_count": 17,
     "metadata": {},
     "output_type": "execute_result"
    }
   ],
   "source": [
    "results"
   ]
  },
  {
   "cell_type": "markdown",
   "id": "b7cd1123",
   "metadata": {},
   "source": [
    "# Output Model -> Pickle"
   ]
  },
  {
   "cell_type": "code",
   "execution_count": 19,
   "id": "ce9a900f",
   "metadata": {},
   "outputs": [],
   "source": [
    "## Trained model now being output to pickle file - allowing it to be applied to new test cases in Dash app.\n",
    "with open('../models/classifier.pkl', 'wb') as f:\n",
    "    pickle.dump(classifier, f)\n",
    "with open('../models/classifier_features.pkl', 'wb') as f:\n",
    "    pickle.dump(feature_words, f)"
   ]
  },
  {
   "cell_type": "code",
   "execution_count": null,
   "id": "6ad4f86b-fac6-4ff7-b277-702aefeb91b4",
   "metadata": {},
   "outputs": [],
   "source": []
  }
 ],
 "metadata": {
  "kernelspec": {
   "display_name": "Python 3 (ipykernel)",
   "language": "python",
   "name": "python3"
  },
  "language_info": {
   "codemirror_mode": {
    "name": "ipython",
    "version": 3
   },
   "file_extension": ".py",
   "mimetype": "text/x-python",
   "name": "python",
   "nbconvert_exporter": "python",
   "pygments_lexer": "ipython3",
   "version": "3.10.7"
  }
 },
 "nbformat": 4,
 "nbformat_minor": 5
}
